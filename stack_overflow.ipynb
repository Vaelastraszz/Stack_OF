{
  "nbformat": 4,
  "nbformat_minor": 0,
  "metadata": {
    "colab": {
      "name": "Stack_Overflow.ipynb",
      "version": "0.3.2",
      "provenance": [],
      "include_colab_link": true
    },
    "kernelspec": {
      "name": "python3",
      "display_name": "Python 3"
    }
  },
  "cells": [
    {
      "cell_type": "markdown",
      "metadata": {
        "id": "view-in-github",
        "colab_type": "text"
      },
      "source": [
        "<a href=\"https://colab.research.google.com/gist/Vaelastraszz/347aef867723cdd5e4fb410c28c1ad5b/stack_overflow.ipynb\" target=\"_parent\"><img src=\"https://colab.research.google.com/assets/colab-badge.svg\" alt=\"Open In Colab\"/></a>"
      ]
    },
    {
      "metadata": {
        "id": "3fEAIEzFfk8f",
        "colab_type": "code",
        "colab": {
          "base_uri": "https://localhost:8080/",
          "height": 122
        },
        "outputId": "d3c34cb1-8b68-4f70-cb4e-de52ee341570"
      },
      "cell_type": "code",
      "source": [
        "import sys\n",
        "import pandas as pd\n",
        "import matplotlib.pyplot as plt\n",
        "import numpy as np\n",
        "\n",
        "from google.colab import drive\n",
        "\n",
        "drive.mount('/content/gdrive')"
      ],
      "execution_count": 1,
      "outputs": [
        {
          "output_type": "stream",
          "text": [
            "Go to this URL in a browser: https://accounts.google.com/o/oauth2/auth?client_id=947318989803-6bn6qk8qdgf4n4g3pfee6491hc0brc4i.apps.googleusercontent.com&redirect_uri=urn%3Aietf%3Awg%3Aoauth%3A2.0%3Aoob&scope=email%20https%3A%2F%2Fwww.googleapis.com%2Fauth%2Fdocs.test%20https%3A%2F%2Fwww.googleapis.com%2Fauth%2Fdrive%20https%3A%2F%2Fwww.googleapis.com%2Fauth%2Fdrive.photos.readonly%20https%3A%2F%2Fwww.googleapis.com%2Fauth%2Fpeopleapi.readonly&response_type=code\n",
            "\n",
            "Enter your authorization code:\n",
            "··········\n",
            "Mounted at /content/gdrive\n"
          ],
          "name": "stdout"
        }
      ]
    },
    {
      "metadata": {
        "id": "uU15dHJ-f_MB",
        "colab_type": "code",
        "colab": {}
      },
      "cell_type": "code",
      "source": [
        "raw_post = pd.read_csv(\"/content/gdrive/My Drive/Stack_OF/QueryResults.csv\")"
      ],
      "execution_count": 0,
      "outputs": []
    },
    {
      "metadata": {
        "id": "tihdFuzFiCWv",
        "colab_type": "code",
        "colab": {}
      },
      "cell_type": "code",
      "source": [
        "pd.options.display.max_columns = None"
      ],
      "execution_count": 0,
      "outputs": []
    },
    {
      "metadata": {
        "id": "BhFoZL7kiKFy",
        "colab_type": "code",
        "colab": {
          "base_uri": "https://localhost:8080/",
          "height": 547
        },
        "outputId": "9d3c334a-659b-4889-ed8d-c87a875e02f1"
      },
      "cell_type": "code",
      "source": [
        "raw_post.head()"
      ],
      "execution_count": 4,
      "outputs": [
        {
          "output_type": "execute_result",
          "data": {
            "text/html": [
              "<div>\n",
              "<style scoped>\n",
              "    .dataframe tbody tr th:only-of-type {\n",
              "        vertical-align: middle;\n",
              "    }\n",
              "\n",
              "    .dataframe tbody tr th {\n",
              "        vertical-align: top;\n",
              "    }\n",
              "\n",
              "    .dataframe thead th {\n",
              "        text-align: right;\n",
              "    }\n",
              "</style>\n",
              "<table border=\"1\" class=\"dataframe\">\n",
              "  <thead>\n",
              "    <tr style=\"text-align: right;\">\n",
              "      <th></th>\n",
              "      <th>Id</th>\n",
              "      <th>PostTypeId</th>\n",
              "      <th>AcceptedAnswerId</th>\n",
              "      <th>ParentId</th>\n",
              "      <th>CreationDate</th>\n",
              "      <th>DeletionDate</th>\n",
              "      <th>Score</th>\n",
              "      <th>ViewCount</th>\n",
              "      <th>Body</th>\n",
              "      <th>OwnerUserId</th>\n",
              "      <th>OwnerDisplayName</th>\n",
              "      <th>LastEditorUserId</th>\n",
              "      <th>LastEditorDisplayName</th>\n",
              "      <th>LastEditDate</th>\n",
              "      <th>LastActivityDate</th>\n",
              "      <th>Title</th>\n",
              "      <th>Tags</th>\n",
              "      <th>AnswerCount</th>\n",
              "      <th>CommentCount</th>\n",
              "      <th>FavoriteCount</th>\n",
              "      <th>ClosedDate</th>\n",
              "      <th>CommunityOwnedDate</th>\n",
              "    </tr>\n",
              "  </thead>\n",
              "  <tbody>\n",
              "    <tr>\n",
              "      <th>0</th>\n",
              "      <td>4</td>\n",
              "      <td>1</td>\n",
              "      <td>7.0</td>\n",
              "      <td>NaN</td>\n",
              "      <td>2008-07-31 21:42:52</td>\n",
              "      <td>NaN</td>\n",
              "      <td>605</td>\n",
              "      <td>39296.0</td>\n",
              "      <td>&lt;p&gt;I want to use a track-bar to change a form'...</td>\n",
              "      <td>8.0</td>\n",
              "      <td>NaN</td>\n",
              "      <td>6786713.0</td>\n",
              "      <td>Rich B</td>\n",
              "      <td>2018-07-02 17:55:27</td>\n",
              "      <td>2019-01-17 13:39:48</td>\n",
              "      <td>Convert Decimal to Double?</td>\n",
              "      <td>&lt;c#&gt;&lt;floating-point&gt;&lt;type-conversion&gt;&lt;double&gt;&lt;...</td>\n",
              "      <td>13.0</td>\n",
              "      <td>2</td>\n",
              "      <td>46.0</td>\n",
              "      <td>NaN</td>\n",
              "      <td>2012-10-31 16:42:47</td>\n",
              "    </tr>\n",
              "    <tr>\n",
              "      <th>1</th>\n",
              "      <td>6</td>\n",
              "      <td>1</td>\n",
              "      <td>31.0</td>\n",
              "      <td>NaN</td>\n",
              "      <td>2008-07-31 22:08:08</td>\n",
              "      <td>NaN</td>\n",
              "      <td>274</td>\n",
              "      <td>17393.0</td>\n",
              "      <td>&lt;p&gt;I have an absolutely positioned &lt;code&gt;div&lt;/...</td>\n",
              "      <td>9.0</td>\n",
              "      <td>NaN</td>\n",
              "      <td>63550.0</td>\n",
              "      <td>Rich B</td>\n",
              "      <td>2016-03-19 06:05:48</td>\n",
              "      <td>2018-12-15 03:57:18</td>\n",
              "      <td>Percentage width child element in absolutely p...</td>\n",
              "      <td>&lt;html&gt;&lt;css&gt;&lt;css3&gt;&lt;internet-explorer-7&gt;</td>\n",
              "      <td>6.0</td>\n",
              "      <td>0</td>\n",
              "      <td>11.0</td>\n",
              "      <td>NaN</td>\n",
              "      <td>NaN</td>\n",
              "    </tr>\n",
              "    <tr>\n",
              "      <th>2</th>\n",
              "      <td>7</td>\n",
              "      <td>2</td>\n",
              "      <td>NaN</td>\n",
              "      <td>4.0</td>\n",
              "      <td>2008-07-31 22:17:57</td>\n",
              "      <td>NaN</td>\n",
              "      <td>419</td>\n",
              "      <td>NaN</td>\n",
              "      <td>&lt;p&gt;An explicit cast to double like this isn't ...</td>\n",
              "      <td>9.0</td>\n",
              "      <td>NaN</td>\n",
              "      <td>4020527.0</td>\n",
              "      <td>NaN</td>\n",
              "      <td>2017-12-16 05:06:57</td>\n",
              "      <td>2017-12-16 05:06:57</td>\n",
              "      <td>NaN</td>\n",
              "      <td>NaN</td>\n",
              "      <td>NaN</td>\n",
              "      <td>0</td>\n",
              "      <td>NaN</td>\n",
              "      <td>NaN</td>\n",
              "      <td>NaN</td>\n",
              "    </tr>\n",
              "    <tr>\n",
              "      <th>3</th>\n",
              "      <td>9</td>\n",
              "      <td>1</td>\n",
              "      <td>1404.0</td>\n",
              "      <td>NaN</td>\n",
              "      <td>2008-07-31 23:40:59</td>\n",
              "      <td>NaN</td>\n",
              "      <td>1743</td>\n",
              "      <td>522602.0</td>\n",
              "      <td>&lt;p&gt;Given a &lt;code&gt;DateTime&lt;/code&gt; representing ...</td>\n",
              "      <td>1.0</td>\n",
              "      <td>NaN</td>\n",
              "      <td>3956566.0</td>\n",
              "      <td>Rich B</td>\n",
              "      <td>2018-04-21 17:48:14</td>\n",
              "      <td>2018-07-25 11:57:14</td>\n",
              "      <td>How do I calculate someone's age in C#?</td>\n",
              "      <td>&lt;c#&gt;&lt;.net&gt;&lt;datetime&gt;</td>\n",
              "      <td>63.0</td>\n",
              "      <td>7</td>\n",
              "      <td>421.0</td>\n",
              "      <td>NaN</td>\n",
              "      <td>2011-08-16 19:40:43</td>\n",
              "    </tr>\n",
              "    <tr>\n",
              "      <th>4</th>\n",
              "      <td>11</td>\n",
              "      <td>1</td>\n",
              "      <td>1248.0</td>\n",
              "      <td>NaN</td>\n",
              "      <td>2008-07-31 23:55:37</td>\n",
              "      <td>NaN</td>\n",
              "      <td>1415</td>\n",
              "      <td>143330.0</td>\n",
              "      <td>&lt;p&gt;Given a specific &lt;code&gt;DateTime&lt;/code&gt; valu...</td>\n",
              "      <td>1.0</td>\n",
              "      <td>NaN</td>\n",
              "      <td>6479704.0</td>\n",
              "      <td>user2370523</td>\n",
              "      <td>2017-06-04 15:51:19</td>\n",
              "      <td>2019-01-03 08:03:07</td>\n",
              "      <td>Calculate relative time in C#</td>\n",
              "      <td>&lt;c#&gt;&lt;datetime&gt;&lt;time&gt;&lt;datediff&gt;&lt;relative-time-s...</td>\n",
              "      <td>36.0</td>\n",
              "      <td>3</td>\n",
              "      <td>536.0</td>\n",
              "      <td>NaN</td>\n",
              "      <td>2009-09-04 13:15:59</td>\n",
              "    </tr>\n",
              "  </tbody>\n",
              "</table>\n",
              "</div>"
            ],
            "text/plain": [
              "   Id  PostTypeId  AcceptedAnswerId  ParentId         CreationDate  \\\n",
              "0   4           1               7.0       NaN  2008-07-31 21:42:52   \n",
              "1   6           1              31.0       NaN  2008-07-31 22:08:08   \n",
              "2   7           2               NaN       4.0  2008-07-31 22:17:57   \n",
              "3   9           1            1404.0       NaN  2008-07-31 23:40:59   \n",
              "4  11           1            1248.0       NaN  2008-07-31 23:55:37   \n",
              "\n",
              "   DeletionDate  Score  ViewCount  \\\n",
              "0           NaN    605    39296.0   \n",
              "1           NaN    274    17393.0   \n",
              "2           NaN    419        NaN   \n",
              "3           NaN   1743   522602.0   \n",
              "4           NaN   1415   143330.0   \n",
              "\n",
              "                                                Body  OwnerUserId  \\\n",
              "0  <p>I want to use a track-bar to change a form'...          8.0   \n",
              "1  <p>I have an absolutely positioned <code>div</...          9.0   \n",
              "2  <p>An explicit cast to double like this isn't ...          9.0   \n",
              "3  <p>Given a <code>DateTime</code> representing ...          1.0   \n",
              "4  <p>Given a specific <code>DateTime</code> valu...          1.0   \n",
              "\n",
              "  OwnerDisplayName  LastEditorUserId LastEditorDisplayName  \\\n",
              "0              NaN         6786713.0                Rich B   \n",
              "1              NaN           63550.0                Rich B   \n",
              "2              NaN         4020527.0                   NaN   \n",
              "3              NaN         3956566.0                Rich B   \n",
              "4              NaN         6479704.0           user2370523   \n",
              "\n",
              "          LastEditDate     LastActivityDate  \\\n",
              "0  2018-07-02 17:55:27  2019-01-17 13:39:48   \n",
              "1  2016-03-19 06:05:48  2018-12-15 03:57:18   \n",
              "2  2017-12-16 05:06:57  2017-12-16 05:06:57   \n",
              "3  2018-04-21 17:48:14  2018-07-25 11:57:14   \n",
              "4  2017-06-04 15:51:19  2019-01-03 08:03:07   \n",
              "\n",
              "                                               Title  \\\n",
              "0                         Convert Decimal to Double?   \n",
              "1  Percentage width child element in absolutely p...   \n",
              "2                                                NaN   \n",
              "3            How do I calculate someone's age in C#?   \n",
              "4                      Calculate relative time in C#   \n",
              "\n",
              "                                                Tags  AnswerCount  \\\n",
              "0  <c#><floating-point><type-conversion><double><...         13.0   \n",
              "1             <html><css><css3><internet-explorer-7>          6.0   \n",
              "2                                                NaN          NaN   \n",
              "3                               <c#><.net><datetime>         63.0   \n",
              "4  <c#><datetime><time><datediff><relative-time-s...         36.0   \n",
              "\n",
              "   CommentCount  FavoriteCount ClosedDate   CommunityOwnedDate  \n",
              "0             2           46.0        NaN  2012-10-31 16:42:47  \n",
              "1             0           11.0        NaN                  NaN  \n",
              "2             0            NaN        NaN                  NaN  \n",
              "3             7          421.0        NaN  2011-08-16 19:40:43  \n",
              "4             3          536.0        NaN  2009-09-04 13:15:59  "
            ]
          },
          "metadata": {
            "tags": []
          },
          "execution_count": 4
        }
      ]
    },
    {
      "metadata": {
        "id": "Ezap7HsfiMQK",
        "colab_type": "code",
        "colab": {
          "base_uri": "https://localhost:8080/",
          "height": 476
        },
        "outputId": "b5a8a204-f8c8-4add-ec9b-fdf3c599f087"
      },
      "cell_type": "code",
      "source": [
        "raw_post.info()"
      ],
      "execution_count": 6,
      "outputs": [
        {
          "output_type": "stream",
          "text": [
            "<class 'pandas.core.frame.DataFrame'>\n",
            "RangeIndex: 40161 entries, 0 to 40160\n",
            "Data columns (total 22 columns):\n",
            "Id                       40161 non-null int64\n",
            "PostTypeId               40161 non-null int64\n",
            "AcceptedAnswerId         6576 non-null float64\n",
            "ParentId                 32180 non-null float64\n",
            "CreationDate             40161 non-null object\n",
            "DeletionDate             0 non-null float64\n",
            "Score                    40161 non-null int64\n",
            "ViewCount                7981 non-null float64\n",
            "Body                     40161 non-null object\n",
            "OwnerUserId              38932 non-null float64\n",
            "OwnerDisplayName         34788 non-null object\n",
            "LastEditorUserId         15670 non-null float64\n",
            "LastEditorDisplayName    9029 non-null object\n",
            "LastEditDate             15860 non-null object\n",
            "LastActivityDate         40161 non-null object\n",
            "Title                    7981 non-null object\n",
            "Tags                     7981 non-null object\n",
            "AnswerCount              7981 non-null float64\n",
            "CommentCount             40161 non-null int64\n",
            "FavoriteCount            5656 non-null float64\n",
            "ClosedDate               1043 non-null object\n",
            "CommunityOwnedDate       2354 non-null object\n",
            "dtypes: float64(8), int64(4), object(10)\n",
            "memory usage: 6.7+ MB\n"
          ],
          "name": "stdout"
        }
      ]
    },
    {
      "metadata": {
        "id": "YhBxPCeHlmvt",
        "colab_type": "text"
      },
      "cell_type": "markdown",
      "source": [
        "<h1> Nettoyage des données </h1>"
      ]
    },
    {
      "metadata": {
        "id": "29lfyTDRlf_A",
        "colab_type": "code",
        "colab": {}
      },
      "cell_type": "code",
      "source": [
        "post = raw_post[[\"Body\", \"Title\", \"Tags\"]]"
      ],
      "execution_count": 0,
      "outputs": []
    },
    {
      "metadata": {
        "id": "yRMk-CA0o7lA",
        "colab_type": "code",
        "colab": {
          "base_uri": "https://localhost:8080/",
          "height": 204
        },
        "outputId": "a614dd65-7abf-40fd-fe35-e010e87921af"
      },
      "cell_type": "code",
      "source": [
        "post.head()"
      ],
      "execution_count": 9,
      "outputs": [
        {
          "output_type": "execute_result",
          "data": {
            "text/html": [
              "<div>\n",
              "<style scoped>\n",
              "    .dataframe tbody tr th:only-of-type {\n",
              "        vertical-align: middle;\n",
              "    }\n",
              "\n",
              "    .dataframe tbody tr th {\n",
              "        vertical-align: top;\n",
              "    }\n",
              "\n",
              "    .dataframe thead th {\n",
              "        text-align: right;\n",
              "    }\n",
              "</style>\n",
              "<table border=\"1\" class=\"dataframe\">\n",
              "  <thead>\n",
              "    <tr style=\"text-align: right;\">\n",
              "      <th></th>\n",
              "      <th>Body</th>\n",
              "      <th>Title</th>\n",
              "      <th>Tags</th>\n",
              "    </tr>\n",
              "  </thead>\n",
              "  <tbody>\n",
              "    <tr>\n",
              "      <th>0</th>\n",
              "      <td>&lt;p&gt;I want to use a track-bar to change a form'...</td>\n",
              "      <td>Convert Decimal to Double?</td>\n",
              "      <td>&lt;c#&gt;&lt;floating-point&gt;&lt;type-conversion&gt;&lt;double&gt;&lt;...</td>\n",
              "    </tr>\n",
              "    <tr>\n",
              "      <th>1</th>\n",
              "      <td>&lt;p&gt;I have an absolutely positioned &lt;code&gt;div&lt;/...</td>\n",
              "      <td>Percentage width child element in absolutely p...</td>\n",
              "      <td>&lt;html&gt;&lt;css&gt;&lt;css3&gt;&lt;internet-explorer-7&gt;</td>\n",
              "    </tr>\n",
              "    <tr>\n",
              "      <th>2</th>\n",
              "      <td>&lt;p&gt;An explicit cast to double like this isn't ...</td>\n",
              "      <td>NaN</td>\n",
              "      <td>NaN</td>\n",
              "    </tr>\n",
              "    <tr>\n",
              "      <th>3</th>\n",
              "      <td>&lt;p&gt;Given a &lt;code&gt;DateTime&lt;/code&gt; representing ...</td>\n",
              "      <td>How do I calculate someone's age in C#?</td>\n",
              "      <td>&lt;c#&gt;&lt;.net&gt;&lt;datetime&gt;</td>\n",
              "    </tr>\n",
              "    <tr>\n",
              "      <th>4</th>\n",
              "      <td>&lt;p&gt;Given a specific &lt;code&gt;DateTime&lt;/code&gt; valu...</td>\n",
              "      <td>Calculate relative time in C#</td>\n",
              "      <td>&lt;c#&gt;&lt;datetime&gt;&lt;time&gt;&lt;datediff&gt;&lt;relative-time-s...</td>\n",
              "    </tr>\n",
              "  </tbody>\n",
              "</table>\n",
              "</div>"
            ],
            "text/plain": [
              "                                                Body  \\\n",
              "0  <p>I want to use a track-bar to change a form'...   \n",
              "1  <p>I have an absolutely positioned <code>div</...   \n",
              "2  <p>An explicit cast to double like this isn't ...   \n",
              "3  <p>Given a <code>DateTime</code> representing ...   \n",
              "4  <p>Given a specific <code>DateTime</code> valu...   \n",
              "\n",
              "                                               Title  \\\n",
              "0                         Convert Decimal to Double?   \n",
              "1  Percentage width child element in absolutely p...   \n",
              "2                                                NaN   \n",
              "3            How do I calculate someone's age in C#?   \n",
              "4                      Calculate relative time in C#   \n",
              "\n",
              "                                                Tags  \n",
              "0  <c#><floating-point><type-conversion><double><...  \n",
              "1             <html><css><css3><internet-explorer-7>  \n",
              "2                                                NaN  \n",
              "3                               <c#><.net><datetime>  \n",
              "4  <c#><datetime><time><datediff><relative-time-s...  "
            ]
          },
          "metadata": {
            "tags": []
          },
          "execution_count": 9
        }
      ]
    },
    {
      "metadata": {
        "id": "e7tawU7go__J",
        "colab_type": "code",
        "colab": {}
      },
      "cell_type": "code",
      "source": [
        ""
      ],
      "execution_count": 0,
      "outputs": []
    }
  ]
}