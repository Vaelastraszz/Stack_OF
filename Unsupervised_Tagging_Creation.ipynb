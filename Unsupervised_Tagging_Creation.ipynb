{
  "nbformat": 4,
  "nbformat_minor": 0,
  "metadata": {
    "colab": {
      "name": "Unsupervised Tagging Creation.ipynb",
      "version": "0.3.2",
      "provenance": [],
      "include_colab_link": true
    },
    "kernelspec": {
      "name": "python3",
      "display_name": "Python 3"
    }
  },
  "cells": [
    {
      "cell_type": "markdown",
      "metadata": {
        "id": "view-in-github",
        "colab_type": "text"
      },
      "source": [
        "<a href=\"https://colab.research.google.com/github/Vaelastraszz/Stack_OF/blob/master/Unsupervised_Tagging_Creation.ipynb\" target=\"_parent\"><img src=\"https://colab.research.google.com/assets/colab-badge.svg\" alt=\"Open In Colab\"/></a>"
      ]
    },
    {
      "metadata": {
        "id": "GdRMiLkkizL-",
        "colab_type": "code",
        "colab": {
          "base_uri": "https://localhost:8080/",
          "height": 34
        },
        "outputId": "d3a2d08c-59b2-4426-949a-0298bec526ec"
      },
      "cell_type": "code",
      "source": [
        "import sys\n",
        "import pandas as pd\n",
        "import matplotlib.pyplot as plt\n",
        "import numpy as np\n",
        "\n",
        "from google.colab import drive\n",
        "\n",
        "drive.mount('/content/gdrive')"
      ],
      "execution_count": 1,
      "outputs": [
        {
          "output_type": "stream",
          "text": [
            "Drive already mounted at /content/gdrive; to attempt to forcibly remount, call drive.mount(\"/content/gdrive\", force_remount=True).\n"
          ],
          "name": "stdout"
        }
      ]
    },
    {
      "metadata": {
        "id": "_8TbFBJAi83Y",
        "colab_type": "code",
        "colab": {}
      },
      "cell_type": "code",
      "source": [
        "import pickle\n",
        "\n",
        "tf_idf = pickle.load(open('/content/gdrive/My Drive/Stack_OF/tf_idf.pkl','rb'))\n",
        "terms =  pickle.load(open('/content/gdrive/My Drive/Stack_OF/terms.pkl','rb'))"
      ],
      "execution_count": 0,
      "outputs": []
    },
    {
      "metadata": {
        "id": "cSZPFyMrlk9N",
        "colab_type": "code",
        "colab": {}
      },
      "cell_type": "code",
      "source": [
        "liste_p = pickle.load(open('/content/gdrive/My Drive/Stack_OF/liste_posts.pkl','rb'))"
      ],
      "execution_count": 0,
      "outputs": []
    },
    {
      "metadata": {
        "id": "iZzX3X36TpwE",
        "colab_type": "text"
      },
      "cell_type": "markdown",
      "source": [
        "Loading de toutes les instances dont nous aurons besoin pour les traitements afin de créer nos tags de manière non supervisé"
      ]
    },
    {
      "metadata": {
        "id": "JYgwaDkijPvk",
        "colab_type": "text"
      },
      "cell_type": "markdown",
      "source": [
        "<h1> Creating tags algorithm </h1>"
      ]
    },
    {
      "metadata": {
        "id": "5ieHbq7kjW4C",
        "colab_type": "text"
      },
      "cell_type": "markdown",
      "source": [
        "<h2> NMF Topics model </h2>"
      ]
    },
    {
      "metadata": {
        "id": "UPB72rUejfOw",
        "colab_type": "text"
      },
      "cell_type": "markdown",
      "source": [
        "We will use the other results from other notebooks to generate nmf matrix"
      ]
    },
    {
      "metadata": {
        "id": "a2H4MTSdjO8g",
        "colab_type": "code",
        "colab": {}
      },
      "cell_type": "code",
      "source": [
        "from sklearn.decomposition import NMF"
      ],
      "execution_count": 0,
      "outputs": []
    },
    {
      "metadata": {
        "id": "t5-YcNxejjSq",
        "colab_type": "code",
        "colab": {}
      },
      "cell_type": "code",
      "source": [
        "def display_topics(model, feature_names, no_top_words):\n",
        "    for topic_idx, topic in enumerate(model.components_):\n",
        "        print (\"Topic %d:\" % (topic_idx))\n",
        "        print (\" \".join([feature_names[i]\n",
        "                        for i in topic.argsort()[:-no_top_words - 1:-1]]))"
      ],
      "execution_count": 0,
      "outputs": []
    },
    {
      "metadata": {
        "id": "7j9jxJ1BjoQa",
        "colab_type": "code",
        "colab": {
          "base_uri": "https://localhost:8080/",
          "height": 1207
        },
        "outputId": "c32c9f0c-31b7-4d91-d3b9-939ccb60db5e"
      },
      "cell_type": "code",
      "source": [
        "no_topics = 35\n",
        "\n",
        "# Run NMF\n",
        "nmf = NMF(n_components=no_topics, random_state=1, alpha=.1, l1_ratio=.5, init='nndsvd').fit(tf_idf)\n",
        "\n",
        "no_top_words = 10\n",
        "display_topics(nmf, terms, no_top_words)"
      ],
      "execution_count": 53,
      "outputs": [
        {
          "output_type": "stream",
          "text": [
            "Topic 0:\n",
            "sql server query procedure linq client connection express statement management\n",
            "Topic 1:\n",
            "table column row query id select record sql mysql key\n",
            "Topic 2:\n",
            "file directory folder path read copy config upload script batch\n",
            "Topic 3:\n",
            "class public interface name member instance base property constructor type\n",
            "Topic 4:\n",
            "page javascript html browser site web css content link ajax\n",
            "Topic 5:\n",
            "net asp mvc framework vb web website ajax site webforms\n",
            "Topic 6:\n",
            "string character convert regex expression char match number format return\n",
            "Topic 7:\n",
            "studio debug express ide microsoft build option management designer debugger\n",
            "Topic 8:\n",
            "project build source eclipse folder svn reference repository dependency directory\n",
            "Topic 9:\n",
            "service web wcf client soap call server wsdl config site\n",
            "Topic 10:\n",
            "java eclipse library jar jvm applet lang sun api equivalent\n",
            "Topic 11:\n",
            "function call return javascript parameter argument pointer int jquery pas\n",
            "Topic 12:\n",
            "test unit nunit junit framework coverage integration mock tdd suite\n",
            "Topic 13:\n",
            "object property type reference collection instance create javascript model linq\n",
            "Topic 14:\n",
            "window xp vista linux mobile program machine command platform screen\n",
            "Topic 15:\n",
            "image png background jpg css display color pixel icon div\n",
            "Topic 16:\n",
            "control wpf property custom source button textbox panel tab winforms\n",
            "Topic 17:\n",
            "list item collection generic element sharepoint sort query menu example\n",
            "Topic 18:\n",
            "python module script library perl ruby import py django interpreter\n",
            "Topic 19:\n",
            "php mysql script apache session ini echo framework site variable\n",
            "Topic 20:\n",
            "value property key type return name null set field int\n",
            "Topic 21:\n",
            "data structure excel access read store layer report type binary\n",
            "Topic 22:\n",
            "application web app console desktop iphone config start flex rail\n",
            "Topic 23:\n",
            "user password login session authentication access account email name group\n",
            "Topic 24:\n",
            "line text command script character html search editor word tag\n",
            "Topic 25:\n",
            "database mysql access oracle schema connection db sql store connect\n",
            "Topic 26:\n",
            "xml document element node schema attribute xsl tag xslt xsd\n",
            "Topic 27:\n",
            "event handler button click fire mouse element handle log trigger\n",
            "Topic 28:\n",
            "form field button submit input post validation show box jquery\n",
            "Topic 29:\n",
            "array element byte index loop size length int sort dimensional\n",
            "Topic 30:\n",
            "method call parameter exception return extension interface type public argument\n",
            "Topic 31:\n",
            "date time format datetime day month range convert mm year\n",
            "Topic 32:\n",
            "http url com request www site example post header domain\n",
            "Topic 33:\n",
            "tool system version library time process anyone source number build\n",
            "Topic 34:\n",
            "thread exception process lock call worker multiple multi cpu ui\n"
          ],
          "name": "stdout"
        }
      ]
    },
    {
      "metadata": {
        "id": "a1smZaPqT7fF",
        "colab_type": "text"
      },
      "cell_type": "markdown",
      "source": [
        "Récupération de la matrice NMF qu'on a créer dans notre partie preprocessing "
      ]
    },
    {
      "metadata": {
        "id": "UglTLUuLTz_G",
        "colab_type": "text"
      },
      "cell_type": "markdown",
      "source": [
        "<h2> Création des fonctions de tagging pertinents </h2>"
      ]
    },
    {
      "metadata": {
        "id": "hBqBxqAjj59c",
        "colab_type": "code",
        "colab": {
          "base_uri": "https://localhost:8080/",
          "height": 54
        },
        "outputId": "141bc4fd-e9f0-4197-de7b-772269c6b343"
      },
      "cell_type": "code",
      "source": [
        "liste_p[1]"
      ],
      "execution_count": 56,
      "outputs": [
        {
          "output_type": "execute_result",
          "data": {
            "text/plain": [
              "\"Percentage width child element in absolutely positioned parent on Internet Explorer 7 I have an absolutely positioned  containing several children, one of which is a relatively positioned . When I use a percentage-based width on the child , it collapses to '0' width on Internet\\xa0Explorer\\xa07, but not on Firefox or Safari.\\nIf I use pixel width, it works. If the parent is relatively positioned, the percentage width on the child works.\\n\\nIs there something I'm missing here?\\nIs there an easy fix for this besides the pixel-based width on the\\nchild?\\nIs there an area of the CSS specification that covers this?\\n\\n\""
            ]
          },
          "metadata": {
            "tags": []
          },
          "execution_count": 56
        }
      ]
    },
    {
      "metadata": {
        "id": "w1ibp8bhn20i",
        "colab_type": "code",
        "colab": {}
      },
      "cell_type": "code",
      "source": [
        "import itertools\n",
        "\n",
        "def get_tags_index(j):\n",
        "    \n",
        "    id_tag = []\n",
        "        \n",
        "    for i in np.nonzero(nmf.transform(tf_idf[j].toarray()))[1]:\n",
        "        id_tag.append(np.intersect1d(np.argsort(nmf.components_[i])[:-10 - 1:-1], np.nonzero(tf_idf[j].toarray())).tolist())\n",
        "    \n",
        "    \n",
        "    return list(set(list(itertools.chain.from_iterable(id_tag))))"
      ],
      "execution_count": 0,
      "outputs": []
    },
    {
      "metadata": {
        "id": "wnlCVogvgBTf",
        "colab_type": "code",
        "colab": {}
      },
      "cell_type": "code",
      "source": [
        "def get_tags_name(liste):\n",
        "    \n",
        "    tags_name = []\n",
        "    \n",
        "    for i in range(len(liste)):\n",
        "        \n",
        "        tags_name.append(terms[liste[i]] if terms[liste[i]] != \"net\" else \".net\"  )\n",
        "    \n",
        "    return tags_name"
      ],
      "execution_count": 0,
      "outputs": []
    },
    {
      "metadata": {
        "id": "9VytEnAoUCAY",
        "colab_type": "text"
      },
      "cell_type": "markdown",
      "source": [
        "Création d'un duo de fonction permettant de suggérer les tags les plus pertinents possibles de la manière suivante.\n",
        "Dans un premier temps on va récupérer l'ensemble des topics auxquels le post est suceptible d'appartenir, ensuite on va générer une instersection entre le vecteur tf_idf du post en question et avec le vecteur du topics auquel il est suceptible d'appartenir en récupérant uniquement les top 10 mots les plus représentants du topics. Ainsi si un ou plusieurs des tops mots du topic auquel le post est suceptible d'appartenir est présent dans le post on le fera ressortir. On effectue cette action pour tous les topics ayant une probabilité > 0 de représenter le post en question. \n",
        "On va dédoublonner et mettre dans une seule liste tous ces tags. \n",
        "On appliquera ces deux fonction sur tous les posts pour ainsi générer une liste de tags pour chaque post."
      ]
    },
    {
      "metadata": {
        "id": "bKbDyp1yJ7hq",
        "colab_type": "code",
        "colab": {}
      },
      "cell_type": "code",
      "source": [
        "test_list = []\n",
        "\n",
        "for i in range(0,50):\n",
        "    test_list.append (get_tags_name(get_tags_index(i)))"
      ],
      "execution_count": 0,
      "outputs": []
    },
    {
      "metadata": {
        "id": "gD5O2v3-VArR",
        "colab_type": "text"
      },
      "cell_type": "markdown",
      "source": [
        "Test de la fonction sur les 50 premières instances de la liste de posts de la DB"
      ]
    },
    {
      "metadata": {
        "id": "30kMQBnFYcyP",
        "colab_type": "code",
        "colab": {
          "base_uri": "https://localhost:8080/",
          "height": 5848
        },
        "outputId": "8c6e69bb-36ab-4c17-cd9b-a473e08a79c1"
      },
      "cell_type": "code",
      "source": [
        "test_list"
      ],
      "execution_count": 66,
      "outputs": [
        {
          "output_type": "execute_result",
          "data": {
            "text/plain": [
              "[['build',\n",
              "  'project',\n",
              "  'vb',\n",
              "  'type',\n",
              "  '.net',\n",
              "  'control',\n",
              "  'form',\n",
              "  'application',\n",
              "  'convert'],\n",
              " ['pixel', 'css', 'element'],\n",
              " ['year'],\n",
              " ['value', 'month', 'time', 'day', 'display'],\n",
              " ['page', 'string', 'header', 'server', 'user', 'http', 'web'],\n",
              " ['.net'],\n",
              " ['public',\n",
              "  'web',\n",
              "  'set',\n",
              "  'string',\n",
              "  'linq',\n",
              "  'return',\n",
              "  'query',\n",
              "  'select',\n",
              "  'service'],\n",
              " ['mysql', 'data', 'binary', 'store'],\n",
              " ['version',\n",
              "  'value',\n",
              "  'build',\n",
              "  'system',\n",
              "  'number',\n",
              "  'time',\n",
              "  'int',\n",
              "  'return',\n",
              "  'test'],\n",
              " ['mysql', 'trigger', 'table'],\n",
              " ['line',\n",
              "  'name',\n",
              "  'time',\n",
              "  'file',\n",
              "  'api',\n",
              "  'type',\n",
              "  'object',\n",
              "  'int',\n",
              "  'return',\n",
              "  'test'],\n",
              " ['int', 'length', 'null'],\n",
              " ['data',\n",
              "  'value',\n",
              "  'database',\n",
              "  'row',\n",
              "  'server',\n",
              "  'table',\n",
              "  'structure',\n",
              "  'schema',\n",
              "  'event',\n",
              "  '.net',\n",
              "  'application',\n",
              "  'sql',\n",
              "  'function',\n",
              "  'query',\n",
              "  'select',\n",
              "  'trigger'],\n",
              " ['console',\n",
              "  'class',\n",
              "  'framework',\n",
              "  'type',\n",
              "  '.net',\n",
              "  'control',\n",
              "  'thread',\n",
              "  'application'],\n",
              " ['interface', 'time', 'event', 'php', 'web', 'application'],\n",
              " ['page', 'submit', 'html', 'user', 'button', 'form'],\n",
              " ['collection',\n",
              "  'row',\n",
              "  'name',\n",
              "  'string',\n",
              "  'linq',\n",
              "  'column',\n",
              "  'list',\n",
              "  'query',\n",
              "  'select'],\n",
              " ['upload',\n",
              "  'microsoft',\n",
              "  'anyone',\n",
              "  'list',\n",
              "  'file',\n",
              "  'type',\n",
              "  'form',\n",
              "  'extension',\n",
              "  'character'],\n",
              " ['page', 'linq', 'collection'],\n",
              " ['ruby', 'format'],\n",
              " ['version', 'equivalent', 'anyone', 'eclipse', 'site'],\n",
              " ['call',\n",
              "  'script',\n",
              "  'public',\n",
              "  'read',\n",
              "  'statement',\n",
              "  'text',\n",
              "  'database',\n",
              "  'string',\n",
              "  'method',\n",
              "  'file',\n",
              "  'sql',\n",
              "  'function',\n",
              "  'query',\n",
              "  'application'],\n",
              " ['database', 'framework', 'structure', 'file', 'php', 'sql', 'query'],\n",
              " ['program', 'null', 'linux', 'process', 'return', 'machine'],\n",
              " ['client', 'apache'],\n",
              " ['system', 'com', 'process', '.net', 'application'],\n",
              " ['version',\n",
              "  'text',\n",
              "  'build',\n",
              "  'control',\n",
              "  'anyone',\n",
              "  'source',\n",
              "  'time',\n",
              "  'studio',\n",
              "  'window',\n",
              "  'vista',\n",
              "  'svn',\n",
              "  'editor',\n",
              "  'screen'],\n",
              " ['method',\n",
              "  'system',\n",
              "  'tool',\n",
              "  'loop',\n",
              "  '.net',\n",
              "  'return',\n",
              "  'string',\n",
              "  'vb',\n",
              "  'byte',\n",
              "  'array',\n",
              "  'server',\n",
              "  'text',\n",
              "  'binary',\n",
              "  'length',\n",
              "  'type',\n",
              "  'sql',\n",
              "  'convert',\n",
              "  'character',\n",
              "  'time',\n",
              "  'command',\n",
              "  'format',\n",
              "  'site',\n",
              "  'web'],\n",
              " ['page',\n",
              "  'system',\n",
              "  'anyone',\n",
              "  'user',\n",
              "  'file',\n",
              "  'asp',\n",
              "  'xml',\n",
              "  '.net',\n",
              "  'control',\n",
              "  'sql',\n",
              "  'site'],\n",
              " ['data',\n",
              "  'row',\n",
              "  'column',\n",
              "  'file',\n",
              "  'xml',\n",
              "  'tag',\n",
              "  'java',\n",
              "  'app',\n",
              "  'library',\n",
              "  'application',\n",
              "  'convert'],\n",
              " ['public',\n",
              "  'method',\n",
              "  'variable',\n",
              "  'string',\n",
              "  'property',\n",
              "  'java',\n",
              "  'object',\n",
              "  'php'],\n",
              " ['mysql',\n",
              "  'base',\n",
              "  'data',\n",
              "  'database',\n",
              "  'statement',\n",
              "  'row',\n",
              "  'set',\n",
              "  'copy',\n",
              "  'string',\n",
              "  'create',\n",
              "  'tool',\n",
              "  'table',\n",
              "  'key',\n",
              "  'call',\n",
              "  'type',\n",
              "  'procedure',\n",
              "  'connect',\n",
              "  'sql',\n",
              "  'db',\n",
              "  'server'],\n",
              " ['page',\n",
              "  'data',\n",
              "  'store',\n",
              "  'database',\n",
              "  'id',\n",
              "  'set',\n",
              "  'name',\n",
              "  'xsd',\n",
              "  'column',\n",
              "  'tool',\n",
              "  'table',\n",
              "  'key',\n",
              "  'schema',\n",
              "  '.net',\n",
              "  'sql',\n",
              "  'server',\n",
              "  'application'],\n",
              " ['file', 'folder'],\n",
              " ['log',\n",
              "  'method',\n",
              "  'link',\n",
              "  'number',\n",
              "  'time',\n",
              "  'server',\n",
              "  'user',\n",
              "  'file',\n",
              "  'click',\n",
              "  'javascript',\n",
              "  'web',\n",
              "  'start'],\n",
              " ['version',\n",
              "  'project',\n",
              "  'number',\n",
              "  'asp',\n",
              "  'window',\n",
              "  '.net',\n",
              "  'svn',\n",
              "  'form',\n",
              "  'site',\n",
              "  'web'],\n",
              " ['html', 'user', 'window', 'browser', 'client', 'site', 'web', 'xp'],\n",
              " ['data',\n",
              "  'version',\n",
              "  'collection',\n",
              "  'database',\n",
              "  'anyone',\n",
              "  'user',\n",
              "  'type',\n",
              "  'control',\n",
              "  'sql',\n",
              "  'server',\n",
              "  'test'],\n",
              " ['page',\n",
              "  'start',\n",
              "  'script',\n",
              "  'public',\n",
              "  'ui',\n",
              "  'url',\n",
              "  'string',\n",
              "  'null',\n",
              "  'control',\n",
              "  'html',\n",
              "  'document',\n",
              "  'type',\n",
              "  'object',\n",
              "  'library',\n",
              "  'thread',\n",
              "  'browser',\n",
              "  'function',\n",
              "  'web',\n",
              "  'application',\n",
              "  'service'],\n",
              " ['file', 'display', 'system', 'build'],\n",
              " ['linux', 'apache', 'file', 'php', 'server'],\n",
              " ['function', 'parameter', 'time', 'color'],\n",
              " ['browser',\n",
              "  'framework',\n",
              "  'string',\n",
              "  'number',\n",
              "  'user',\n",
              "  'window',\n",
              "  '.net',\n",
              "  'format',\n",
              "  'character'],\n",
              " ['data',\n",
              "  'script',\n",
              "  'database',\n",
              "  'path',\n",
              "  'copy',\n",
              "  'create',\n",
              "  'import',\n",
              "  'report',\n",
              "  'server',\n",
              "  'management',\n",
              "  'table',\n",
              "  'file',\n",
              "  'procedure',\n",
              "  'studio',\n",
              "  'object',\n",
              "  'connect',\n",
              "  'sql',\n",
              "  'query'],\n",
              " ['tag', 'array', 'number'],\n",
              " ['program',\n",
              "  'link',\n",
              "  'set',\n",
              "  'email',\n",
              "  'user',\n",
              "  'reference',\n",
              "  'search',\n",
              "  'button',\n",
              "  'window',\n",
              "  'click',\n",
              "  'event',\n",
              "  'client',\n",
              "  'handle'],\n",
              " ['mysql',\n",
              "  'version',\n",
              "  'statement',\n",
              "  'command',\n",
              "  'application',\n",
              "  'sql',\n",
              "  'function',\n",
              "  'server',\n",
              "  'select'],\n",
              " ['data', 'database', 'xsd', '.net'],\n",
              " ['script',\n",
              "  'public',\n",
              "  'database',\n",
              "  'class',\n",
              "  'interface',\n",
              "  'source',\n",
              "  'file',\n",
              "  '.net',\n",
              "  'function',\n",
              "  'application'],\n",
              " ['call',\n",
              "  'text',\n",
              "  'null',\n",
              "  'type',\n",
              "  'window',\n",
              "  'app',\n",
              "  'process',\n",
              "  'int',\n",
              "  'function',\n",
              "  'return',\n",
              "  'char']]"
            ]
          },
          "metadata": {
            "tags": []
          },
          "execution_count": 66
        }
      ]
    },
    {
      "metadata": {
        "id": "p7fRdnmWViEf",
        "colab_type": "text"
      },
      "cell_type": "markdown",
      "source": [
        "On peut observer que les tags créé pour les posts ont l'air pour la plupart assez pertinents, même si pour certains posts on peut voir des tags qui ont l'air très précis et pas assez généralistes comme pourrait l'être un tag langage ex : python, java, C# etc. Malgré cela ces tags semblent utilisables pour catégoriser des posts, on effectuera par la suite un tagging de manière supervisé, en utilisant les tags déja présents au sein de stack OF "
      ]
    },
    {
      "metadata": {
        "id": "mHBTFSt0iZRZ",
        "colab_type": "code",
        "colab": {}
      },
      "cell_type": "code",
      "source": [
        ""
      ],
      "execution_count": 0,
      "outputs": []
    }
  ]
}