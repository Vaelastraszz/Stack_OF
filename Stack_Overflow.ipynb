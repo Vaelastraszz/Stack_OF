{
  "nbformat": 4,
  "nbformat_minor": 0,
  "metadata": {
    "colab": {
      "name": "Stack_Overflow.ipynb",
      "version": "0.3.2",
      "provenance": [],
      "include_colab_link": true
    },
    "kernelspec": {
      "name": "python3",
      "display_name": "Python 3"
    }
  },
  "cells": [
    {
      "cell_type": "markdown",
      "metadata": {
        "id": "view-in-github",
        "colab_type": "text"
      },
      "source": [
        "<a href=\"https://colab.research.google.com/github/Vaelastraszz/Stack_OF/blob/master/Stack_Overflow.ipynb\" target=\"_parent\"><img src=\"https://colab.research.google.com/assets/colab-badge.svg\" alt=\"Open In Colab\"/></a>"
      ]
    },
    {
      "metadata": {
        "id": "3fEAIEzFfk8f",
        "colab_type": "code",
        "colab": {
          "base_uri": "https://localhost:8080/",
          "height": 34
        },
        "outputId": "53e50ead-86f6-420f-8741-42c5d4c70665"
      },
      "cell_type": "code",
      "source": [
        "import sys\n",
        "import pandas as pd\n",
        "import matplotlib.pyplot as plt\n",
        "import numpy as np\n",
        "\n",
        "from google.colab import drive\n",
        "\n",
        "drive.mount('/content/gdrive')"
      ],
      "execution_count": 2,
      "outputs": [
        {
          "output_type": "stream",
          "text": [
            "Drive already mounted at /content/gdrive; to attempt to forcibly remount, call drive.mount(\"/content/gdrive\", force_remount=True).\n"
          ],
          "name": "stdout"
        }
      ]
    },
    {
      "metadata": {
        "id": "uU15dHJ-f_MB",
        "colab_type": "code",
        "colab": {}
      },
      "cell_type": "code",
      "source": [
        "raw_post = pd.read_csv(\"/content/gdrive/My Drive/Stack_OF/QueryResults.csv\")"
      ],
      "execution_count": 0,
      "outputs": []
    },
    {
      "metadata": {
        "id": "tihdFuzFiCWv",
        "colab_type": "code",
        "colab": {}
      },
      "cell_type": "code",
      "source": [
        "pd.options.display.max_columns = None"
      ],
      "execution_count": 0,
      "outputs": []
    },
    {
      "metadata": {
        "id": "BhFoZL7kiKFy",
        "colab_type": "code",
        "colab": {
          "base_uri": "https://localhost:8080/",
          "height": 547
        },
        "outputId": "62b6c0e0-301e-4730-84c4-a14d3e102528"
      },
      "cell_type": "code",
      "source": [
        "raw_post.head()"
      ],
      "execution_count": 5,
      "outputs": [
        {
          "output_type": "execute_result",
          "data": {
            "text/html": [
              "<div>\n",
              "<style scoped>\n",
              "    .dataframe tbody tr th:only-of-type {\n",
              "        vertical-align: middle;\n",
              "    }\n",
              "\n",
              "    .dataframe tbody tr th {\n",
              "        vertical-align: top;\n",
              "    }\n",
              "\n",
              "    .dataframe thead th {\n",
              "        text-align: right;\n",
              "    }\n",
              "</style>\n",
              "<table border=\"1\" class=\"dataframe\">\n",
              "  <thead>\n",
              "    <tr style=\"text-align: right;\">\n",
              "      <th></th>\n",
              "      <th>Id</th>\n",
              "      <th>PostTypeId</th>\n",
              "      <th>AcceptedAnswerId</th>\n",
              "      <th>ParentId</th>\n",
              "      <th>CreationDate</th>\n",
              "      <th>DeletionDate</th>\n",
              "      <th>Score</th>\n",
              "      <th>ViewCount</th>\n",
              "      <th>Body</th>\n",
              "      <th>OwnerUserId</th>\n",
              "      <th>OwnerDisplayName</th>\n",
              "      <th>LastEditorUserId</th>\n",
              "      <th>LastEditorDisplayName</th>\n",
              "      <th>LastEditDate</th>\n",
              "      <th>LastActivityDate</th>\n",
              "      <th>Title</th>\n",
              "      <th>Tags</th>\n",
              "      <th>AnswerCount</th>\n",
              "      <th>CommentCount</th>\n",
              "      <th>FavoriteCount</th>\n",
              "      <th>ClosedDate</th>\n",
              "      <th>CommunityOwnedDate</th>\n",
              "    </tr>\n",
              "  </thead>\n",
              "  <tbody>\n",
              "    <tr>\n",
              "      <th>0</th>\n",
              "      <td>4</td>\n",
              "      <td>1</td>\n",
              "      <td>7.0</td>\n",
              "      <td>NaN</td>\n",
              "      <td>2008-07-31 21:42:52</td>\n",
              "      <td>NaN</td>\n",
              "      <td>605</td>\n",
              "      <td>39296.0</td>\n",
              "      <td>&lt;p&gt;I want to use a track-bar to change a form'...</td>\n",
              "      <td>8.0</td>\n",
              "      <td>NaN</td>\n",
              "      <td>6786713.0</td>\n",
              "      <td>Rich B</td>\n",
              "      <td>2018-07-02 17:55:27</td>\n",
              "      <td>2019-01-17 13:39:48</td>\n",
              "      <td>Convert Decimal to Double?</td>\n",
              "      <td>&lt;c#&gt;&lt;floating-point&gt;&lt;type-conversion&gt;&lt;double&gt;&lt;...</td>\n",
              "      <td>13.0</td>\n",
              "      <td>2</td>\n",
              "      <td>46.0</td>\n",
              "      <td>NaN</td>\n",
              "      <td>2012-10-31 16:42:47</td>\n",
              "    </tr>\n",
              "    <tr>\n",
              "      <th>1</th>\n",
              "      <td>6</td>\n",
              "      <td>1</td>\n",
              "      <td>31.0</td>\n",
              "      <td>NaN</td>\n",
              "      <td>2008-07-31 22:08:08</td>\n",
              "      <td>NaN</td>\n",
              "      <td>274</td>\n",
              "      <td>17393.0</td>\n",
              "      <td>&lt;p&gt;I have an absolutely positioned &lt;code&gt;div&lt;/...</td>\n",
              "      <td>9.0</td>\n",
              "      <td>NaN</td>\n",
              "      <td>63550.0</td>\n",
              "      <td>Rich B</td>\n",
              "      <td>2016-03-19 06:05:48</td>\n",
              "      <td>2018-12-15 03:57:18</td>\n",
              "      <td>Percentage width child element in absolutely p...</td>\n",
              "      <td>&lt;html&gt;&lt;css&gt;&lt;css3&gt;&lt;internet-explorer-7&gt;</td>\n",
              "      <td>6.0</td>\n",
              "      <td>0</td>\n",
              "      <td>11.0</td>\n",
              "      <td>NaN</td>\n",
              "      <td>NaN</td>\n",
              "    </tr>\n",
              "    <tr>\n",
              "      <th>2</th>\n",
              "      <td>7</td>\n",
              "      <td>2</td>\n",
              "      <td>NaN</td>\n",
              "      <td>4.0</td>\n",
              "      <td>2008-07-31 22:17:57</td>\n",
              "      <td>NaN</td>\n",
              "      <td>419</td>\n",
              "      <td>NaN</td>\n",
              "      <td>&lt;p&gt;An explicit cast to double like this isn't ...</td>\n",
              "      <td>9.0</td>\n",
              "      <td>NaN</td>\n",
              "      <td>4020527.0</td>\n",
              "      <td>NaN</td>\n",
              "      <td>2017-12-16 05:06:57</td>\n",
              "      <td>2017-12-16 05:06:57</td>\n",
              "      <td>NaN</td>\n",
              "      <td>NaN</td>\n",
              "      <td>NaN</td>\n",
              "      <td>0</td>\n",
              "      <td>NaN</td>\n",
              "      <td>NaN</td>\n",
              "      <td>NaN</td>\n",
              "    </tr>\n",
              "    <tr>\n",
              "      <th>3</th>\n",
              "      <td>9</td>\n",
              "      <td>1</td>\n",
              "      <td>1404.0</td>\n",
              "      <td>NaN</td>\n",
              "      <td>2008-07-31 23:40:59</td>\n",
              "      <td>NaN</td>\n",
              "      <td>1743</td>\n",
              "      <td>522602.0</td>\n",
              "      <td>&lt;p&gt;Given a &lt;code&gt;DateTime&lt;/code&gt; representing ...</td>\n",
              "      <td>1.0</td>\n",
              "      <td>NaN</td>\n",
              "      <td>3956566.0</td>\n",
              "      <td>Rich B</td>\n",
              "      <td>2018-04-21 17:48:14</td>\n",
              "      <td>2018-07-25 11:57:14</td>\n",
              "      <td>How do I calculate someone's age in C#?</td>\n",
              "      <td>&lt;c#&gt;&lt;.net&gt;&lt;datetime&gt;</td>\n",
              "      <td>63.0</td>\n",
              "      <td>7</td>\n",
              "      <td>421.0</td>\n",
              "      <td>NaN</td>\n",
              "      <td>2011-08-16 19:40:43</td>\n",
              "    </tr>\n",
              "    <tr>\n",
              "      <th>4</th>\n",
              "      <td>11</td>\n",
              "      <td>1</td>\n",
              "      <td>1248.0</td>\n",
              "      <td>NaN</td>\n",
              "      <td>2008-07-31 23:55:37</td>\n",
              "      <td>NaN</td>\n",
              "      <td>1415</td>\n",
              "      <td>143330.0</td>\n",
              "      <td>&lt;p&gt;Given a specific &lt;code&gt;DateTime&lt;/code&gt; valu...</td>\n",
              "      <td>1.0</td>\n",
              "      <td>NaN</td>\n",
              "      <td>6479704.0</td>\n",
              "      <td>user2370523</td>\n",
              "      <td>2017-06-04 15:51:19</td>\n",
              "      <td>2019-01-03 08:03:07</td>\n",
              "      <td>Calculate relative time in C#</td>\n",
              "      <td>&lt;c#&gt;&lt;datetime&gt;&lt;time&gt;&lt;datediff&gt;&lt;relative-time-s...</td>\n",
              "      <td>36.0</td>\n",
              "      <td>3</td>\n",
              "      <td>536.0</td>\n",
              "      <td>NaN</td>\n",
              "      <td>2009-09-04 13:15:59</td>\n",
              "    </tr>\n",
              "  </tbody>\n",
              "</table>\n",
              "</div>"
            ],
            "text/plain": [
              "   Id  PostTypeId  AcceptedAnswerId  ParentId         CreationDate  \\\n",
              "0   4           1               7.0       NaN  2008-07-31 21:42:52   \n",
              "1   6           1              31.0       NaN  2008-07-31 22:08:08   \n",
              "2   7           2               NaN       4.0  2008-07-31 22:17:57   \n",
              "3   9           1            1404.0       NaN  2008-07-31 23:40:59   \n",
              "4  11           1            1248.0       NaN  2008-07-31 23:55:37   \n",
              "\n",
              "   DeletionDate  Score  ViewCount  \\\n",
              "0           NaN    605    39296.0   \n",
              "1           NaN    274    17393.0   \n",
              "2           NaN    419        NaN   \n",
              "3           NaN   1743   522602.0   \n",
              "4           NaN   1415   143330.0   \n",
              "\n",
              "                                                Body  OwnerUserId  \\\n",
              "0  <p>I want to use a track-bar to change a form'...          8.0   \n",
              "1  <p>I have an absolutely positioned <code>div</...          9.0   \n",
              "2  <p>An explicit cast to double like this isn't ...          9.0   \n",
              "3  <p>Given a <code>DateTime</code> representing ...          1.0   \n",
              "4  <p>Given a specific <code>DateTime</code> valu...          1.0   \n",
              "\n",
              "  OwnerDisplayName  LastEditorUserId LastEditorDisplayName  \\\n",
              "0              NaN         6786713.0                Rich B   \n",
              "1              NaN           63550.0                Rich B   \n",
              "2              NaN         4020527.0                   NaN   \n",
              "3              NaN         3956566.0                Rich B   \n",
              "4              NaN         6479704.0           user2370523   \n",
              "\n",
              "          LastEditDate     LastActivityDate  \\\n",
              "0  2018-07-02 17:55:27  2019-01-17 13:39:48   \n",
              "1  2016-03-19 06:05:48  2018-12-15 03:57:18   \n",
              "2  2017-12-16 05:06:57  2017-12-16 05:06:57   \n",
              "3  2018-04-21 17:48:14  2018-07-25 11:57:14   \n",
              "4  2017-06-04 15:51:19  2019-01-03 08:03:07   \n",
              "\n",
              "                                               Title  \\\n",
              "0                         Convert Decimal to Double?   \n",
              "1  Percentage width child element in absolutely p...   \n",
              "2                                                NaN   \n",
              "3            How do I calculate someone's age in C#?   \n",
              "4                      Calculate relative time in C#   \n",
              "\n",
              "                                                Tags  AnswerCount  \\\n",
              "0  <c#><floating-point><type-conversion><double><...         13.0   \n",
              "1             <html><css><css3><internet-explorer-7>          6.0   \n",
              "2                                                NaN          NaN   \n",
              "3                               <c#><.net><datetime>         63.0   \n",
              "4  <c#><datetime><time><datediff><relative-time-s...         36.0   \n",
              "\n",
              "   CommentCount  FavoriteCount ClosedDate   CommunityOwnedDate  \n",
              "0             2           46.0        NaN  2012-10-31 16:42:47  \n",
              "1             0           11.0        NaN                  NaN  \n",
              "2             0            NaN        NaN                  NaN  \n",
              "3             7          421.0        NaN  2011-08-16 19:40:43  \n",
              "4             3          536.0        NaN  2009-09-04 13:15:59  "
            ]
          },
          "metadata": {
            "tags": []
          },
          "execution_count": 5
        }
      ]
    },
    {
      "metadata": {
        "id": "Ezap7HsfiMQK",
        "colab_type": "code",
        "colab": {
          "base_uri": "https://localhost:8080/",
          "height": 476
        },
        "outputId": "b5a8a204-f8c8-4add-ec9b-fdf3c599f087"
      },
      "cell_type": "code",
      "source": [
        "raw_post.info()"
      ],
      "execution_count": 6,
      "outputs": [
        {
          "output_type": "stream",
          "text": [
            "<class 'pandas.core.frame.DataFrame'>\n",
            "RangeIndex: 40161 entries, 0 to 40160\n",
            "Data columns (total 22 columns):\n",
            "Id                       40161 non-null int64\n",
            "PostTypeId               40161 non-null int64\n",
            "AcceptedAnswerId         6576 non-null float64\n",
            "ParentId                 32180 non-null float64\n",
            "CreationDate             40161 non-null object\n",
            "DeletionDate             0 non-null float64\n",
            "Score                    40161 non-null int64\n",
            "ViewCount                7981 non-null float64\n",
            "Body                     40161 non-null object\n",
            "OwnerUserId              38932 non-null float64\n",
            "OwnerDisplayName         34788 non-null object\n",
            "LastEditorUserId         15670 non-null float64\n",
            "LastEditorDisplayName    9029 non-null object\n",
            "LastEditDate             15860 non-null object\n",
            "LastActivityDate         40161 non-null object\n",
            "Title                    7981 non-null object\n",
            "Tags                     7981 non-null object\n",
            "AnswerCount              7981 non-null float64\n",
            "CommentCount             40161 non-null int64\n",
            "FavoriteCount            5656 non-null float64\n",
            "ClosedDate               1043 non-null object\n",
            "CommunityOwnedDate       2354 non-null object\n",
            "dtypes: float64(8), int64(4), object(10)\n",
            "memory usage: 6.7+ MB\n"
          ],
          "name": "stdout"
        }
      ]
    },
    {
      "metadata": {
        "id": "YhBxPCeHlmvt",
        "colab_type": "text"
      },
      "cell_type": "markdown",
      "source": [
        "<h1> Nettoyage des données </h1>"
      ]
    },
    {
      "metadata": {
        "id": "29lfyTDRlf_A",
        "colab_type": "code",
        "colab": {}
      },
      "cell_type": "code",
      "source": [
        "post = raw_post[[\"Body\", \"Title\", \"Tags\"]]"
      ],
      "execution_count": 0,
      "outputs": []
    },
    {
      "metadata": {
        "id": "yRMk-CA0o7lA",
        "colab_type": "code",
        "colab": {
          "base_uri": "https://localhost:8080/",
          "height": 204
        },
        "outputId": "a614dd65-7abf-40fd-fe35-e010e87921af"
      },
      "cell_type": "code",
      "source": [
        "post.head()"
      ],
      "execution_count": 9,
      "outputs": [
        {
          "output_type": "execute_result",
          "data": {
            "text/html": [
              "<div>\n",
              "<style scoped>\n",
              "    .dataframe tbody tr th:only-of-type {\n",
              "        vertical-align: middle;\n",
              "    }\n",
              "\n",
              "    .dataframe tbody tr th {\n",
              "        vertical-align: top;\n",
              "    }\n",
              "\n",
              "    .dataframe thead th {\n",
              "        text-align: right;\n",
              "    }\n",
              "</style>\n",
              "<table border=\"1\" class=\"dataframe\">\n",
              "  <thead>\n",
              "    <tr style=\"text-align: right;\">\n",
              "      <th></th>\n",
              "      <th>Body</th>\n",
              "      <th>Title</th>\n",
              "      <th>Tags</th>\n",
              "    </tr>\n",
              "  </thead>\n",
              "  <tbody>\n",
              "    <tr>\n",
              "      <th>0</th>\n",
              "      <td>&lt;p&gt;I want to use a track-bar to change a form'...</td>\n",
              "      <td>Convert Decimal to Double?</td>\n",
              "      <td>&lt;c#&gt;&lt;floating-point&gt;&lt;type-conversion&gt;&lt;double&gt;&lt;...</td>\n",
              "    </tr>\n",
              "    <tr>\n",
              "      <th>1</th>\n",
              "      <td>&lt;p&gt;I have an absolutely positioned &lt;code&gt;div&lt;/...</td>\n",
              "      <td>Percentage width child element in absolutely p...</td>\n",
              "      <td>&lt;html&gt;&lt;css&gt;&lt;css3&gt;&lt;internet-explorer-7&gt;</td>\n",
              "    </tr>\n",
              "    <tr>\n",
              "      <th>2</th>\n",
              "      <td>&lt;p&gt;An explicit cast to double like this isn't ...</td>\n",
              "      <td>NaN</td>\n",
              "      <td>NaN</td>\n",
              "    </tr>\n",
              "    <tr>\n",
              "      <th>3</th>\n",
              "      <td>&lt;p&gt;Given a &lt;code&gt;DateTime&lt;/code&gt; representing ...</td>\n",
              "      <td>How do I calculate someone's age in C#?</td>\n",
              "      <td>&lt;c#&gt;&lt;.net&gt;&lt;datetime&gt;</td>\n",
              "    </tr>\n",
              "    <tr>\n",
              "      <th>4</th>\n",
              "      <td>&lt;p&gt;Given a specific &lt;code&gt;DateTime&lt;/code&gt; valu...</td>\n",
              "      <td>Calculate relative time in C#</td>\n",
              "      <td>&lt;c#&gt;&lt;datetime&gt;&lt;time&gt;&lt;datediff&gt;&lt;relative-time-s...</td>\n",
              "    </tr>\n",
              "  </tbody>\n",
              "</table>\n",
              "</div>"
            ],
            "text/plain": [
              "                                                Body  \\\n",
              "0  <p>I want to use a track-bar to change a form'...   \n",
              "1  <p>I have an absolutely positioned <code>div</...   \n",
              "2  <p>An explicit cast to double like this isn't ...   \n",
              "3  <p>Given a <code>DateTime</code> representing ...   \n",
              "4  <p>Given a specific <code>DateTime</code> valu...   \n",
              "\n",
              "                                               Title  \\\n",
              "0                         Convert Decimal to Double?   \n",
              "1  Percentage width child element in absolutely p...   \n",
              "2                                                NaN   \n",
              "3            How do I calculate someone's age in C#?   \n",
              "4                      Calculate relative time in C#   \n",
              "\n",
              "                                                Tags  \n",
              "0  <c#><floating-point><type-conversion><double><...  \n",
              "1             <html><css><css3><internet-explorer-7>  \n",
              "2                                                NaN  \n",
              "3                               <c#><.net><datetime>  \n",
              "4  <c#><datetime><time><datediff><relative-time-s...  "
            ]
          },
          "metadata": {
            "tags": []
          },
          "execution_count": 9
        }
      ]
    },
    {
      "metadata": {
        "id": "e7tawU7go__J",
        "colab_type": "code",
        "colab": {
          "base_uri": "https://localhost:8080/",
          "height": 85
        },
        "outputId": "8317f006-fabc-45d4-c525-26092e85f144"
      },
      "cell_type": "code",
      "source": [
        "post.isnull().sum().sort_values(ascending=False) / post.shape[0] * 100"
      ],
      "execution_count": 7,
      "outputs": [
        {
          "output_type": "execute_result",
          "data": {
            "text/plain": [
              "Tags     80.127487\n",
              "Title    80.127487\n",
              "Body      0.000000\n",
              "dtype: float64"
            ]
          },
          "metadata": {
            "tags": []
          },
          "execution_count": 7
        }
      ]
    },
    {
      "metadata": {
        "id": "vM0S4kYSzpy6",
        "colab_type": "code",
        "colab": {
          "base_uri": "https://localhost:8080/",
          "height": 119
        },
        "outputId": "ab843e73-eacf-411f-fc91-e9b5efe72b7a"
      },
      "cell_type": "code",
      "source": [
        "post[\"Full_Post\"] = np.where(post[\"Title\"].isna(),post[\"Body\"] , post[\"Title\"] + \" \" + post[\"Body\"])"
      ],
      "execution_count": 8,
      "outputs": [
        {
          "output_type": "stream",
          "text": [
            "/usr/local/lib/python3.6/dist-packages/ipykernel_launcher.py:1: SettingWithCopyWarning: \n",
            "A value is trying to be set on a copy of a slice from a DataFrame.\n",
            "Try using .loc[row_indexer,col_indexer] = value instead\n",
            "\n",
            "See the caveats in the documentation: http://pandas.pydata.org/pandas-docs/stable/indexing.html#indexing-view-versus-copy\n",
            "  \"\"\"Entry point for launching an IPython kernel.\n"
          ],
          "name": "stderr"
        }
      ]
    },
    {
      "metadata": {
        "id": "WLTKeWC6zwYT",
        "colab_type": "code",
        "colab": {}
      },
      "cell_type": "code",
      "source": [
        "post = post[\"Full_Post\"]"
      ],
      "execution_count": 0,
      "outputs": []
    },
    {
      "metadata": {
        "id": "t1L7b1Ev2dBZ",
        "colab_type": "text"
      },
      "cell_type": "markdown",
      "source": [
        "<h2> Preprocessing des données avec NLTK + BeautifulSoup </h2>"
      ]
    },
    {
      "metadata": {
        "id": "z9ABBPOeXzRF",
        "colab_type": "text"
      },
      "cell_type": "markdown",
      "source": [
        "<h3> BeautifulSoup </h3>"
      ]
    },
    {
      "metadata": {
        "id": "RU6n4N4A1tRh",
        "colab_type": "code",
        "colab": {}
      },
      "cell_type": "code",
      "source": [
        "import nltk\n",
        "from bs4 import BeautifulSoup \n",
        "from nltk.corpus import stopwords\n",
        "from nltk.tokenize import wordpunct_tokenize"
      ],
      "execution_count": 0,
      "outputs": []
    },
    {
      "metadata": {
        "id": "b_HzhLWI8kOJ",
        "colab_type": "code",
        "colab": {}
      },
      "cell_type": "code",
      "source": [
        "def clean_code(post):\n",
        "    for i in range(len(post)):\n",
        "        post[i]=str(post[i]).replace(str(BeautifulSoup(post[i]).find(\"code\")), \"\")\n",
        "        post[i]= BeautifulSoup(post[i]).get_text()"
      ],
      "execution_count": 0,
      "outputs": []
    },
    {
      "metadata": {
        "id": "3XkMP2P6AFEZ",
        "colab_type": "code",
        "colab": {}
      },
      "cell_type": "code",
      "source": [
        "liste_p = post.tolist()"
      ],
      "execution_count": 0,
      "outputs": []
    },
    {
      "metadata": {
        "id": "3pgvuDWwAGAh",
        "colab_type": "code",
        "colab": {}
      },
      "cell_type": "code",
      "source": [
        "clean_code(liste_p)"
      ],
      "execution_count": 0,
      "outputs": []
    },
    {
      "metadata": {
        "id": "zjQfZQliYTQb",
        "colab_type": "text"
      },
      "cell_type": "markdown",
      "source": [
        "<h3> NLTK Processing </h3>"
      ]
    },
    {
      "metadata": {
        "id": "c0DWXPI2GVHn",
        "colab_type": "code",
        "colab": {}
      },
      "cell_type": "code",
      "source": [
        "tokenizer = nltk.RegexpTokenizer(r'\\w+')\n",
        "stop_words = set(stopwords.words('english'))"
      ],
      "execution_count": 0,
      "outputs": []
    },
    {
      "metadata": {
        "id": "Q5qmX2HDbD7g",
        "colab_type": "code",
        "colab": {}
      },
      "cell_type": "code",
      "source": [
        "from nltk.corpus import wordnet\n",
        "from nltk.stem.wordnet import WordNetLemmatizer\n",
        "lemmatizer = WordNetLemmatizer()\n",
        "\n",
        "# Lemmatize with POS Tag\n",
        "def get_wordnet_pos(word):\n",
        "    \"\"\"Map POS tag to first character lemmatize() accepts\"\"\"\n",
        "    tag = nltk.pos_tag([word])[0][1][0].upper()\n",
        "    tag_dict = {\"J\": wordnet.ADJ,\n",
        "                \"N\": wordnet.NOUN,\n",
        "                \"V\": wordnet.VERB,\n",
        "                \"R\": wordnet.ADV}\n",
        "\n",
        "    return tag_dict.get(tag, wordnet.NOUN)"
      ],
      "execution_count": 0,
      "outputs": []
    },
    {
      "metadata": {
        "id": "876VVmqYZiOv",
        "colab_type": "code",
        "colab": {}
      },
      "cell_type": "code",
      "source": [
        "def tokenize_list(liste_p):\n",
        "\n",
        "    new_list = list()\n",
        "    freq =  nltk.FreqDist()\n",
        "    \n",
        "    for i in range(len(liste_p)):\n",
        "        \n",
        "        new_list.append([lemmatizer.lemmatize(w.lower(),get_wordnet_pos(w.lower())) \n",
        "                                      for w in tokenizer.tokenize(liste_p[i]) if not w.lower() in stop_words and str.isalpha(w)== True ])\n",
        "        \n",
        "        freq += nltk.FreqDist(new_list[i])\n",
        "        \n",
        "    return new_list, freq"
      ],
      "execution_count": 0,
      "outputs": []
    },
    {
      "metadata": {
        "id": "yxfSqfKMbcjB",
        "colab_type": "code",
        "colab": {}
      },
      "cell_type": "code",
      "source": [
        "new_list,freq = tokenize_list(liste_p)"
      ],
      "execution_count": 0,
      "outputs": []
    },
    {
      "metadata": {
        "id": "3BJimR6bgAW8",
        "colab_type": "code",
        "colab": {}
      },
      "cell_type": "code",
      "source": [
        "freq.most_common(50)"
      ],
      "execution_count": 0,
      "outputs": []
    },
    {
      "metadata": {
        "id": "05PLOIVvhz4i",
        "colab_type": "text"
      },
      "cell_type": "markdown",
      "source": [
        "<h3> Tf-idf </h3>"
      ]
    },
    {
      "metadata": {
        "id": "8_xCgnaoh99U",
        "colab_type": "code",
        "colab": {}
      },
      "cell_type": "code",
      "source": [
        "from sklearn.feature_extraction.text import TfidfVectorizer\n",
        "import itertools"
      ],
      "execution_count": 0,
      "outputs": []
    },
    {
      "metadata": {
        "id": "ro5LYj9Ljz-V",
        "colab_type": "code",
        "colab": {}
      },
      "cell_type": "code",
      "source": [
        "from nltk.tokenize.moses import MosesDetokenizer\n",
        "\n",
        "detokenizer = MosesDetokenizer()\n",
        "\n",
        "new_list = [detokenizer.detokenize(x, return_str=True) for x in new_list]"
      ],
      "execution_count": 0,
      "outputs": []
    },
    {
      "metadata": {
        "id": "Tgz010j3kf3e",
        "colab_type": "code",
        "colab": {}
      },
      "cell_type": "code",
      "source": [
        "vectorizer =  TfidfVectorizer()\n",
        "\n",
        "tf_idf = vectorizer.fit_transform(new_list)"
      ],
      "execution_count": 0,
      "outputs": []
    },
    {
      "metadata": {
        "id": "5PDdB27RlXVI",
        "colab_type": "code",
        "colab": {
          "base_uri": "https://localhost:8080/",
          "height": 34
        },
        "outputId": "48a8b03d-9b0a-4526-92f2-a2977e068079"
      },
      "cell_type": "code",
      "source": [
        "tf_idf.shape"
      ],
      "execution_count": 69,
      "outputs": [
        {
          "output_type": "execute_result",
          "data": {
            "text/plain": [
              "(40161, 43138)"
            ]
          },
          "metadata": {
            "tags": []
          },
          "execution_count": 69
        }
      ]
    },
    {
      "metadata": {
        "id": "I_UG17TQl4EP",
        "colab_type": "text"
      },
      "cell_type": "markdown",
      "source": [
        "<h3> Test Non negative matrix factorisation </h3>"
      ]
    },
    {
      "metadata": {
        "id": "lC05L453mEZx",
        "colab_type": "code",
        "colab": {}
      },
      "cell_type": "code",
      "source": [
        "from sklearn.decomposition import NMF"
      ],
      "execution_count": 0,
      "outputs": []
    },
    {
      "metadata": {
        "id": "JsQPESddmHEZ",
        "colab_type": "code",
        "colab": {}
      },
      "cell_type": "code",
      "source": [
        "def display_topics(model, feature_names, no_top_words):\n",
        "    for topic_idx, topic in enumerate(model.components_):\n",
        "        print (\"Topic %d:\" % (topic_idx))\n",
        "        print (\" \".join([feature_names[i]\n",
        "                        for i in topic.argsort()[:-no_top_words - 1:-1]]))"
      ],
      "execution_count": 0,
      "outputs": []
    },
    {
      "metadata": {
        "id": "qLNVqrqtmKa0",
        "colab_type": "code",
        "colab": {
          "base_uri": "https://localhost:8080/",
          "height": 1037
        },
        "outputId": "dd81aec8-fd6c-48da-903c-5324f710713a"
      },
      "cell_type": "code",
      "source": [
        "no_topics = 30\n",
        "\n",
        "# Run NMF\n",
        "nmf = NMF(n_components=no_topics, random_state=1, alpha=.1, l1_ratio=.5, init='nndsvd').fit(tf_idf)\n",
        "\n",
        "no_top_words = 6\n",
        "display_topics(nmf, vectorizer.get_feature_names(), no_top_words)"
      ],
      "execution_count": 73,
      "outputs": [
        {
          "output_type": "stream",
          "text": [
            "Topic 0:\n",
            "would one get need time think\n",
            "Topic 1:\n",
            "php script mysql array language apache\n",
            "Topic 2:\n",
            "table column query select row index\n",
            "Topic 3:\n",
            "test unit write mock run integration\n",
            "Topic 4:\n",
            "file directory xml path folder config\n",
            "Topic 5:\n",
            "http com www aspx en microsoft\n",
            "Topic 6:\n",
            "net asp mvc framework vb ajax\n",
            "Topic 7:\n",
            "page javascript html browser cs tag\n",
            "Topic 8:\n",
            "server sql query client linq run\n",
            "Topic 9:\n",
            "string character format array convert match\n",
            "Topic 10:\n",
            "project visual studio build solution source\n",
            "Topic 11:\n",
            "use library instead also linq command\n",
            "Topic 12:\n",
            "window run command linux application xp\n",
            "Topic 13:\n",
            "try could get block follow problem\n",
            "Topic 14:\n",
            "class interface name public base create\n",
            "Topic 15:\n",
            "data xml access structure store form\n",
            "Topic 16:\n",
            "control source form event property button\n",
            "Topic 17:\n",
            "code write source generate compile compiler\n",
            "Topic 18:\n",
            "object reference collection create property memory\n",
            "Topic 19:\n",
            "like something look would could sound\n",
            "Topic 20:\n",
            "thread process lock pool multi run\n",
            "Topic 21:\n",
            "database store mysql procedure schema access\n",
            "Topic 22:\n",
            "function call return argument pointer parameter\n",
            "Topic 23:\n",
            "web service application site config client\n",
            "Topic 24:\n",
            "work well fine seem follow found\n",
            "Topic 25:\n",
            "exception catch error throw handle thrown\n",
            "Topic 26:\n",
            "value type return variable set int\n",
            "Topic 27:\n",
            "method call static extension return private\n",
            "Topic 28:\n",
            "version svn change repository subversion branch\n",
            "Topic 29:\n",
            "list item array element add collection\n"
          ],
          "name": "stdout"
        }
      ]
    },
    {
      "metadata": {
        "id": "k8nux4C6Xrw3",
        "colab_type": "text"
      },
      "cell_type": "markdown",
      "source": [
        "<h2> Download packages NLTK </h2>"
      ]
    },
    {
      "metadata": {
        "id": "JFsLBBueXwGc",
        "colab_type": "code",
        "colab": {
          "base_uri": "https://localhost:8080/",
          "height": 187
        },
        "outputId": "2a5b4288-93be-4be5-f5a9-16dfe9c7539f"
      },
      "cell_type": "code",
      "source": [
        "nltk.download('wordnet')\n",
        "nltk.download('stopwords')\n",
        "nltk.download('averaged_perceptron_tagger')\n",
        "nltk.download('perluniprops')"
      ],
      "execution_count": 35,
      "outputs": [
        {
          "output_type": "stream",
          "text": [
            "[nltk_data] Downloading package wordnet to /root/nltk_data...\n",
            "[nltk_data]   Unzipping corpora/wordnet.zip.\n",
            "[nltk_data] Downloading package stopwords to /root/nltk_data...\n",
            "[nltk_data]   Unzipping corpora/stopwords.zip.\n",
            "[nltk_data] Downloading package averaged_perceptron_tagger to\n",
            "[nltk_data]     /root/nltk_data...\n",
            "[nltk_data]   Unzipping taggers/averaged_perceptron_tagger.zip.\n",
            "[nltk_data] Downloading package perluniprops to /root/nltk_data...\n",
            "[nltk_data]   Unzipping misc/perluniprops.zip.\n"
          ],
          "name": "stdout"
        },
        {
          "output_type": "execute_result",
          "data": {
            "text/plain": [
              "True"
            ]
          },
          "metadata": {
            "tags": []
          },
          "execution_count": 35
        }
      ]
    },
    {
      "metadata": {
        "id": "hGh_bbDVZAIu",
        "colab_type": "code",
        "colab": {}
      },
      "cell_type": "code",
      "source": [
        ""
      ],
      "execution_count": 0,
      "outputs": []
    }
  ]
}