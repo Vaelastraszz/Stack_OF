{
  "nbformat": 4,
  "nbformat_minor": 0,
  "metadata": {
    "colab": {
      "name": "Stack_Overflow.ipynb",
      "version": "0.3.2",
      "provenance": [],
      "include_colab_link": true
    },
    "kernelspec": {
      "name": "python3",
      "display_name": "Python 3"
    }
  },
  "cells": [
    {
      "cell_type": "markdown",
      "metadata": {
        "id": "view-in-github",
        "colab_type": "text"
      },
      "source": [
        "<a href=\"https://colab.research.google.com/github/Vaelastraszz/Stack_OF/blob/master/Stack_Overflow.ipynb\" target=\"_parent\"><img src=\"https://colab.research.google.com/assets/colab-badge.svg\" alt=\"Open In Colab\"/></a>"
      ]
    },
    {
      "metadata": {
        "id": "3fEAIEzFfk8f",
        "colab_type": "code",
        "colab": {
          "base_uri": "https://localhost:8080/",
          "height": 122
        },
        "outputId": "37cf2e20-0023-4f35-c49c-11ea212f7d81"
      },
      "cell_type": "code",
      "source": [
        "import sys\n",
        "import pandas as pd\n",
        "import matplotlib.pyplot as plt\n",
        "import numpy as np\n",
        "\n",
        "from google.colab import drive\n",
        "\n",
        "drive.mount('/content/gdrive')"
      ],
      "execution_count": 1,
      "outputs": [
        {
          "output_type": "stream",
          "text": [
            "Go to this URL in a browser: https://accounts.google.com/o/oauth2/auth?client_id=947318989803-6bn6qk8qdgf4n4g3pfee6491hc0brc4i.apps.googleusercontent.com&redirect_uri=urn%3Aietf%3Awg%3Aoauth%3A2.0%3Aoob&scope=email%20https%3A%2F%2Fwww.googleapis.com%2Fauth%2Fdocs.test%20https%3A%2F%2Fwww.googleapis.com%2Fauth%2Fdrive%20https%3A%2F%2Fwww.googleapis.com%2Fauth%2Fdrive.photos.readonly%20https%3A%2F%2Fwww.googleapis.com%2Fauth%2Fpeopleapi.readonly&response_type=code\n",
            "\n",
            "Enter your authorization code:\n",
            "··········\n",
            "Mounted at /content/gdrive\n"
          ],
          "name": "stdout"
        }
      ]
    },
    {
      "metadata": {
        "id": "uU15dHJ-f_MB",
        "colab_type": "code",
        "colab": {}
      },
      "cell_type": "code",
      "source": [
        "raw_post = pd.read_csv(\"/content/gdrive/My Drive/Stack_OF/QueryResults2.csv\")"
      ],
      "execution_count": 0,
      "outputs": []
    },
    {
      "metadata": {
        "id": "tihdFuzFiCWv",
        "colab_type": "code",
        "colab": {}
      },
      "cell_type": "code",
      "source": [
        "pd.options.display.max_columns = None"
      ],
      "execution_count": 0,
      "outputs": []
    },
    {
      "metadata": {
        "id": "BhFoZL7kiKFy",
        "colab_type": "code",
        "colab": {
          "base_uri": "https://localhost:8080/",
          "height": 547
        },
        "outputId": "62b6c0e0-301e-4730-84c4-a14d3e102528"
      },
      "cell_type": "code",
      "source": [
        "raw_post.head()"
      ],
      "execution_count": 5,
      "outputs": [
        {
          "output_type": "execute_result",
          "data": {
            "text/html": [
              "<div>\n",
              "<style scoped>\n",
              "    .dataframe tbody tr th:only-of-type {\n",
              "        vertical-align: middle;\n",
              "    }\n",
              "\n",
              "    .dataframe tbody tr th {\n",
              "        vertical-align: top;\n",
              "    }\n",
              "\n",
              "    .dataframe thead th {\n",
              "        text-align: right;\n",
              "    }\n",
              "</style>\n",
              "<table border=\"1\" class=\"dataframe\">\n",
              "  <thead>\n",
              "    <tr style=\"text-align: right;\">\n",
              "      <th></th>\n",
              "      <th>Id</th>\n",
              "      <th>PostTypeId</th>\n",
              "      <th>AcceptedAnswerId</th>\n",
              "      <th>ParentId</th>\n",
              "      <th>CreationDate</th>\n",
              "      <th>DeletionDate</th>\n",
              "      <th>Score</th>\n",
              "      <th>ViewCount</th>\n",
              "      <th>Body</th>\n",
              "      <th>OwnerUserId</th>\n",
              "      <th>OwnerDisplayName</th>\n",
              "      <th>LastEditorUserId</th>\n",
              "      <th>LastEditorDisplayName</th>\n",
              "      <th>LastEditDate</th>\n",
              "      <th>LastActivityDate</th>\n",
              "      <th>Title</th>\n",
              "      <th>Tags</th>\n",
              "      <th>AnswerCount</th>\n",
              "      <th>CommentCount</th>\n",
              "      <th>FavoriteCount</th>\n",
              "      <th>ClosedDate</th>\n",
              "      <th>CommunityOwnedDate</th>\n",
              "    </tr>\n",
              "  </thead>\n",
              "  <tbody>\n",
              "    <tr>\n",
              "      <th>0</th>\n",
              "      <td>4</td>\n",
              "      <td>1</td>\n",
              "      <td>7.0</td>\n",
              "      <td>NaN</td>\n",
              "      <td>2008-07-31 21:42:52</td>\n",
              "      <td>NaN</td>\n",
              "      <td>605</td>\n",
              "      <td>39296.0</td>\n",
              "      <td>&lt;p&gt;I want to use a track-bar to change a form'...</td>\n",
              "      <td>8.0</td>\n",
              "      <td>NaN</td>\n",
              "      <td>6786713.0</td>\n",
              "      <td>Rich B</td>\n",
              "      <td>2018-07-02 17:55:27</td>\n",
              "      <td>2019-01-17 13:39:48</td>\n",
              "      <td>Convert Decimal to Double?</td>\n",
              "      <td>&lt;c#&gt;&lt;floating-point&gt;&lt;type-conversion&gt;&lt;double&gt;&lt;...</td>\n",
              "      <td>13.0</td>\n",
              "      <td>2</td>\n",
              "      <td>46.0</td>\n",
              "      <td>NaN</td>\n",
              "      <td>2012-10-31 16:42:47</td>\n",
              "    </tr>\n",
              "    <tr>\n",
              "      <th>1</th>\n",
              "      <td>6</td>\n",
              "      <td>1</td>\n",
              "      <td>31.0</td>\n",
              "      <td>NaN</td>\n",
              "      <td>2008-07-31 22:08:08</td>\n",
              "      <td>NaN</td>\n",
              "      <td>274</td>\n",
              "      <td>17393.0</td>\n",
              "      <td>&lt;p&gt;I have an absolutely positioned &lt;code&gt;div&lt;/...</td>\n",
              "      <td>9.0</td>\n",
              "      <td>NaN</td>\n",
              "      <td>63550.0</td>\n",
              "      <td>Rich B</td>\n",
              "      <td>2016-03-19 06:05:48</td>\n",
              "      <td>2018-12-15 03:57:18</td>\n",
              "      <td>Percentage width child element in absolutely p...</td>\n",
              "      <td>&lt;html&gt;&lt;css&gt;&lt;css3&gt;&lt;internet-explorer-7&gt;</td>\n",
              "      <td>6.0</td>\n",
              "      <td>0</td>\n",
              "      <td>11.0</td>\n",
              "      <td>NaN</td>\n",
              "      <td>NaN</td>\n",
              "    </tr>\n",
              "    <tr>\n",
              "      <th>2</th>\n",
              "      <td>7</td>\n",
              "      <td>2</td>\n",
              "      <td>NaN</td>\n",
              "      <td>4.0</td>\n",
              "      <td>2008-07-31 22:17:57</td>\n",
              "      <td>NaN</td>\n",
              "      <td>419</td>\n",
              "      <td>NaN</td>\n",
              "      <td>&lt;p&gt;An explicit cast to double like this isn't ...</td>\n",
              "      <td>9.0</td>\n",
              "      <td>NaN</td>\n",
              "      <td>4020527.0</td>\n",
              "      <td>NaN</td>\n",
              "      <td>2017-12-16 05:06:57</td>\n",
              "      <td>2017-12-16 05:06:57</td>\n",
              "      <td>NaN</td>\n",
              "      <td>NaN</td>\n",
              "      <td>NaN</td>\n",
              "      <td>0</td>\n",
              "      <td>NaN</td>\n",
              "      <td>NaN</td>\n",
              "      <td>NaN</td>\n",
              "    </tr>\n",
              "    <tr>\n",
              "      <th>3</th>\n",
              "      <td>9</td>\n",
              "      <td>1</td>\n",
              "      <td>1404.0</td>\n",
              "      <td>NaN</td>\n",
              "      <td>2008-07-31 23:40:59</td>\n",
              "      <td>NaN</td>\n",
              "      <td>1743</td>\n",
              "      <td>522602.0</td>\n",
              "      <td>&lt;p&gt;Given a &lt;code&gt;DateTime&lt;/code&gt; representing ...</td>\n",
              "      <td>1.0</td>\n",
              "      <td>NaN</td>\n",
              "      <td>3956566.0</td>\n",
              "      <td>Rich B</td>\n",
              "      <td>2018-04-21 17:48:14</td>\n",
              "      <td>2018-07-25 11:57:14</td>\n",
              "      <td>How do I calculate someone's age in C#?</td>\n",
              "      <td>&lt;c#&gt;&lt;.net&gt;&lt;datetime&gt;</td>\n",
              "      <td>63.0</td>\n",
              "      <td>7</td>\n",
              "      <td>421.0</td>\n",
              "      <td>NaN</td>\n",
              "      <td>2011-08-16 19:40:43</td>\n",
              "    </tr>\n",
              "    <tr>\n",
              "      <th>4</th>\n",
              "      <td>11</td>\n",
              "      <td>1</td>\n",
              "      <td>1248.0</td>\n",
              "      <td>NaN</td>\n",
              "      <td>2008-07-31 23:55:37</td>\n",
              "      <td>NaN</td>\n",
              "      <td>1415</td>\n",
              "      <td>143330.0</td>\n",
              "      <td>&lt;p&gt;Given a specific &lt;code&gt;DateTime&lt;/code&gt; valu...</td>\n",
              "      <td>1.0</td>\n",
              "      <td>NaN</td>\n",
              "      <td>6479704.0</td>\n",
              "      <td>user2370523</td>\n",
              "      <td>2017-06-04 15:51:19</td>\n",
              "      <td>2019-01-03 08:03:07</td>\n",
              "      <td>Calculate relative time in C#</td>\n",
              "      <td>&lt;c#&gt;&lt;datetime&gt;&lt;time&gt;&lt;datediff&gt;&lt;relative-time-s...</td>\n",
              "      <td>36.0</td>\n",
              "      <td>3</td>\n",
              "      <td>536.0</td>\n",
              "      <td>NaN</td>\n",
              "      <td>2009-09-04 13:15:59</td>\n",
              "    </tr>\n",
              "  </tbody>\n",
              "</table>\n",
              "</div>"
            ],
            "text/plain": [
              "   Id  PostTypeId  AcceptedAnswerId  ParentId         CreationDate  \\\n",
              "0   4           1               7.0       NaN  2008-07-31 21:42:52   \n",
              "1   6           1              31.0       NaN  2008-07-31 22:08:08   \n",
              "2   7           2               NaN       4.0  2008-07-31 22:17:57   \n",
              "3   9           1            1404.0       NaN  2008-07-31 23:40:59   \n",
              "4  11           1            1248.0       NaN  2008-07-31 23:55:37   \n",
              "\n",
              "   DeletionDate  Score  ViewCount  \\\n",
              "0           NaN    605    39296.0   \n",
              "1           NaN    274    17393.0   \n",
              "2           NaN    419        NaN   \n",
              "3           NaN   1743   522602.0   \n",
              "4           NaN   1415   143330.0   \n",
              "\n",
              "                                                Body  OwnerUserId  \\\n",
              "0  <p>I want to use a track-bar to change a form'...          8.0   \n",
              "1  <p>I have an absolutely positioned <code>div</...          9.0   \n",
              "2  <p>An explicit cast to double like this isn't ...          9.0   \n",
              "3  <p>Given a <code>DateTime</code> representing ...          1.0   \n",
              "4  <p>Given a specific <code>DateTime</code> valu...          1.0   \n",
              "\n",
              "  OwnerDisplayName  LastEditorUserId LastEditorDisplayName  \\\n",
              "0              NaN         6786713.0                Rich B   \n",
              "1              NaN           63550.0                Rich B   \n",
              "2              NaN         4020527.0                   NaN   \n",
              "3              NaN         3956566.0                Rich B   \n",
              "4              NaN         6479704.0           user2370523   \n",
              "\n",
              "          LastEditDate     LastActivityDate  \\\n",
              "0  2018-07-02 17:55:27  2019-01-17 13:39:48   \n",
              "1  2016-03-19 06:05:48  2018-12-15 03:57:18   \n",
              "2  2017-12-16 05:06:57  2017-12-16 05:06:57   \n",
              "3  2018-04-21 17:48:14  2018-07-25 11:57:14   \n",
              "4  2017-06-04 15:51:19  2019-01-03 08:03:07   \n",
              "\n",
              "                                               Title  \\\n",
              "0                         Convert Decimal to Double?   \n",
              "1  Percentage width child element in absolutely p...   \n",
              "2                                                NaN   \n",
              "3            How do I calculate someone's age in C#?   \n",
              "4                      Calculate relative time in C#   \n",
              "\n",
              "                                                Tags  AnswerCount  \\\n",
              "0  <c#><floating-point><type-conversion><double><...         13.0   \n",
              "1             <html><css><css3><internet-explorer-7>          6.0   \n",
              "2                                                NaN          NaN   \n",
              "3                               <c#><.net><datetime>         63.0   \n",
              "4  <c#><datetime><time><datediff><relative-time-s...         36.0   \n",
              "\n",
              "   CommentCount  FavoriteCount ClosedDate   CommunityOwnedDate  \n",
              "0             2           46.0        NaN  2012-10-31 16:42:47  \n",
              "1             0           11.0        NaN                  NaN  \n",
              "2             0            NaN        NaN                  NaN  \n",
              "3             7          421.0        NaN  2011-08-16 19:40:43  \n",
              "4             3          536.0        NaN  2009-09-04 13:15:59  "
            ]
          },
          "metadata": {
            "tags": []
          },
          "execution_count": 5
        }
      ]
    },
    {
      "metadata": {
        "id": "Ezap7HsfiMQK",
        "colab_type": "code",
        "colab": {
          "base_uri": "https://localhost:8080/",
          "height": 476
        },
        "outputId": "b5a8a204-f8c8-4add-ec9b-fdf3c599f087"
      },
      "cell_type": "code",
      "source": [
        "raw_post.info()"
      ],
      "execution_count": 6,
      "outputs": [
        {
          "output_type": "stream",
          "text": [
            "<class 'pandas.core.frame.DataFrame'>\n",
            "RangeIndex: 40161 entries, 0 to 40160\n",
            "Data columns (total 22 columns):\n",
            "Id                       40161 non-null int64\n",
            "PostTypeId               40161 non-null int64\n",
            "AcceptedAnswerId         6576 non-null float64\n",
            "ParentId                 32180 non-null float64\n",
            "CreationDate             40161 non-null object\n",
            "DeletionDate             0 non-null float64\n",
            "Score                    40161 non-null int64\n",
            "ViewCount                7981 non-null float64\n",
            "Body                     40161 non-null object\n",
            "OwnerUserId              38932 non-null float64\n",
            "OwnerDisplayName         34788 non-null object\n",
            "LastEditorUserId         15670 non-null float64\n",
            "LastEditorDisplayName    9029 non-null object\n",
            "LastEditDate             15860 non-null object\n",
            "LastActivityDate         40161 non-null object\n",
            "Title                    7981 non-null object\n",
            "Tags                     7981 non-null object\n",
            "AnswerCount              7981 non-null float64\n",
            "CommentCount             40161 non-null int64\n",
            "FavoriteCount            5656 non-null float64\n",
            "ClosedDate               1043 non-null object\n",
            "CommunityOwnedDate       2354 non-null object\n",
            "dtypes: float64(8), int64(4), object(10)\n",
            "memory usage: 6.7+ MB\n"
          ],
          "name": "stdout"
        }
      ]
    },
    {
      "metadata": {
        "id": "YhBxPCeHlmvt",
        "colab_type": "text"
      },
      "cell_type": "markdown",
      "source": [
        "<h1> Nettoyage des données </h1>"
      ]
    },
    {
      "metadata": {
        "id": "29lfyTDRlf_A",
        "colab_type": "code",
        "colab": {}
      },
      "cell_type": "code",
      "source": [
        "post = raw_post[[\"Body\", \"Title\", \"Tags\"]]"
      ],
      "execution_count": 0,
      "outputs": []
    },
    {
      "metadata": {
        "id": "2Fj_vbtVPDld",
        "colab_type": "text"
      },
      "cell_type": "markdown",
      "source": [
        "Réduction du dataframe avec les seulement les colonnes qui reflètent un suceptible tagging"
      ]
    },
    {
      "metadata": {
        "id": "rz97XSEfid0P",
        "colab_type": "code",
        "colab": {
          "base_uri": "https://localhost:8080/",
          "height": 421
        },
        "outputId": "37a1325f-50f7-4d12-87c9-697ea8f88c9e"
      },
      "cell_type": "code",
      "source": [
        "duplicates = post[post.Body.map(post.Body.value_counts() > 1)]\n",
        "duplicates.sort_values('Body')[['Body', 'Title']]"
      ],
      "execution_count": 108,
      "outputs": [
        {
          "output_type": "execute_result",
          "data": {
            "text/html": [
              "<div>\n",
              "<style scoped>\n",
              "    .dataframe tbody tr th:only-of-type {\n",
              "        vertical-align: middle;\n",
              "    }\n",
              "\n",
              "    .dataframe tbody tr th {\n",
              "        vertical-align: top;\n",
              "    }\n",
              "\n",
              "    .dataframe thead th {\n",
              "        text-align: right;\n",
              "    }\n",
              "</style>\n",
              "<table border=\"1\" class=\"dataframe\">\n",
              "  <thead>\n",
              "    <tr style=\"text-align: right;\">\n",
              "      <th></th>\n",
              "      <th>Body</th>\n",
              "      <th>Title</th>\n",
              "    </tr>\n",
              "  </thead>\n",
              "  <tbody>\n",
              "    <tr>\n",
              "      <th>17113</th>\n",
              "      <td>&lt;p&gt;Anyone have any idea? And any open source s...</td>\n",
              "      <td>How to check the overall health of database us...</td>\n",
              "    </tr>\n",
              "    <tr>\n",
              "      <th>17114</th>\n",
              "      <td>&lt;p&gt;Anyone have any idea? And any open source s...</td>\n",
              "      <td>Monitor SQL currently in shared pool using Toad</td>\n",
              "    </tr>\n",
              "    <tr>\n",
              "      <th>17115</th>\n",
              "      <td>&lt;p&gt;Anyone have any idea? And any open source s...</td>\n",
              "      <td>Monitoring a database instance</td>\n",
              "    </tr>\n",
              "    <tr>\n",
              "      <th>17118</th>\n",
              "      <td>&lt;p&gt;Anyone have any idea? And any open source s...</td>\n",
              "      <td>How to use SQLab Xpert Tuning to tune SQL for ...</td>\n",
              "    </tr>\n",
              "    <tr>\n",
              "      <th>10253</th>\n",
              "      <td>&lt;p&gt;Could somebody please name a few.  I could ...</td>\n",
              "      <td>Advantages of VS 2008 over VS 2005</td>\n",
              "    </tr>\n",
              "    <tr>\n",
              "      <th>10254</th>\n",
              "      <td>&lt;p&gt;Could somebody please name a few.  I could ...</td>\n",
              "      <td>Benefits of SQL Server 2005 over 2000</td>\n",
              "    </tr>\n",
              "    <tr>\n",
              "      <th>30089</th>\n",
              "      <td>&lt;p&gt;How can I turn off the wavy red underlines ...</td>\n",
              "      <td>Netbeans - Turn off - wavy red underlines - How?</td>\n",
              "    </tr>\n",
              "    <tr>\n",
              "      <th>30186</th>\n",
              "      <td>&lt;p&gt;How can I turn off the wavy red underlines ...</td>\n",
              "      <td>Netbeans 6.1 (!5.5.1) - Turn off - wavy red un...</td>\n",
              "    </tr>\n",
              "    <tr>\n",
              "      <th>31152</th>\n",
              "      <td>&lt;p&gt;I am attempting to deploy an ASP.NET 2.0 We...</td>\n",
              "      <td>Need help configuring IIS to serve 2.0 web ser...</td>\n",
              "    </tr>\n",
              "    <tr>\n",
              "      <th>31155</th>\n",
              "      <td>&lt;p&gt;I am attempting to deploy an ASP.NET 2.0 We...</td>\n",
              "      <td>Need help configuring IIS to serve 2.0 web ser...</td>\n",
              "    </tr>\n",
              "    <tr>\n",
              "      <th>31177</th>\n",
              "      <td>&lt;p&gt;I have compression enabled within IIS7 and ...</td>\n",
              "      <td>How can I get ASP.NET AJAX to send its JSON re...</td>\n",
              "    </tr>\n",
              "    <tr>\n",
              "      <th>31226</th>\n",
              "      <td>&lt;p&gt;I have compression enabled within IIS7 and ...</td>\n",
              "      <td>How can I get ASP.NET AJAX to send its JSON re...</td>\n",
              "    </tr>\n",
              "  </tbody>\n",
              "</table>\n",
              "</div>"
            ],
            "text/plain": [
              "                                                    Body  \\\n",
              "17113  <p>Anyone have any idea? And any open source s...   \n",
              "17114  <p>Anyone have any idea? And any open source s...   \n",
              "17115  <p>Anyone have any idea? And any open source s...   \n",
              "17118  <p>Anyone have any idea? And any open source s...   \n",
              "10253  <p>Could somebody please name a few.  I could ...   \n",
              "10254  <p>Could somebody please name a few.  I could ...   \n",
              "30089  <p>How can I turn off the wavy red underlines ...   \n",
              "30186  <p>How can I turn off the wavy red underlines ...   \n",
              "31152  <p>I am attempting to deploy an ASP.NET 2.0 We...   \n",
              "31155  <p>I am attempting to deploy an ASP.NET 2.0 We...   \n",
              "31177  <p>I have compression enabled within IIS7 and ...   \n",
              "31226  <p>I have compression enabled within IIS7 and ...   \n",
              "\n",
              "                                                   Title  \n",
              "17113  How to check the overall health of database us...  \n",
              "17114    Monitor SQL currently in shared pool using Toad  \n",
              "17115                     Monitoring a database instance  \n",
              "17118  How to use SQLab Xpert Tuning to tune SQL for ...  \n",
              "10253                 Advantages of VS 2008 over VS 2005  \n",
              "10254              Benefits of SQL Server 2005 over 2000  \n",
              "30089   Netbeans - Turn off - wavy red underlines - How?  \n",
              "30186  Netbeans 6.1 (!5.5.1) - Turn off - wavy red un...  \n",
              "31152  Need help configuring IIS to serve 2.0 web ser...  \n",
              "31155  Need help configuring IIS to serve 2.0 web ser...  \n",
              "31177  How can I get ASP.NET AJAX to send its JSON re...  \n",
              "31226  How can I get ASP.NET AJAX to send its JSON re...  "
            ]
          },
          "metadata": {
            "tags": []
          },
          "execution_count": 108
        }
      ]
    },
    {
      "metadata": {
        "id": "0taRBeppPJiB",
        "colab_type": "text"
      },
      "cell_type": "markdown",
      "source": [
        "Observation des doublons sur le titre et le body puis suppression de ces doublons"
      ]
    },
    {
      "metadata": {
        "id": "XILf3emmjDSs",
        "colab_type": "code",
        "colab": {
          "base_uri": "https://localhost:8080/",
          "height": 102
        },
        "outputId": "ffd220b8-826a-4bb8-b47b-40b4cc60d533"
      },
      "cell_type": "code",
      "source": [
        " post.drop_duplicates(['Body', 'Title'],inplace=True)"
      ],
      "execution_count": 109,
      "outputs": [
        {
          "output_type": "stream",
          "text": [
            "/usr/local/lib/python3.6/dist-packages/ipykernel_launcher.py:1: SettingWithCopyWarning: \n",
            "A value is trying to be set on a copy of a slice from a DataFrame\n",
            "\n",
            "See the caveats in the documentation: http://pandas.pydata.org/pandas-docs/stable/indexing.html#indexing-view-versus-copy\n",
            "  \"\"\"Entry point for launching an IPython kernel.\n"
          ],
          "name": "stderr"
        }
      ]
    },
    {
      "metadata": {
        "id": "yRMk-CA0o7lA",
        "colab_type": "code",
        "colab": {
          "base_uri": "https://localhost:8080/",
          "height": 204
        },
        "outputId": "af381954-c8e7-43fd-ef65-2ec0b759ef31"
      },
      "cell_type": "code",
      "source": [
        "post.head()"
      ],
      "execution_count": 110,
      "outputs": [
        {
          "output_type": "execute_result",
          "data": {
            "text/html": [
              "<div>\n",
              "<style scoped>\n",
              "    .dataframe tbody tr th:only-of-type {\n",
              "        vertical-align: middle;\n",
              "    }\n",
              "\n",
              "    .dataframe tbody tr th {\n",
              "        vertical-align: top;\n",
              "    }\n",
              "\n",
              "    .dataframe thead th {\n",
              "        text-align: right;\n",
              "    }\n",
              "</style>\n",
              "<table border=\"1\" class=\"dataframe\">\n",
              "  <thead>\n",
              "    <tr style=\"text-align: right;\">\n",
              "      <th></th>\n",
              "      <th>Body</th>\n",
              "      <th>Title</th>\n",
              "      <th>Tags</th>\n",
              "    </tr>\n",
              "  </thead>\n",
              "  <tbody>\n",
              "    <tr>\n",
              "      <th>0</th>\n",
              "      <td>&lt;p&gt;I want to use a track-bar to change a form'...</td>\n",
              "      <td>Convert Decimal to Double?</td>\n",
              "      <td>&lt;c#&gt;&lt;floating-point&gt;&lt;type-conversion&gt;&lt;double&gt;&lt;...</td>\n",
              "    </tr>\n",
              "    <tr>\n",
              "      <th>1</th>\n",
              "      <td>&lt;p&gt;I have an absolutely positioned &lt;code&gt;div&lt;/...</td>\n",
              "      <td>Percentage width child element in absolutely p...</td>\n",
              "      <td>&lt;html&gt;&lt;css&gt;&lt;css3&gt;&lt;internet-explorer-7&gt;</td>\n",
              "    </tr>\n",
              "    <tr>\n",
              "      <th>2</th>\n",
              "      <td>&lt;p&gt;Given a &lt;code&gt;DateTime&lt;/code&gt; representing ...</td>\n",
              "      <td>How do I calculate someone's age in C#?</td>\n",
              "      <td>&lt;c#&gt;&lt;.net&gt;&lt;datetime&gt;</td>\n",
              "    </tr>\n",
              "    <tr>\n",
              "      <th>3</th>\n",
              "      <td>&lt;p&gt;Given a specific &lt;code&gt;DateTime&lt;/code&gt; valu...</td>\n",
              "      <td>Calculate relative time in C#</td>\n",
              "      <td>&lt;c#&gt;&lt;datetime&gt;&lt;time&gt;&lt;datediff&gt;&lt;relative-time-s...</td>\n",
              "    </tr>\n",
              "    <tr>\n",
              "      <th>4</th>\n",
              "      <td>&lt;p&gt;Is there a standard way for a web server to...</td>\n",
              "      <td>Determine a user's timezone</td>\n",
              "      <td>&lt;html&gt;&lt;browser&gt;&lt;timezone&gt;&lt;user-agent&gt;&lt;timezone...</td>\n",
              "    </tr>\n",
              "  </tbody>\n",
              "</table>\n",
              "</div>"
            ],
            "text/plain": [
              "                                                Body  \\\n",
              "0  <p>I want to use a track-bar to change a form'...   \n",
              "1  <p>I have an absolutely positioned <code>div</...   \n",
              "2  <p>Given a <code>DateTime</code> representing ...   \n",
              "3  <p>Given a specific <code>DateTime</code> valu...   \n",
              "4  <p>Is there a standard way for a web server to...   \n",
              "\n",
              "                                               Title  \\\n",
              "0                         Convert Decimal to Double?   \n",
              "1  Percentage width child element in absolutely p...   \n",
              "2            How do I calculate someone's age in C#?   \n",
              "3                      Calculate relative time in C#   \n",
              "4                        Determine a user's timezone   \n",
              "\n",
              "                                                Tags  \n",
              "0  <c#><floating-point><type-conversion><double><...  \n",
              "1             <html><css><css3><internet-explorer-7>  \n",
              "2                               <c#><.net><datetime>  \n",
              "3  <c#><datetime><time><datediff><relative-time-s...  \n",
              "4  <html><browser><timezone><user-agent><timezone...  "
            ]
          },
          "metadata": {
            "tags": []
          },
          "execution_count": 110
        }
      ]
    },
    {
      "metadata": {
        "id": "e7tawU7go__J",
        "colab_type": "code",
        "colab": {
          "base_uri": "https://localhost:8080/",
          "height": 85
        },
        "outputId": "b082574c-a5a4-485d-8313-8d74658e5316"
      },
      "cell_type": "code",
      "source": [
        "post.isnull().sum().sort_values(ascending=False) / post.shape[0] * 100"
      ],
      "execution_count": 111,
      "outputs": [
        {
          "output_type": "execute_result",
          "data": {
            "text/plain": [
              "Tags     0.0\n",
              "Title    0.0\n",
              "Body     0.0\n",
              "dtype: float64"
            ]
          },
          "metadata": {
            "tags": []
          },
          "execution_count": 111
        }
      ]
    },
    {
      "metadata": {
        "id": "dTfPT3e9PPjU",
        "colab_type": "text"
      },
      "cell_type": "markdown",
      "source": [
        "Observation des valeurs nulles dans le dataframe afin d'être sur d'avoir un echantillon de données complet pour la suite "
      ]
    },
    {
      "metadata": {
        "id": "vM0S4kYSzpy6",
        "colab_type": "code",
        "colab": {
          "base_uri": "https://localhost:8080/",
          "height": 119
        },
        "outputId": "f092c452-7429-4656-8eed-6056be85b06c"
      },
      "cell_type": "code",
      "source": [
        "post[\"Full_Post\"] = np.where(post[\"Title\"].isna(),post[\"Body\"] , post[\"Title\"] + \" \" + post[\"Body\"])"
      ],
      "execution_count": 112,
      "outputs": [
        {
          "output_type": "stream",
          "text": [
            "/usr/local/lib/python3.6/dist-packages/ipykernel_launcher.py:1: SettingWithCopyWarning: \n",
            "A value is trying to be set on a copy of a slice from a DataFrame.\n",
            "Try using .loc[row_indexer,col_indexer] = value instead\n",
            "\n",
            "See the caveats in the documentation: http://pandas.pydata.org/pandas-docs/stable/indexing.html#indexing-view-versus-copy\n",
            "  \"\"\"Entry point for launching an IPython kernel.\n"
          ],
          "name": "stderr"
        }
      ]
    },
    {
      "metadata": {
        "id": "xRObXJ-DPV4e",
        "colab_type": "text"
      },
      "cell_type": "markdown",
      "source": [
        "Concatenation du body et du titre pour ne perdre aucune information sur le suceptible post (I.E un langage peut être juste mentionné dans le titre puis suggeré dans le post ainsi on perdrait de l'information sur le post et le système de tagging)"
      ]
    },
    {
      "metadata": {
        "id": "WLTKeWC6zwYT",
        "colab_type": "code",
        "colab": {}
      },
      "cell_type": "code",
      "source": [
        "post = post[\"Full_Post\"]"
      ],
      "execution_count": 0,
      "outputs": []
    },
    {
      "metadata": {
        "id": "t1L7b1Ev2dBZ",
        "colab_type": "text"
      },
      "cell_type": "markdown",
      "source": [
        "<h2> Preprocessing des données avec NLTK + BeautifulSoup </h2>"
      ]
    },
    {
      "metadata": {
        "id": "z9ABBPOeXzRF",
        "colab_type": "text"
      },
      "cell_type": "markdown",
      "source": [
        "<h3> BeautifulSoup </h3>"
      ]
    },
    {
      "metadata": {
        "id": "RU6n4N4A1tRh",
        "colab_type": "code",
        "colab": {}
      },
      "cell_type": "code",
      "source": [
        "import nltk\n",
        "from bs4 import BeautifulSoup \n",
        "from nltk.corpus import stopwords\n",
        "from nltk.tokenize import wordpunct_tokenize"
      ],
      "execution_count": 0,
      "outputs": []
    },
    {
      "metadata": {
        "id": "b_HzhLWI8kOJ",
        "colab_type": "code",
        "colab": {}
      },
      "cell_type": "code",
      "source": [
        "def clean_code(post):\n",
        "    for i in range(len(post)):\n",
        "        post[i]=str(post[i]).replace(str(BeautifulSoup(post[i]).find(\"code\")), \"\")\n",
        "        post[i]= BeautifulSoup(post[i]).get_text()"
      ],
      "execution_count": 0,
      "outputs": []
    },
    {
      "metadata": {
        "id": "9vBXSsbQPlXo",
        "colab_type": "text"
      },
      "cell_type": "markdown",
      "source": [
        "Utilisation de la libraire BeautifuSoup afin de d'abord supprimer le code dans les posts puis ensuite récupérer le texte qui se trouve entre les tags HTML "
      ]
    },
    {
      "metadata": {
        "id": "3XkMP2P6AFEZ",
        "colab_type": "code",
        "colab": {}
      },
      "cell_type": "code",
      "source": [
        "liste_p = post.tolist()"
      ],
      "execution_count": 0,
      "outputs": []
    },
    {
      "metadata": {
        "id": "z3rMWjsDPwml",
        "colab_type": "text"
      },
      "cell_type": "markdown",
      "source": [
        "Transformation de la série en liste afin de faciliter les futurs pre processing plutot qu'utiliser une serie qui ralentirait beaucoup les traitements."
      ]
    },
    {
      "metadata": {
        "id": "3pgvuDWwAGAh",
        "colab_type": "code",
        "colab": {}
      },
      "cell_type": "code",
      "source": [
        "clean_code(liste_p)"
      ],
      "execution_count": 0,
      "outputs": []
    },
    {
      "metadata": {
        "id": "zjQfZQliYTQb",
        "colab_type": "text"
      },
      "cell_type": "markdown",
      "source": [
        "<h3> NLTK Processing </h3>"
      ]
    },
    {
      "metadata": {
        "id": "6rTe4US3PjF5",
        "colab_type": "code",
        "colab": {}
      },
      "cell_type": "code",
      "source": [
        "import pickle\n",
        "\n",
        "liste_p = pickle.load(open('/content/gdrive/My Drive/Stack_OF/liste_posts.pkl','rb'))"
      ],
      "execution_count": 0,
      "outputs": []
    },
    {
      "metadata": {
        "id": "c0DWXPI2GVHn",
        "colab_type": "code",
        "colab": {}
      },
      "cell_type": "code",
      "source": [
        "tokenizer = nltk.RegexpTokenizer(r'\\w+')\n",
        "stop_words = set(stopwords.words('english'))\n",
        "stop_words.update(['need','think','way','want','problem','think','question',\n",
        "                   'answer','use','ii','change','help','would',\"write\",'check','sure','error','exists','work','thing','like','look',\n",
        "                  \"something\", \"could\",\"simple\",\"might\" ,\"along\", \"though\",\"guess\", \"course\" ,\"anything\",\"one\",\"another\",\"two\",\"lot\",\n",
        "                  \"simple\",\"language\",\"code\",\"garbage\",\"either\",\"wait\",\"foo\",\"idea\",\"org\",\"solution\",\"found\"])"
      ],
      "execution_count": 0,
      "outputs": []
    },
    {
      "metadata": {
        "id": "RVfsBNesQB_C",
        "colab_type": "text"
      },
      "cell_type": "markdown",
      "source": [
        "Création d'un ensemble de stop words afin de pouvoir supprimer tous les mots vide de sens pour les futur topics générer par notre algorithme non supervisé"
      ]
    },
    {
      "metadata": {
        "id": "Q5qmX2HDbD7g",
        "colab_type": "code",
        "colab": {}
      },
      "cell_type": "code",
      "source": [
        "from nltk.corpus import wordnet\n",
        "from nltk.stem.wordnet import WordNetLemmatizer\n",
        "lemmatizer = WordNetLemmatizer()\n",
        "\n",
        "# Lemmatize with POS Tag\n",
        "def get_wordnet_pos(word):\n",
        "    \"\"\"Map POS tag to first character lemmatize() accepts\"\"\"\n",
        "    tag = nltk.pos_tag([word])[0][1][0].upper()\n",
        "    tag_dict = {\"J\": wordnet.ADJ,\n",
        "                \"N\": wordnet.NOUN,\n",
        "                \"V\": wordnet.VERB,\n",
        "                \"R\": wordnet.ADV}\n",
        "\n",
        "    return tag_dict.get(tag, wordnet.NOUN)"
      ],
      "execution_count": 0,
      "outputs": []
    },
    {
      "metadata": {
        "id": "IILxNPDgQNIS",
        "colab_type": "text"
      },
      "cell_type": "markdown",
      "source": [
        "Création d'une fonction permettant de renvoyer le type de chaque mot (adjectif, verbe, noms, adverbes ). L'objectif est de garder uniquement les noms car notre algorithme de tagging doit suceptiblement faire apparaitre des langages informatiques, destechnologies ou d'autre chose liées à Stack Overflow directement ce q'un verbe ne ferait pas et diminuerait la pertinence des taggings."
      ]
    },
    {
      "metadata": {
        "id": "876VVmqYZiOv",
        "colab_type": "code",
        "colab": {}
      },
      "cell_type": "code",
      "source": [
        "def tokenize_list(liste_p):\n",
        "\n",
        "    new_list = list()\n",
        "    freq =  nltk.FreqDist()\n",
        "    \n",
        "    for i in range(len(liste_p)):\n",
        "        \n",
        "        new_list.append([lemmatizer.lemmatize(w.lower(),get_wordnet_pos(w.lower())) \n",
        "                                      for w in tokenizer.tokenize(liste_p[i]) if not w.lower() in stop_words and str.isalpha(w)== True and\n",
        "                         get_wordnet_pos(w.lower())==\"n\"])\n",
        "        \n",
        "        freq += nltk.FreqDist(new_list[i])\n",
        "        \n",
        "    return new_list, freq"
      ],
      "execution_count": 0,
      "outputs": []
    },
    {
      "metadata": {
        "id": "jJonA39PQkS-",
        "colab_type": "text"
      },
      "cell_type": "markdown",
      "source": [
        "Création d'une fonction renvoyant une liste de fréquence pour observer les mots qui ressortent le plus pour peut être updater notre liste de stop words si on observer des mots incohérents. On renvoie aussi une liste traiter avec lemmatization + suppression des variable numériques + recuperation du bag of words en minuscule"
      ]
    },
    {
      "metadata": {
        "id": "yxfSqfKMbcjB",
        "colab_type": "code",
        "colab": {}
      },
      "cell_type": "code",
      "source": [
        "new_list,freq = tokenize_list(liste_p)"
      ],
      "execution_count": 0,
      "outputs": []
    },
    {
      "metadata": {
        "id": "3BJimR6bgAW8",
        "colab_type": "code",
        "colab": {
          "base_uri": "https://localhost:8080/",
          "height": 1717
        },
        "outputId": "b2138894-52b0-48be-96fe-074869816154"
      },
      "cell_type": "code",
      "source": [
        "freq.most_common(100)"
      ],
      "execution_count": 128,
      "outputs": [
        {
          "output_type": "execute_result",
          "data": {
            "text/plain": [
              "[('file', 18710),\n",
              " ('c', 14056),\n",
              " ('application', 12135),\n",
              " ('net', 11802),\n",
              " ('server', 11007),\n",
              " ('user', 10410),\n",
              " ('data', 10000),\n",
              " ('class', 9726),\n",
              " ('window', 8858),\n",
              " ('object', 8434),\n",
              " ('web', 8060),\n",
              " ('time', 7897),\n",
              " ('page', 7751),\n",
              " ('value', 7560),\n",
              " ('method', 7465),\n",
              " ('project', 7365),\n",
              " ('database', 7229),\n",
              " ('string', 7132),\n",
              " ('table', 6883),\n",
              " ('sql', 6812),\n",
              " ('system', 6785),\n",
              " ('example', 6561),\n",
              " ('set', 6524),\n",
              " ('control', 6460),\n",
              " ('java', 6357),\n",
              " ('function', 6335),\n",
              " ('type', 6309),\n",
              " ('name', 5866),\n",
              " ('anyone', 5622),\n",
              " ('test', 5325),\n",
              " ('create', 5189),\n",
              " ('list', 5166),\n",
              " ('asp', 5102),\n",
              " ('text', 4927),\n",
              " ('service', 4774),\n",
              " ('form', 4677),\n",
              " ('line', 4631),\n",
              " ('call', 4595),\n",
              " ('return', 4430),\n",
              " ('version', 4355),\n",
              " ('number', 4261),\n",
              " ('app', 4223),\n",
              " ('library', 4109),\n",
              " ('access', 4082),\n",
              " ('http', 4077),\n",
              " ('thanks', 4070),\n",
              " ('edit', 4031),\n",
              " ('xml', 3972),\n",
              " ('update', 3956),\n",
              " ('without', 3916),\n",
              " ('source', 3847),\n",
              " ('property', 3700),\n",
              " ('event', 3675),\n",
              " ('client', 3671),\n",
              " ('php', 3666),\n",
              " ('site', 3646),\n",
              " ('e', 3630),\n",
              " ('query', 3627),\n",
              " ('script', 3557),\n",
              " ('process', 3548),\n",
              " ('tool', 3539),\n",
              " ('etc', 3537),\n",
              " ('html', 3532),\n",
              " ('build', 3474),\n",
              " ('id', 3468),\n",
              " ('image', 3464),\n",
              " ('work', 3446),\n",
              " ('program', 3415),\n",
              " ('javascript', 3386),\n",
              " ('com', 3368),\n",
              " ('case', 3300),\n",
              " ('result', 3295),\n",
              " ('studio', 3218),\n",
              " ('item', 3196),\n",
              " ('message', 3169),\n",
              " ('column', 3166),\n",
              " ('read', 3138),\n",
              " ('end', 3128),\n",
              " ('option', 3048),\n",
              " ('key', 3026),\n",
              " ('right', 3011),\n",
              " ('field', 2987),\n",
              " ('x', 2920),\n",
              " ('point', 2878),\n",
              " ('exception', 2825),\n",
              " ('python', 2815),\n",
              " ('command', 2813),\n",
              " ('framework', 2801),\n",
              " ('issue', 2799),\n",
              " ('view', 2723),\n",
              " ('content', 2707),\n",
              " ('since', 2700),\n",
              " ('public', 2688),\n",
              " ('directory', 2681),\n",
              " ('start', 2647),\n",
              " ('information', 2628),\n",
              " ('bit', 2618),\n",
              " ('select', 2585),\n",
              " ('try', 2563),\n",
              " ('row', 2542)]"
            ]
          },
          "metadata": {
            "tags": []
          },
          "execution_count": 128
        }
      ]
    },
    {
      "metadata": {
        "id": "boiw6-4YRnJr",
        "colab_type": "text"
      },
      "cell_type": "markdown",
      "source": [
        "Mots en top fréquence (100 plus fréquents)"
      ]
    },
    {
      "metadata": {
        "id": "05PLOIVvhz4i",
        "colab_type": "text"
      },
      "cell_type": "markdown",
      "source": [
        "<h3> Tf-idf </h3>"
      ]
    },
    {
      "metadata": {
        "id": "8_xCgnaoh99U",
        "colab_type": "code",
        "colab": {}
      },
      "cell_type": "code",
      "source": [
        "from sklearn.feature_extraction.text import TfidfVectorizer\n",
        "import itertools"
      ],
      "execution_count": 0,
      "outputs": []
    },
    {
      "metadata": {
        "id": "ro5LYj9Ljz-V",
        "colab_type": "code",
        "colab": {}
      },
      "cell_type": "code",
      "source": [
        "from nltk.tokenize.moses import MosesDetokenizer\n",
        "\n",
        "detokenizer = MosesDetokenizer()\n",
        "\n",
        "new_list = [detokenizer.detokenize(x, return_str=True) for x in new_list]"
      ],
      "execution_count": 0,
      "outputs": []
    },
    {
      "metadata": {
        "id": "VVUzOsCHRt1p",
        "colab_type": "text"
      },
      "cell_type": "markdown",
      "source": [
        "Detokenization des  bags of words afin de pouvoir appliquer directement la transformation tf_idf sans avoir a utiliser de boucle dans nos sous liste "
      ]
    },
    {
      "metadata": {
        "id": "yaYOs6jYukkT",
        "colab_type": "code",
        "colab": {}
      },
      "cell_type": "code",
      "source": [
        "new_list = [x.replace(\"cs\",\"css\") for x in new_list]"
      ],
      "execution_count": 0,
      "outputs": []
    },
    {
      "metadata": {
        "id": "bsC1lSxbR5H8",
        "colab_type": "text"
      },
      "cell_type": "markdown",
      "source": [
        "Correction sur le mot css au lieu de cs qui a été tronqué par la lemmatization "
      ]
    },
    {
      "metadata": {
        "id": "Tgz010j3kf3e",
        "colab_type": "code",
        "colab": {}
      },
      "cell_type": "code",
      "source": [
        "vectorizer =  TfidfVectorizer(min_df=2, max_features=4000, stop_words= stop_words)\n",
        "\n",
        "tf_idf = vectorizer.fit_transform(new_list)"
      ],
      "execution_count": 0,
      "outputs": []
    },
    {
      "metadata": {
        "id": "l8WiMZQ7R-Fa",
        "colab_type": "text"
      },
      "cell_type": "markdown",
      "source": [
        "Application de la transformation en TF_Idf en une matrice (nb_posts, mots) avec chacun leur poids tf_idf "
      ]
    },
    {
      "metadata": {
        "id": "5PDdB27RlXVI",
        "colab_type": "code",
        "colab": {}
      },
      "cell_type": "code",
      "source": [
        "vectorizer.get_feature_names()"
      ],
      "execution_count": 0,
      "outputs": []
    },
    {
      "metadata": {
        "id": "zvbQhFCLSLsQ",
        "colab_type": "text"
      },
      "cell_type": "markdown",
      "source": [
        "Récupération du nom des features de la matrice tf_idf"
      ]
    },
    {
      "metadata": {
        "id": "I_UG17TQl4EP",
        "colab_type": "text"
      },
      "cell_type": "markdown",
      "source": [
        "<h3> Test Non negative matrix factorisation </h3>"
      ]
    },
    {
      "metadata": {
        "id": "lC05L453mEZx",
        "colab_type": "code",
        "colab": {}
      },
      "cell_type": "code",
      "source": [
        "from sklearn.decomposition import NMF"
      ],
      "execution_count": 0,
      "outputs": []
    },
    {
      "metadata": {
        "id": "JsQPESddmHEZ",
        "colab_type": "code",
        "colab": {}
      },
      "cell_type": "code",
      "source": [
        "def display_topics(model, feature_names, no_top_words):\n",
        "    for topic_idx, topic in enumerate(model.components_):\n",
        "        print (\"Topic %d:\" % (topic_idx))\n",
        "        print (\" \".join([feature_names[i]\n",
        "                        for i in topic.argsort()[:-no_top_words - 1:-1]]))"
      ],
      "execution_count": 0,
      "outputs": []
    },
    {
      "metadata": {
        "id": "RqhldNtGSPuX",
        "colab_type": "text"
      },
      "cell_type": "markdown",
      "source": [
        "Création d'une fonction pour afficher les 10 mots les plus impactant au sein de chaque topics"
      ]
    },
    {
      "metadata": {
        "id": "qLNVqrqtmKa0",
        "colab_type": "code",
        "colab": {
          "base_uri": "https://localhost:8080/",
          "height": 1207
        },
        "outputId": "34b6aac5-6b6a-4f5e-d4a8-a987c9d356f2"
      },
      "cell_type": "code",
      "source": [
        "no_topics = 35\n",
        "\n",
        "# Run NMF\n",
        "nmf = NMF(n_components=no_topics, random_state=1, alpha=.1, l1_ratio=.5, init='nndsvd').fit(tf_idf)\n",
        "\n",
        "no_top_words = 10\n",
        "display_topics(nmf, vectorizer.get_feature_names(), no_top_words)"
      ],
      "execution_count": 126,
      "outputs": [
        {
          "output_type": "stream",
          "text": [
            "Topic 0:\n",
            "sql server query procedure linq client connection express statement management\n",
            "Topic 1:\n",
            "table column row query id select record sql mysql key\n",
            "Topic 2:\n",
            "file directory folder path read copy config upload script batch\n",
            "Topic 3:\n",
            "class public interface name member instance base property constructor type\n",
            "Topic 4:\n",
            "page javascript html browser site web css content link ajax\n",
            "Topic 5:\n",
            "net asp mvc framework vb web website ajax site webforms\n",
            "Topic 6:\n",
            "string character convert regex expression char match number format return\n",
            "Topic 7:\n",
            "studio debug express ide microsoft build option management designer debugger\n",
            "Topic 8:\n",
            "project build source eclipse folder svn reference repository dependency directory\n",
            "Topic 9:\n",
            "service web wcf client soap call server wsdl config site\n",
            "Topic 10:\n",
            "java eclipse library jar jvm applet lang sun api equivalent\n",
            "Topic 11:\n",
            "function call return javascript parameter argument pointer int jquery pas\n",
            "Topic 12:\n",
            "test unit nunit junit framework coverage integration mock tdd suite\n",
            "Topic 13:\n",
            "object property type reference collection instance create javascript model linq\n",
            "Topic 14:\n",
            "window xp vista linux mobile program machine command platform screen\n",
            "Topic 15:\n",
            "image png background jpg css display color pixel icon div\n",
            "Topic 16:\n",
            "control wpf property custom source button textbox panel tab winforms\n",
            "Topic 17:\n",
            "list item collection generic element sharepoint sort query menu example\n",
            "Topic 18:\n",
            "python module script library perl ruby import py django interpreter\n",
            "Topic 19:\n",
            "php mysql script apache session ini echo framework site variable\n",
            "Topic 20:\n",
            "value property key type return name null set field int\n",
            "Topic 21:\n",
            "data structure excel access read store layer report type binary\n",
            "Topic 22:\n",
            "application web app console desktop iphone config start flex rail\n",
            "Topic 23:\n",
            "user password login session authentication access account email name group\n",
            "Topic 24:\n",
            "line text command script character html search editor word tag\n",
            "Topic 25:\n",
            "database mysql access oracle schema connection db sql store connect\n",
            "Topic 26:\n",
            "xml document element node schema attribute xsl tag xslt xsd\n",
            "Topic 27:\n",
            "event handler button click fire mouse element handle log trigger\n",
            "Topic 28:\n",
            "form field button submit input post validation show box jquery\n",
            "Topic 29:\n",
            "array element byte index loop size length int sort dimensional\n",
            "Topic 30:\n",
            "method call parameter exception return extension interface type public argument\n",
            "Topic 31:\n",
            "date time format datetime day month range convert mm year\n",
            "Topic 32:\n",
            "http url com request www site example post header domain\n",
            "Topic 33:\n",
            "tool system version library time process anyone source number build\n",
            "Topic 34:\n",
            "thread exception process lock call worker multiple multi cpu ui\n"
          ],
          "name": "stdout"
        }
      ]
    },
    {
      "metadata": {
        "id": "fBQexYoXSq5n",
        "colab_type": "text"
      },
      "cell_type": "markdown",
      "source": [
        "Création de la matrice non négative que l'on va fit avec notre matrice TF_idf.\n",
        "La matrice TF_idf va être décomposée en une matrice V = WH\n",
        "\n",
        "\n",
        "*   V notre matrice initiale tf_idf (n_post,n_mots)\n",
        "*   W notre matrice de posts to topics (n_post, n_topics)\n",
        "*   H notre components matrix donc topics to words (n_topics, n_words)\n",
        "\n",
        "\n",
        "\n"
      ]
    },
    {
      "metadata": {
        "id": "g-R3fuYUedOq",
        "colab_type": "text"
      },
      "cell_type": "markdown",
      "source": [
        "<h3> Export tf_idf Matrix + Liste posts</h3>"
      ]
    },
    {
      "metadata": {
        "id": "WJInLYLcem69",
        "colab_type": "code",
        "colab": {}
      },
      "cell_type": "code",
      "source": [
        "import pickle\n",
        "\n",
        "pickle.dump(tf_idf, open('/content/gdrive/My Drive/Stack_OF/tf_idf.pkl','wb'))\n",
        "pickle.dump(liste_p, open('/content/gdrive/My Drive/Stack_OF/liste_posts.pkl','wb'))\n",
        "pickle.dump(vectorizer.get_feature_names(), open('/content/gdrive/My Drive/Stack_OF/terms.pkl','wb'))\n",
        "pickle.dump(vectorizer, open('/content/gdrive/My Drive/Stack_OF/vectorizer.pkl','wb'))"
      ],
      "execution_count": 0,
      "outputs": []
    },
    {
      "metadata": {
        "id": "yQVgPGHdTQTe",
        "colab_type": "text"
      },
      "cell_type": "markdown",
      "source": [
        "Sérialisation des instances qui seront utiles dans nos autres notebook"
      ]
    },
    {
      "metadata": {
        "id": "k8nux4C6Xrw3",
        "colab_type": "text"
      },
      "cell_type": "markdown",
      "source": [
        "<h2> Download packages NLTK </h2>"
      ]
    },
    {
      "metadata": {
        "id": "JFsLBBueXwGc",
        "colab_type": "code",
        "colab": {
          "base_uri": "https://localhost:8080/",
          "height": 187
        },
        "outputId": "7bddf27b-6d34-44f9-9d9b-b059222501ca"
      },
      "cell_type": "code",
      "source": [
        "nltk.download('wordnet')\n",
        "nltk.download('stopwords')\n",
        "nltk.download('averaged_perceptron_tagger')\n",
        "nltk.download('perluniprops')"
      ],
      "execution_count": 5,
      "outputs": [
        {
          "output_type": "stream",
          "text": [
            "[nltk_data] Downloading package wordnet to /root/nltk_data...\n",
            "[nltk_data]   Unzipping corpora/wordnet.zip.\n",
            "[nltk_data] Downloading package stopwords to /root/nltk_data...\n",
            "[nltk_data]   Unzipping corpora/stopwords.zip.\n",
            "[nltk_data] Downloading package averaged_perceptron_tagger to\n",
            "[nltk_data]     /root/nltk_data...\n",
            "[nltk_data]   Unzipping taggers/averaged_perceptron_tagger.zip.\n",
            "[nltk_data] Downloading package perluniprops to /root/nltk_data...\n",
            "[nltk_data]   Unzipping misc/perluniprops.zip.\n"
          ],
          "name": "stdout"
        },
        {
          "output_type": "execute_result",
          "data": {
            "text/plain": [
              "True"
            ]
          },
          "metadata": {
            "tags": []
          },
          "execution_count": 5
        }
      ]
    },
    {
      "metadata": {
        "id": "sH19OlqDTW2V",
        "colab_type": "text"
      },
      "cell_type": "markdown",
      "source": [
        "Téléchargement de tous les packages utiles a nos preprocessing avec NLTK"
      ]
    },
    {
      "metadata": {
        "id": "I9LAwiQW86-j",
        "colab_type": "code",
        "colab": {}
      },
      "cell_type": "code",
      "source": [
        ""
      ],
      "execution_count": 0,
      "outputs": []
    },
    {
      "metadata": {
        "id": "m0D3e8eQ8wc2",
        "colab_type": "code",
        "colab": {}
      },
      "cell_type": "code",
      "source": [
        ""
      ],
      "execution_count": 0,
      "outputs": []
    }
  ]
}