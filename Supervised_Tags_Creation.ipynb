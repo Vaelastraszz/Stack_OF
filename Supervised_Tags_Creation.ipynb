{
  "nbformat": 4,
  "nbformat_minor": 0,
  "metadata": {
    "colab": {
      "name": "Supervised Tags Creation.ipynb",
      "version": "0.3.2",
      "provenance": [],
      "include_colab_link": true
    },
    "kernelspec": {
      "name": "python3",
      "display_name": "Python 3"
    }
  },
  "cells": [
    {
      "cell_type": "markdown",
      "metadata": {
        "id": "view-in-github",
        "colab_type": "text"
      },
      "source": [
        "<a href=\"https://colab.research.google.com/github/Vaelastraszz/Stack_OF/blob/master/Supervised_Tags_Creation.ipynb\" target=\"_parent\"><img src=\"https://colab.research.google.com/assets/colab-badge.svg\" alt=\"Open In Colab\"/></a>"
      ]
    },
    {
      "metadata": {
        "id": "Pekhxhj-MZux",
        "colab_type": "code",
        "outputId": "b0dc26f9-f4e0-46e5-b147-a4b410c28db4",
        "colab": {
          "base_uri": "https://localhost:8080/",
          "height": 122
        }
      },
      "cell_type": "code",
      "source": [
        "import sys\n",
        "import pandas as pd\n",
        "import matplotlib.pyplot as plt\n",
        "import numpy as np\n",
        "\n",
        "from google.colab import drive\n",
        "\n",
        "drive.mount('/content/gdrive')"
      ],
      "execution_count": 1,
      "outputs": [
        {
          "output_type": "stream",
          "text": [
            "Go to this URL in a browser: https://accounts.google.com/o/oauth2/auth?client_id=947318989803-6bn6qk8qdgf4n4g3pfee6491hc0brc4i.apps.googleusercontent.com&redirect_uri=urn%3Aietf%3Awg%3Aoauth%3A2.0%3Aoob&scope=email%20https%3A%2F%2Fwww.googleapis.com%2Fauth%2Fdocs.test%20https%3A%2F%2Fwww.googleapis.com%2Fauth%2Fdrive%20https%3A%2F%2Fwww.googleapis.com%2Fauth%2Fdrive.photos.readonly%20https%3A%2F%2Fwww.googleapis.com%2Fauth%2Fpeopleapi.readonly&response_type=code\n",
            "\n",
            "Enter your authorization code:\n",
            "··········\n",
            "Mounted at /content/gdrive\n"
          ],
          "name": "stdout"
        }
      ]
    },
    {
      "metadata": {
        "id": "UAV99QLfMqaD",
        "colab_type": "code",
        "colab": {}
      },
      "cell_type": "code",
      "source": [
        "raw_post = pd.read_csv(\"/content/gdrive/My Drive/Stack_OF/QueryResults2.csv\")"
      ],
      "execution_count": 0,
      "outputs": []
    },
    {
      "metadata": {
        "id": "oQRlyfEqM9bj",
        "colab_type": "code",
        "colab": {}
      },
      "cell_type": "code",
      "source": [
        "pd.options.display.max_columns = None"
      ],
      "execution_count": 0,
      "outputs": []
    },
    {
      "metadata": {
        "id": "CBIbD_P7NKFs",
        "colab_type": "code",
        "outputId": "ba7f4f2d-d671-4c0a-9939-349bdff7a441",
        "colab": {
          "base_uri": "https://localhost:8080/",
          "height": 615
        }
      },
      "cell_type": "code",
      "source": [
        "raw_post.head()"
      ],
      "execution_count": 0,
      "outputs": [
        {
          "output_type": "execute_result",
          "data": {
            "text/html": [
              "<div>\n",
              "<style scoped>\n",
              "    .dataframe tbody tr th:only-of-type {\n",
              "        vertical-align: middle;\n",
              "    }\n",
              "\n",
              "    .dataframe tbody tr th {\n",
              "        vertical-align: top;\n",
              "    }\n",
              "\n",
              "    .dataframe thead th {\n",
              "        text-align: right;\n",
              "    }\n",
              "</style>\n",
              "<table border=\"1\" class=\"dataframe\">\n",
              "  <thead>\n",
              "    <tr style=\"text-align: right;\">\n",
              "      <th></th>\n",
              "      <th>Id</th>\n",
              "      <th>PostTypeId</th>\n",
              "      <th>AcceptedAnswerId</th>\n",
              "      <th>ParentId</th>\n",
              "      <th>CreationDate</th>\n",
              "      <th>DeletionDate</th>\n",
              "      <th>Score</th>\n",
              "      <th>ViewCount</th>\n",
              "      <th>Body</th>\n",
              "      <th>OwnerUserId</th>\n",
              "      <th>OwnerDisplayName</th>\n",
              "      <th>LastEditorUserId</th>\n",
              "      <th>LastEditorDisplayName</th>\n",
              "      <th>LastEditDate</th>\n",
              "      <th>LastActivityDate</th>\n",
              "      <th>Title</th>\n",
              "      <th>Tags</th>\n",
              "      <th>AnswerCount</th>\n",
              "      <th>CommentCount</th>\n",
              "      <th>FavoriteCount</th>\n",
              "      <th>ClosedDate</th>\n",
              "      <th>CommunityOwnedDate</th>\n",
              "      <th>Clean_tags</th>\n",
              "    </tr>\n",
              "  </thead>\n",
              "  <tbody>\n",
              "    <tr>\n",
              "      <th>0</th>\n",
              "      <td>4</td>\n",
              "      <td>1</td>\n",
              "      <td>7.0</td>\n",
              "      <td>NaN</td>\n",
              "      <td>2008-07-31 21:42:52</td>\n",
              "      <td>NaN</td>\n",
              "      <td>605</td>\n",
              "      <td>39404</td>\n",
              "      <td>&lt;p&gt;I want to use a track-bar to change a form'...</td>\n",
              "      <td>8.0</td>\n",
              "      <td>NaN</td>\n",
              "      <td>6786713.0</td>\n",
              "      <td>Rich B</td>\n",
              "      <td>2018-07-02 17:55:27</td>\n",
              "      <td>2019-01-17 13:39:48</td>\n",
              "      <td>Convert Decimal to Double?</td>\n",
              "      <td>&lt;c#&gt;&lt;floating-point&gt;&lt;type-conversion&gt;&lt;double&gt;&lt;...</td>\n",
              "      <td>13</td>\n",
              "      <td>2</td>\n",
              "      <td>46.0</td>\n",
              "      <td>NaN</td>\n",
              "      <td>2012-10-31 16:42:47</td>\n",
              "      <td>c# floating-point type-conversion double decimal</td>\n",
              "    </tr>\n",
              "    <tr>\n",
              "      <th>1</th>\n",
              "      <td>6</td>\n",
              "      <td>1</td>\n",
              "      <td>31.0</td>\n",
              "      <td>NaN</td>\n",
              "      <td>2008-07-31 22:08:08</td>\n",
              "      <td>NaN</td>\n",
              "      <td>275</td>\n",
              "      <td>17431</td>\n",
              "      <td>&lt;p&gt;I have an absolutely positioned &lt;code&gt;div&lt;/...</td>\n",
              "      <td>9.0</td>\n",
              "      <td>NaN</td>\n",
              "      <td>63550.0</td>\n",
              "      <td>Rich B</td>\n",
              "      <td>2016-03-19 06:05:48</td>\n",
              "      <td>2018-12-15 03:57:18</td>\n",
              "      <td>Percentage width child element in absolutely p...</td>\n",
              "      <td>&lt;html&gt;&lt;css&gt;&lt;css3&gt;&lt;internet-explorer-7&gt;</td>\n",
              "      <td>6</td>\n",
              "      <td>0</td>\n",
              "      <td>10.0</td>\n",
              "      <td>NaN</td>\n",
              "      <td>NaN</td>\n",
              "      <td>html css internet-explorer-7</td>\n",
              "    </tr>\n",
              "    <tr>\n",
              "      <th>2</th>\n",
              "      <td>9</td>\n",
              "      <td>1</td>\n",
              "      <td>1404.0</td>\n",
              "      <td>NaN</td>\n",
              "      <td>2008-07-31 23:40:59</td>\n",
              "      <td>NaN</td>\n",
              "      <td>1743</td>\n",
              "      <td>524070</td>\n",
              "      <td>&lt;p&gt;Given a &lt;code&gt;DateTime&lt;/code&gt; representing ...</td>\n",
              "      <td>1.0</td>\n",
              "      <td>NaN</td>\n",
              "      <td>3956566.0</td>\n",
              "      <td>Rich B</td>\n",
              "      <td>2018-04-21 17:48:14</td>\n",
              "      <td>2018-07-25 11:57:14</td>\n",
              "      <td>How do I calculate someone's age in C#?</td>\n",
              "      <td>&lt;c#&gt;&lt;.net&gt;&lt;datetime&gt;</td>\n",
              "      <td>63</td>\n",
              "      <td>7</td>\n",
              "      <td>421.0</td>\n",
              "      <td>NaN</td>\n",
              "      <td>2011-08-16 19:40:43</td>\n",
              "      <td>c# .net datetime</td>\n",
              "    </tr>\n",
              "    <tr>\n",
              "      <th>3</th>\n",
              "      <td>11</td>\n",
              "      <td>1</td>\n",
              "      <td>1248.0</td>\n",
              "      <td>NaN</td>\n",
              "      <td>2008-07-31 23:55:37</td>\n",
              "      <td>NaN</td>\n",
              "      <td>1417</td>\n",
              "      <td>143604</td>\n",
              "      <td>&lt;p&gt;Given a specific &lt;code&gt;DateTime&lt;/code&gt; valu...</td>\n",
              "      <td>1.0</td>\n",
              "      <td>NaN</td>\n",
              "      <td>6479704.0</td>\n",
              "      <td>user2370523</td>\n",
              "      <td>2017-06-04 15:51:19</td>\n",
              "      <td>2019-01-03 08:03:07</td>\n",
              "      <td>Calculate relative time in C#</td>\n",
              "      <td>&lt;c#&gt;&lt;datetime&gt;&lt;time&gt;&lt;datediff&gt;&lt;relative-time-s...</td>\n",
              "      <td>36</td>\n",
              "      <td>3</td>\n",
              "      <td>536.0</td>\n",
              "      <td>NaN</td>\n",
              "      <td>2009-09-04 13:15:59</td>\n",
              "      <td>c# datetime time datediff</td>\n",
              "    </tr>\n",
              "    <tr>\n",
              "      <th>4</th>\n",
              "      <td>13</td>\n",
              "      <td>1</td>\n",
              "      <td>NaN</td>\n",
              "      <td>NaN</td>\n",
              "      <td>2008-08-01 00:42:38</td>\n",
              "      <td>NaN</td>\n",
              "      <td>568</td>\n",
              "      <td>166386</td>\n",
              "      <td>&lt;p&gt;Is there a standard way for a web server to...</td>\n",
              "      <td>9.0</td>\n",
              "      <td>NaN</td>\n",
              "      <td>9752662.0</td>\n",
              "      <td>Rich B</td>\n",
              "      <td>2018-12-24 22:47:42</td>\n",
              "      <td>2019-02-25 18:10:55</td>\n",
              "      <td>Determine a user's timezone</td>\n",
              "      <td>&lt;html&gt;&lt;browser&gt;&lt;timezone&gt;&lt;user-agent&gt;&lt;timezone...</td>\n",
              "      <td>24</td>\n",
              "      <td>10</td>\n",
              "      <td>144.0</td>\n",
              "      <td>NaN</td>\n",
              "      <td>NaN</td>\n",
              "      <td>html browser timezone user-agent</td>\n",
              "    </tr>\n",
              "  </tbody>\n",
              "</table>\n",
              "</div>"
            ],
            "text/plain": [
              "   Id  PostTypeId  AcceptedAnswerId  ParentId         CreationDate  \\\n",
              "0   4           1               7.0       NaN  2008-07-31 21:42:52   \n",
              "1   6           1              31.0       NaN  2008-07-31 22:08:08   \n",
              "2   9           1            1404.0       NaN  2008-07-31 23:40:59   \n",
              "3  11           1            1248.0       NaN  2008-07-31 23:55:37   \n",
              "4  13           1               NaN       NaN  2008-08-01 00:42:38   \n",
              "\n",
              "   DeletionDate  Score  ViewCount  \\\n",
              "0           NaN    605      39404   \n",
              "1           NaN    275      17431   \n",
              "2           NaN   1743     524070   \n",
              "3           NaN   1417     143604   \n",
              "4           NaN    568     166386   \n",
              "\n",
              "                                                Body  OwnerUserId  \\\n",
              "0  <p>I want to use a track-bar to change a form'...          8.0   \n",
              "1  <p>I have an absolutely positioned <code>div</...          9.0   \n",
              "2  <p>Given a <code>DateTime</code> representing ...          1.0   \n",
              "3  <p>Given a specific <code>DateTime</code> valu...          1.0   \n",
              "4  <p>Is there a standard way for a web server to...          9.0   \n",
              "\n",
              "  OwnerDisplayName  LastEditorUserId LastEditorDisplayName  \\\n",
              "0              NaN         6786713.0                Rich B   \n",
              "1              NaN           63550.0                Rich B   \n",
              "2              NaN         3956566.0                Rich B   \n",
              "3              NaN         6479704.0           user2370523   \n",
              "4              NaN         9752662.0                Rich B   \n",
              "\n",
              "          LastEditDate     LastActivityDate  \\\n",
              "0  2018-07-02 17:55:27  2019-01-17 13:39:48   \n",
              "1  2016-03-19 06:05:48  2018-12-15 03:57:18   \n",
              "2  2018-04-21 17:48:14  2018-07-25 11:57:14   \n",
              "3  2017-06-04 15:51:19  2019-01-03 08:03:07   \n",
              "4  2018-12-24 22:47:42  2019-02-25 18:10:55   \n",
              "\n",
              "                                               Title  \\\n",
              "0                         Convert Decimal to Double?   \n",
              "1  Percentage width child element in absolutely p...   \n",
              "2            How do I calculate someone's age in C#?   \n",
              "3                      Calculate relative time in C#   \n",
              "4                        Determine a user's timezone   \n",
              "\n",
              "                                                Tags  AnswerCount  \\\n",
              "0  <c#><floating-point><type-conversion><double><...           13   \n",
              "1             <html><css><css3><internet-explorer-7>            6   \n",
              "2                               <c#><.net><datetime>           63   \n",
              "3  <c#><datetime><time><datediff><relative-time-s...           36   \n",
              "4  <html><browser><timezone><user-agent><timezone...           24   \n",
              "\n",
              "   CommentCount  FavoriteCount ClosedDate   CommunityOwnedDate  \\\n",
              "0             2           46.0        NaN  2012-10-31 16:42:47   \n",
              "1             0           10.0        NaN                  NaN   \n",
              "2             7          421.0        NaN  2011-08-16 19:40:43   \n",
              "3             3          536.0        NaN  2009-09-04 13:15:59   \n",
              "4            10          144.0        NaN                  NaN   \n",
              "\n",
              "                                         Clean_tags  \n",
              "0  c# floating-point type-conversion double decimal  \n",
              "1                      html css internet-explorer-7  \n",
              "2                                  c# .net datetime  \n",
              "3                         c# datetime time datediff  \n",
              "4                  html browser timezone user-agent  "
            ]
          },
          "metadata": {
            "tags": []
          },
          "execution_count": 76
        }
      ]
    },
    {
      "metadata": {
        "id": "X25-6Uq9ClDj",
        "colab_type": "code",
        "outputId": "9215716d-2da9-48be-91bd-e0a6ba11b432",
        "colab": {
          "base_uri": "https://localhost:8080/",
          "height": 476
        }
      },
      "cell_type": "code",
      "source": [
        "raw_post.info()"
      ],
      "execution_count": 0,
      "outputs": [
        {
          "output_type": "stream",
          "text": [
            "<class 'pandas.core.frame.DataFrame'>\n",
            "RangeIndex: 40819 entries, 0 to 40818\n",
            "Data columns (total 22 columns):\n",
            "Id                       40819 non-null int64\n",
            "PostTypeId               40819 non-null int64\n",
            "AcceptedAnswerId         31375 non-null float64\n",
            "ParentId                 0 non-null float64\n",
            "CreationDate             40819 non-null object\n",
            "DeletionDate             0 non-null float64\n",
            "Score                    40819 non-null int64\n",
            "ViewCount                40819 non-null int64\n",
            "Body                     40819 non-null object\n",
            "OwnerUserId              37255 non-null float64\n",
            "OwnerDisplayName         36055 non-null object\n",
            "LastEditorUserId         29045 non-null float64\n",
            "LastEditorDisplayName    20716 non-null object\n",
            "LastEditDate             29615 non-null object\n",
            "LastActivityDate         40819 non-null object\n",
            "Title                    40819 non-null object\n",
            "Tags                     40819 non-null object\n",
            "AnswerCount              40819 non-null int64\n",
            "CommentCount             40819 non-null int64\n",
            "FavoriteCount            27375 non-null float64\n",
            "ClosedDate               3710 non-null object\n",
            "CommunityOwnedDate       1339 non-null object\n",
            "dtypes: float64(6), int64(6), object(10)\n",
            "memory usage: 6.9+ MB\n"
          ],
          "name": "stdout"
        }
      ]
    },
    {
      "metadata": {
        "id": "wZ04oHm9VjJW",
        "colab_type": "code",
        "outputId": "2af97156-22e2-4c96-a389-4a86a4207b62",
        "colab": {
          "base_uri": "https://localhost:8080/",
          "height": 421
        }
      },
      "cell_type": "code",
      "source": [
        "duplicates = raw_post[raw_post.Body.map(raw_post.Body.value_counts() > 1)]\n",
        "duplicates.sort_values('Body')[['Body', 'Title']]"
      ],
      "execution_count": 4,
      "outputs": [
        {
          "output_type": "execute_result",
          "data": {
            "text/html": [
              "<div>\n",
              "<style scoped>\n",
              "    .dataframe tbody tr th:only-of-type {\n",
              "        vertical-align: middle;\n",
              "    }\n",
              "\n",
              "    .dataframe tbody tr th {\n",
              "        vertical-align: top;\n",
              "    }\n",
              "\n",
              "    .dataframe thead th {\n",
              "        text-align: right;\n",
              "    }\n",
              "</style>\n",
              "<table border=\"1\" class=\"dataframe\">\n",
              "  <thead>\n",
              "    <tr style=\"text-align: right;\">\n",
              "      <th></th>\n",
              "      <th>Body</th>\n",
              "      <th>Title</th>\n",
              "    </tr>\n",
              "  </thead>\n",
              "  <tbody>\n",
              "    <tr>\n",
              "      <th>17113</th>\n",
              "      <td>&lt;p&gt;Anyone have any idea? And any open source s...</td>\n",
              "      <td>How to check the overall health of database us...</td>\n",
              "    </tr>\n",
              "    <tr>\n",
              "      <th>17114</th>\n",
              "      <td>&lt;p&gt;Anyone have any idea? And any open source s...</td>\n",
              "      <td>Monitor SQL currently in shared pool using Toad</td>\n",
              "    </tr>\n",
              "    <tr>\n",
              "      <th>17115</th>\n",
              "      <td>&lt;p&gt;Anyone have any idea? And any open source s...</td>\n",
              "      <td>Monitoring a database instance</td>\n",
              "    </tr>\n",
              "    <tr>\n",
              "      <th>17118</th>\n",
              "      <td>&lt;p&gt;Anyone have any idea? And any open source s...</td>\n",
              "      <td>How to use SQLab Xpert Tuning to tune SQL for ...</td>\n",
              "    </tr>\n",
              "    <tr>\n",
              "      <th>10253</th>\n",
              "      <td>&lt;p&gt;Could somebody please name a few.  I could ...</td>\n",
              "      <td>Advantages of VS 2008 over VS 2005</td>\n",
              "    </tr>\n",
              "    <tr>\n",
              "      <th>10254</th>\n",
              "      <td>&lt;p&gt;Could somebody please name a few.  I could ...</td>\n",
              "      <td>Benefits of SQL Server 2005 over 2000</td>\n",
              "    </tr>\n",
              "    <tr>\n",
              "      <th>30089</th>\n",
              "      <td>&lt;p&gt;How can I turn off the wavy red underlines ...</td>\n",
              "      <td>Netbeans - Turn off - wavy red underlines - How?</td>\n",
              "    </tr>\n",
              "    <tr>\n",
              "      <th>30186</th>\n",
              "      <td>&lt;p&gt;How can I turn off the wavy red underlines ...</td>\n",
              "      <td>Netbeans 6.1 (!5.5.1) - Turn off - wavy red un...</td>\n",
              "    </tr>\n",
              "    <tr>\n",
              "      <th>31152</th>\n",
              "      <td>&lt;p&gt;I am attempting to deploy an ASP.NET 2.0 We...</td>\n",
              "      <td>Need help configuring IIS to serve 2.0 web ser...</td>\n",
              "    </tr>\n",
              "    <tr>\n",
              "      <th>31155</th>\n",
              "      <td>&lt;p&gt;I am attempting to deploy an ASP.NET 2.0 We...</td>\n",
              "      <td>Need help configuring IIS to serve 2.0 web ser...</td>\n",
              "    </tr>\n",
              "    <tr>\n",
              "      <th>31177</th>\n",
              "      <td>&lt;p&gt;I have compression enabled within IIS7 and ...</td>\n",
              "      <td>How can I get ASP.NET AJAX to send its JSON re...</td>\n",
              "    </tr>\n",
              "    <tr>\n",
              "      <th>31226</th>\n",
              "      <td>&lt;p&gt;I have compression enabled within IIS7 and ...</td>\n",
              "      <td>How can I get ASP.NET AJAX to send its JSON re...</td>\n",
              "    </tr>\n",
              "  </tbody>\n",
              "</table>\n",
              "</div>"
            ],
            "text/plain": [
              "                                                    Body  \\\n",
              "17113  <p>Anyone have any idea? And any open source s...   \n",
              "17114  <p>Anyone have any idea? And any open source s...   \n",
              "17115  <p>Anyone have any idea? And any open source s...   \n",
              "17118  <p>Anyone have any idea? And any open source s...   \n",
              "10253  <p>Could somebody please name a few.  I could ...   \n",
              "10254  <p>Could somebody please name a few.  I could ...   \n",
              "30089  <p>How can I turn off the wavy red underlines ...   \n",
              "30186  <p>How can I turn off the wavy red underlines ...   \n",
              "31152  <p>I am attempting to deploy an ASP.NET 2.0 We...   \n",
              "31155  <p>I am attempting to deploy an ASP.NET 2.0 We...   \n",
              "31177  <p>I have compression enabled within IIS7 and ...   \n",
              "31226  <p>I have compression enabled within IIS7 and ...   \n",
              "\n",
              "                                                   Title  \n",
              "17113  How to check the overall health of database us...  \n",
              "17114    Monitor SQL currently in shared pool using Toad  \n",
              "17115                     Monitoring a database instance  \n",
              "17118  How to use SQLab Xpert Tuning to tune SQL for ...  \n",
              "10253                 Advantages of VS 2008 over VS 2005  \n",
              "10254              Benefits of SQL Server 2005 over 2000  \n",
              "30089   Netbeans - Turn off - wavy red underlines - How?  \n",
              "30186  Netbeans 6.1 (!5.5.1) - Turn off - wavy red un...  \n",
              "31152  Need help configuring IIS to serve 2.0 web ser...  \n",
              "31155  Need help configuring IIS to serve 2.0 web ser...  \n",
              "31177  How can I get ASP.NET AJAX to send its JSON re...  \n",
              "31226  How can I get ASP.NET AJAX to send its JSON re...  "
            ]
          },
          "metadata": {
            "tags": []
          },
          "execution_count": 4
        }
      ]
    },
    {
      "metadata": {
        "id": "QiJEpNNPVxUW",
        "colab_type": "code",
        "colab": {}
      },
      "cell_type": "code",
      "source": [
        " raw_post.drop_duplicates(['Body', 'Title'],inplace=True)"
      ],
      "execution_count": 0,
      "outputs": []
    },
    {
      "metadata": {
        "id": "JxiEL0COV2NN",
        "colab_type": "code",
        "outputId": "c16d6ceb-54ff-4d61-8274-ffda70dcf71d",
        "colab": {
          "base_uri": "https://localhost:8080/",
          "height": 34
        }
      },
      "cell_type": "code",
      "source": [
        "raw_post.shape"
      ],
      "execution_count": 0,
      "outputs": [
        {
          "output_type": "execute_result",
          "data": {
            "text/plain": [
              "(40818, 22)"
            ]
          },
          "metadata": {
            "tags": []
          },
          "execution_count": 4
        }
      ]
    },
    {
      "metadata": {
        "id": "WhJJLWHVNPDU",
        "colab_type": "code",
        "colab": {}
      },
      "cell_type": "code",
      "source": [
        "import pickle\n",
        "\n",
        "tf_idf = pickle.load(open('/content/gdrive/My Drive/Stack_OF/tf_idf.pkl','rb'))"
      ],
      "execution_count": 0,
      "outputs": []
    },
    {
      "metadata": {
        "id": "UFhySAv1F3MO",
        "colab_type": "text"
      },
      "cell_type": "markdown",
      "source": [
        "# Analyse des tags "
      ]
    },
    {
      "metadata": {
        "id": "-qoXPjgGkhEm",
        "colab_type": "text"
      },
      "cell_type": "markdown",
      "source": [
        "<h3> Nettoyage des tags </h3>"
      ]
    },
    {
      "metadata": {
        "id": "V03aAeBLNdMb",
        "colab_type": "code",
        "colab": {}
      },
      "cell_type": "code",
      "source": [
        "import re\n",
        "\n",
        "def purge_tags(v):\n",
        "    regex = re.findall(r'\\<(.*?)\\>',v)\n",
        "    new_tags = \" \".join(x for x in regex)\n",
        "    \n",
        "    return new_tags"
      ],
      "execution_count": 0,
      "outputs": []
    },
    {
      "metadata": {
        "id": "OuckzwVZjNbe",
        "colab_type": "code",
        "colab": {}
      },
      "cell_type": "code",
      "source": [
        "raw_post['Tags_f'] = raw_post.Tags\n",
        "raw_post['Tags_f'] = raw_post[\"Tags_f\"].apply(purge_tags)"
      ],
      "execution_count": 0,
      "outputs": []
    },
    {
      "metadata": {
        "id": "mWWJbsbsllN2",
        "colab_type": "text"
      },
      "cell_type": "markdown",
      "source": [
        "<h3> Nombre de tags </h3>"
      ]
    },
    {
      "metadata": {
        "id": "MF9WvIqOmnXG",
        "colab_type": "code",
        "colab": {}
      },
      "cell_type": "code",
      "source": [
        "import nltk"
      ],
      "execution_count": 0,
      "outputs": []
    },
    {
      "metadata": {
        "id": "wlrBTpb4izPV",
        "colab_type": "code",
        "colab": {}
      },
      "cell_type": "code",
      "source": [
        "liste_tags = raw_post.Tags_f.str.split().tolist()"
      ],
      "execution_count": 0,
      "outputs": []
    },
    {
      "metadata": {
        "id": "1Eias2Zwl7L7",
        "colab_type": "code",
        "colab": {}
      },
      "cell_type": "code",
      "source": [
        "def freq_list(liste):\n",
        "    freq =  nltk.FreqDist()\n",
        "    \n",
        "    for i in range(len(liste_tags)):\n",
        "        \n",
        "        freq+= nltk.FreqDist([x for x in liste_tags[i]])\n",
        "        \n",
        "    return freq"
      ],
      "execution_count": 0,
      "outputs": []
    },
    {
      "metadata": {
        "id": "LVJLJ8Lynj_l",
        "colab_type": "code",
        "colab": {}
      },
      "cell_type": "code",
      "source": [
        "freq = freq_list(liste_tags)"
      ],
      "execution_count": 0,
      "outputs": []
    },
    {
      "metadata": {
        "id": "1my2IWCzoTW4",
        "colab_type": "code",
        "outputId": "bb629572-3a7c-4141-982b-9a99ea90108d",
        "colab": {
          "base_uri": "https://localhost:8080/",
          "height": 432
        }
      },
      "cell_type": "code",
      "source": [
        "freq.plot(30)"
      ],
      "execution_count": 0,
      "outputs": [
        {
          "output_type": "display_data",
          "data": {
            "image/png": "[encoded data removed]",
            "text/plain": [
              "<Figure size 576x396 with 1 Axes>"
            ]
          },
          "metadata": {
            "tags": []
          }
        }
      ]
    },
    {
      "metadata": {
        "id": "gBhuP7VTpP2z",
        "colab_type": "text"
      },
      "cell_type": "markdown",
      "source": [
        "On peut voir sur ce graphe qu'il y a des tags qui sont beaucoup plus utilisés que d'autres on peyt donc supposer que si on augmente encore plus le nombre de tags dans le graphe que certains tags seront présents un nombre de fois très faible, on verra donc par la suite garder un nb de tags qui représentent une grande partie des questions sans avoir à garder tous les tags sur lesquels le modèle aurait peu d'exemple"
      ]
    },
    {
      "metadata": {
        "id": "nKVsqMRjolSr",
        "colab_type": "code",
        "outputId": "71c1d4c6-29e4-458b-85a5-6ae647efe0ba",
        "colab": {
          "base_uri": "https://localhost:8080/",
          "height": 34
        }
      },
      "cell_type": "code",
      "source": [
        "freq.B()"
      ],
      "execution_count": 0,
      "outputs": [
        {
          "output_type": "execute_result",
          "data": {
            "text/plain": [
              "8384"
            ]
          },
          "metadata": {
            "tags": []
          },
          "execution_count": 108
        }
      ]
    },
    {
      "metadata": {
        "id": "S_SEsHcLqlVJ",
        "colab_type": "text"
      },
      "cell_type": "markdown",
      "source": [
        "On a donc 8384 tags possibles sur tous les posts qu'on a extrait"
      ]
    },
    {
      "metadata": {
        "id": "5_i8Q087qGQ1",
        "colab_type": "code",
        "colab": {}
      },
      "cell_type": "code",
      "source": [
        "def get_max_tags(liste):\n",
        "    \n",
        "    maxi = len(liste[0])\n",
        "    \n",
        "    for i in range(len(liste)):\n",
        "        \n",
        "        if len(liste[i]) > maxi:\n",
        "            \n",
        "            maxi = len(liste[i])\n",
        "    \n",
        "    return maxi"
      ],
      "execution_count": 0,
      "outputs": []
    },
    {
      "metadata": {
        "id": "7BChfV-YsXnj",
        "colab_type": "code",
        "colab": {}
      },
      "cell_type": "code",
      "source": [
        "def get_min_tags(liste):\n",
        "    \n",
        "    mini = len(liste[0])\n",
        "    \n",
        "    for i in range(len(liste)):\n",
        "        \n",
        "        if len(liste[i]) < mini:\n",
        "          \n",
        "            mini = len(liste[i])\n",
        "        \n",
        "    return mini"
      ],
      "execution_count": 0,
      "outputs": []
    },
    {
      "metadata": {
        "id": "ET321idjscyz",
        "colab_type": "code",
        "colab": {}
      },
      "cell_type": "code",
      "source": [
        "def tags_nb_list(liste):\n",
        "    \n",
        "    array_tags = np.ones(len(liste))\n",
        "    \n",
        "    for i in range(len(liste)):\n",
        "        \n",
        "        array_tags[i] = len(liste[i])\n",
        "    \n",
        "    return array_tags"
      ],
      "execution_count": 0,
      "outputs": []
    },
    {
      "metadata": {
        "id": "q0TL6aeA89BL",
        "colab_type": "code",
        "outputId": "f2a11422-c183-407b-ef2f-c30a17766647",
        "colab": {
          "base_uri": "https://localhost:8080/",
          "height": 34
        }
      },
      "cell_type": "code",
      "source": [
        "sum(freq.values())"
      ],
      "execution_count": 0,
      "outputs": [
        {
          "output_type": "execute_result",
          "data": {
            "text/plain": [
              "119062"
            ]
          },
          "metadata": {
            "tags": []
          },
          "execution_count": 142
        }
      ]
    },
    {
      "metadata": {
        "id": "XJohsl4Qu_dB",
        "colab_type": "code",
        "outputId": "b3f3187e-6943-4faf-a8a0-511a878ba12e",
        "colab": {
          "base_uri": "https://localhost:8080/",
          "height": 34
        }
      },
      "cell_type": "code",
      "source": [
        "get_max_tags(liste_tags)"
      ],
      "execution_count": 0,
      "outputs": [
        {
          "output_type": "execute_result",
          "data": {
            "text/plain": [
              "6"
            ]
          },
          "metadata": {
            "tags": []
          },
          "execution_count": 145
        }
      ]
    },
    {
      "metadata": {
        "id": "hxA_yOomvKGd",
        "colab_type": "code",
        "outputId": "39dc0375-7759-459b-8883-0a0022fd5e5c",
        "colab": {
          "base_uri": "https://localhost:8080/",
          "height": 34
        }
      },
      "cell_type": "code",
      "source": [
        "get_min_tags(liste_tags)"
      ],
      "execution_count": 0,
      "outputs": [
        {
          "output_type": "execute_result",
          "data": {
            "text/plain": [
              "1"
            ]
          },
          "metadata": {
            "tags": []
          },
          "execution_count": 84
        }
      ]
    },
    {
      "metadata": {
        "id": "iyZOvvDuvNvN",
        "colab_type": "code",
        "colab": {}
      },
      "cell_type": "code",
      "source": [
        "tags_array=tags_nb_list(liste_tags)"
      ],
      "execution_count": 0,
      "outputs": []
    },
    {
      "metadata": {
        "id": "fszdhtmvyI04",
        "colab_type": "code",
        "outputId": "91cdb7db-9e3b-4f39-e286-34f1d298f289",
        "colab": {
          "base_uri": "https://localhost:8080/",
          "height": 153
        }
      },
      "cell_type": "code",
      "source": [
        "pd.DataFrame({\"nb_tags\":tags_array}).groupby([\"nb_tags\"]).size()"
      ],
      "execution_count": 0,
      "outputs": [
        {
          "output_type": "execute_result",
          "data": {
            "text/plain": [
              "nb_tags\n",
              "1.0     4123\n",
              "2.0    11359\n",
              "3.0    13118\n",
              "4.0     8230\n",
              "5.0     3981\n",
              "6.0        7\n",
              "dtype: int64"
            ]
          },
          "metadata": {
            "tags": []
          },
          "execution_count": 149
        }
      ]
    },
    {
      "metadata": {
        "id": "82QCig3o5CYZ",
        "colab_type": "text"
      },
      "cell_type": "markdown",
      "source": [
        "<h3> Récupération des tags utiles </h3>"
      ]
    },
    {
      "metadata": {
        "id": "fyEKME1m5Sh5",
        "colab_type": "code",
        "colab": {}
      },
      "cell_type": "code",
      "source": [
        "dict_tags = dict(freq.most_common(freq.B()))"
      ],
      "execution_count": 0,
      "outputs": []
    },
    {
      "metadata": {
        "id": "K9DoUwEq5izT",
        "colab_type": "code",
        "colab": {}
      },
      "cell_type": "code",
      "source": [
        "dict_tags"
      ],
      "execution_count": 0,
      "outputs": []
    },
    {
      "metadata": {
        "id": "AhqFDQ4L8CWI",
        "colab_type": "code",
        "colab": {}
      },
      "cell_type": "code",
      "source": [
        "def calcul_explanation(dict_tags):\n",
        "    \n",
        "    nb=0\n",
        "    iteration = 0\n",
        "    \n",
        "    for key in dict_tags:\n",
        "        \n",
        "        nb += dict_tags[key]\n",
        "        iteration = iteration + 1\n",
        "        \n",
        "        if nb / sum(freq.values()) * 100 > 90:\n",
        "            \n",
        "            nb_words = iteration\n",
        "            break\n",
        "    \n",
        "    return nb_words"
      ],
      "execution_count": 0,
      "outputs": []
    },
    {
      "metadata": {
        "id": "QHHbLPrb9e0X",
        "colab_type": "code",
        "outputId": "153767d4-3342-41d4-aa38-4d769324e68c",
        "colab": {
          "base_uri": "https://localhost:8080/",
          "height": 34
        }
      },
      "cell_type": "code",
      "source": [
        "calcul_explanation(dict_tags)"
      ],
      "execution_count": 0,
      "outputs": [
        {
          "output_type": "execute_result",
          "data": {
            "text/plain": [
              "1907"
            ]
          },
          "metadata": {
            "tags": []
          },
          "execution_count": 14
        }
      ]
    },
    {
      "metadata": {
        "id": "_nusFoDX9gwd",
        "colab_type": "code",
        "colab": {}
      },
      "cell_type": "code",
      "source": [
        "def useful_tags(dict_tags):\n",
        "     \n",
        "    useful_set = []\n",
        "    iteration = 0\n",
        "    threshold = calcul_explanation(dict_tags)\n",
        "    \n",
        "    for key in dict_tags:\n",
        "        \n",
        "        useful_set.append(key)\n",
        "        iteration = iteration + 1\n",
        "        \n",
        "        if iteration + 1 > 80 :\n",
        "            break\n",
        "    \n",
        "    \n",
        "    return set(useful_set)"
      ],
      "execution_count": 0,
      "outputs": []
    },
    {
      "metadata": {
        "id": "5XgwqXLX_sgd",
        "colab_type": "code",
        "colab": {}
      },
      "cell_type": "code",
      "source": [
        "useful_list = []\n",
        "full_set = useful_tags(dict_tags)\n",
        "\n",
        "for i in range(len(liste_tags)):\n",
        "        useful_list.append([x for x in liste_tags[i] if x in full_set])\n",
        "    "
      ],
      "execution_count": 0,
      "outputs": []
    },
    {
      "metadata": {
        "id": "EdwPNYTiFP1S",
        "colab_type": "text"
      },
      "cell_type": "markdown",
      "source": [
        "<h3> Ajout des tags utiles au dataframe de base </h3>"
      ]
    },
    {
      "metadata": {
        "id": "D-Eo6nN7AVKe",
        "colab_type": "code",
        "outputId": "4632c643-f6bc-48f7-9bfd-84b11545eeb6",
        "colab": {
          "base_uri": "https://localhost:8080/",
          "height": 68
        }
      },
      "cell_type": "code",
      "source": [
        "nltk.download('perluniprops')"
      ],
      "execution_count": 0,
      "outputs": [
        {
          "output_type": "stream",
          "text": [
            "[nltk_data] Downloading package perluniprops to /root/nltk_data...\n",
            "[nltk_data]   Unzipping misc/perluniprops.zip.\n"
          ],
          "name": "stdout"
        },
        {
          "output_type": "execute_result",
          "data": {
            "text/plain": [
              "True"
            ]
          },
          "metadata": {
            "tags": []
          },
          "execution_count": 22
        }
      ]
    },
    {
      "metadata": {
        "id": "Xgl7Q1p8Y-9k",
        "colab_type": "code",
        "colab": {}
      },
      "cell_type": "code",
      "source": [
        "post = raw_post"
      ],
      "execution_count": 0,
      "outputs": []
    },
    {
      "metadata": {
        "id": "ZCuGfFQ29A8b",
        "colab_type": "code",
        "colab": {}
      },
      "cell_type": "code",
      "source": [
        "from nltk.tokenize.moses import MosesDetokenizer\n",
        "\n",
        "detokenizer = MosesDetokenizer()\n",
        "\n",
        "post[\"Clean_tags\"] = pd.DataFrame([detokenizer.detokenize(x, return_str=True) for x in useful_list])"
      ],
      "execution_count": 0,
      "outputs": []
    },
    {
      "metadata": {
        "id": "x2atQvSYIk_U",
        "colab_type": "text"
      },
      "cell_type": "markdown",
      "source": [
        "<h2> Preprocessing avant modélisation </h2>"
      ]
    },
    {
      "metadata": {
        "id": "nWWss_rKrwW8",
        "colab_type": "code",
        "colab": {}
      },
      "cell_type": "code",
      "source": [
        "from sklearn.preprocessing import MultiLabelBinarizer"
      ],
      "execution_count": 0,
      "outputs": []
    },
    {
      "metadata": {
        "id": "sZUTwl8bQ59o",
        "colab_type": "code",
        "colab": {}
      },
      "cell_type": "code",
      "source": [
        "def clean_tf_idf(tf_idf):\n",
        "    \n",
        "    ids_empty = post.index[post.Clean_tags==\"\"].values \n",
        "    tf_idf_arr = tf_idf.toarray()\n",
        "    \n",
        "    new_tf = np.delete(tf_idf_arr, ids_empty, axis=0)\n",
        "   \n",
        "    return new_tf"
      ],
      "execution_count": 0,
      "outputs": []
    },
    {
      "metadata": {
        "id": "nrk-ep32a34f",
        "colab_type": "code",
        "colab": {}
      },
      "cell_type": "code",
      "source": [
        "X = clean_tf_idf(tf_idf)"
      ],
      "execution_count": 0,
      "outputs": []
    },
    {
      "metadata": {
        "id": "XuomA2CDE-VT",
        "colab_type": "code",
        "colab": {}
      },
      "cell_type": "code",
      "source": [
        "post = post[raw_post.Clean_tags!=\"\"]"
      ],
      "execution_count": 0,
      "outputs": []
    },
    {
      "metadata": {
        "id": "lyjWvbeJIppG",
        "colab_type": "code",
        "colab": {}
      },
      "cell_type": "code",
      "source": [
        "y = post['Clean_tags'].str.get_dummies(sep=' ')"
      ],
      "execution_count": 0,
      "outputs": []
    },
    {
      "metadata": {
        "id": "TB98JdqxUdYe",
        "colab_type": "text"
      },
      "cell_type": "markdown",
      "source": [
        "<h3> Pre Processing bis </h3>"
      ]
    },
    {
      "metadata": {
        "id": "56Ay6p1bsXFG",
        "colab_type": "code",
        "outputId": "6118b1eb-bb1e-48ee-9846-b3b547a41ac9",
        "colab": {
          "base_uri": "https://localhost:8080/",
          "height": 34
        }
      },
      "cell_type": "code",
      "source": [
        "mlb = MultiLabelBinarizer()\n",
        "mlb.fit_transform(useful_list).shape"
      ],
      "execution_count": 18,
      "outputs": [
        {
          "output_type": "execute_result",
          "data": {
            "text/plain": [
              "(40818, 80)"
            ]
          },
          "metadata": {
            "tags": []
          },
          "execution_count": 18
        }
      ]
    },
    {
      "metadata": {
        "id": "KoQ1NGZNs7BX",
        "colab_type": "code",
        "colab": {}
      },
      "cell_type": "code",
      "source": [
        "y2 = mlb.fit_transform(useful_list)"
      ],
      "execution_count": 0,
      "outputs": []
    },
    {
      "metadata": {
        "id": "YWeQ4psnbuk0",
        "colab_type": "text"
      },
      "cell_type": "markdown",
      "source": [
        "<h2> Modélisation </h2>"
      ]
    },
    {
      "metadata": {
        "id": "p-Vmf7ZkYQCP",
        "colab_type": "code",
        "colab": {}
      },
      "cell_type": "code",
      "source": [
        "from sklearn import model_selection\n",
        "\n",
        "X_train, X_test, y_train, y_test = model_selection.train_test_split(tf_idf,y2,test_size = 0.3,random_state = 0)"
      ],
      "execution_count": 0,
      "outputs": []
    },
    {
      "metadata": {
        "id": "JgkHVm3bdvZZ",
        "colab_type": "code",
        "colab": {}
      },
      "cell_type": "code",
      "source": [
        "from sklearn.model_selection import cross_val_score\n",
        "from sklearn.model_selection import GridSearchCV\n",
        "from sklearn.metrics import f1_score\n",
        "from sklearn.ensemble import RandomForestClassifier\n",
        "from sklearn.linear_model import LogisticRegression\n",
        "from sklearn.multiclass import OneVsRestClassifier\n",
        "from sklearn.metrics import classification_report\n"
      ],
      "execution_count": 0,
      "outputs": []
    },
    {
      "metadata": {
        "id": "PWYRJKL8dDLb",
        "colab_type": "text"
      },
      "cell_type": "markdown",
      "source": [
        "<h3> Trial with Logistic Regression </h3>"
      ]
    },
    {
      "metadata": {
        "id": "J4Jg4JfMdxsx",
        "colab_type": "code",
        "outputId": "50e97a0e-7f92-4b7b-dd48-12651311d2d0",
        "colab": {
          "base_uri": "https://localhost:8080/",
          "height": 102
        }
      },
      "cell_type": "code",
      "source": [
        "lr = LogisticRegression()\n",
        "#params = {'estimator__C': np.logspace(-3, 3, 7) , 'estimator__penalty':['l1','l2'] }\n",
        "\n",
        "ovr_clf = OneVsRestClassifier(lr, n_jobs=-1)\n",
        "\n",
        "#model = GridSearchCV(ovr_clf,params, scoring = 'f1_micro', cv=5,n_jobs=-1)\n",
        "ovr_clf.fit(X_train, y_train)\n",
        "\n",
        "#print(model.best_params_)"
      ],
      "execution_count": 22,
      "outputs": [
        {
          "output_type": "execute_result",
          "data": {
            "text/plain": [
              "OneVsRestClassifier(estimator=LogisticRegression(C=1.0, class_weight=None, dual=False, fit_intercept=True,\n",
              "          intercept_scaling=1, max_iter=100, multi_class='warn',\n",
              "          n_jobs=None, penalty='l2', random_state=None, solver='warn',\n",
              "          tol=0.0001, verbose=0, warm_start=False),\n",
              "          n_jobs=-1)"
            ]
          },
          "metadata": {
            "tags": []
          },
          "execution_count": 22
        }
      ]
    },
    {
      "metadata": {
        "id": "7wMGkjiSfSbb",
        "colab_type": "code",
        "outputId": "703cf7ce-34f9-4310-b92b-dc74fec712c9",
        "colab": {
          "base_uri": "https://localhost:8080/",
          "height": 34
        }
      },
      "cell_type": "code",
      "source": [
        "y_pred=ovr_clf.predict(X_test)\n",
        "f1_score(y_test, y_pred, average='micro')"
      ],
      "execution_count": 23,
      "outputs": [
        {
          "output_type": "execute_result",
          "data": {
            "text/plain": [
              "0.4803560076287349"
            ]
          },
          "metadata": {
            "tags": []
          },
          "execution_count": 23
        }
      ]
    },
    {
      "metadata": {
        "id": "YWPc8-MOyFGR",
        "colab_type": "code",
        "outputId": "585ea553-8253-4b6c-9968-abd5fad3dc74",
        "colab": {
          "base_uri": "https://localhost:8080/",
          "height": 1635
        }
      },
      "cell_type": "code",
      "source": [
        "print(classification_report(y_test, y_pred, target_names=mlb.classes_))"
      ],
      "execution_count": 24,
      "outputs": [
        {
          "output_type": "stream",
          "text": [
            "                    precision    recall  f1-score   support\n",
            "\n",
            "              .net       0.73      0.24      0.36      1269\n",
            "          .net-3.5       0.00      0.00      0.00        65\n",
            "    actionscript-3       0.43      0.05      0.09        61\n",
            "              ajax       0.61      0.23      0.34       116\n",
            "         algorithm       0.66      0.17      0.27       135\n",
            "            apache       0.81      0.30      0.44        83\n",
            "            arrays       0.63      0.36      0.46        67\n",
            "           asp.net       0.82      0.44      0.57       759\n",
            "       asp.net-mvc       0.89      0.50      0.64       150\n",
            "                 c       0.56      0.05      0.09       277\n",
            "                c#       0.81      0.39      0.53      1542\n",
            "               c++       0.86      0.50      0.63       673\n",
            "               css       0.88      0.50      0.64       189\n",
            "          database       0.33      0.10      0.15       266\n",
            "   database-design       0.00      0.00      0.00        67\n",
            "         debugging       0.67      0.14      0.24       111\n",
            "            delphi       0.96      0.51      0.66        97\n",
            "        deployment       1.00      0.05      0.10        74\n",
            "   design-patterns       0.80      0.14      0.24        84\n",
            "           eclipse       0.88      0.59      0.71       106\n",
            "             excel       0.96      0.49      0.65       105\n",
            "         exception       0.69      0.26      0.38        77\n",
            "              file       0.50      0.01      0.03        71\n",
            "             flash       0.84      0.43      0.57        86\n",
            "              flex       0.92      0.54      0.68        85\n",
            "          generics       0.85      0.39      0.54        56\n",
            "              html       0.72      0.30      0.43       291\n",
            "              http       0.43      0.04      0.07        77\n",
            "               iis       0.00      0.00      0.00       106\n",
            " internet-explorer       1.00      0.17      0.30        80\n",
            "            iphone       0.91      0.37      0.53       107\n",
            "              java       0.87      0.52      0.65       967\n",
            "        javascript       0.84      0.49      0.62       575\n",
            "            jquery       0.94      0.56      0.70       160\n",
            " language-agnostic       0.00      0.00      0.00       153\n",
            "              linq       0.78      0.35      0.48       110\n",
            "       linq-to-sql       0.75      0.34      0.47        71\n",
            "             linux       0.77      0.31      0.45       162\n",
            "             macos       0.85      0.21      0.33       106\n",
            "         ms-access       1.00      0.28      0.44        71\n",
            "    multithreading       0.87      0.35      0.50       137\n",
            "             mysql       0.90      0.50      0.64       232\n",
            "        networking       0.58      0.09      0.16        76\n",
            "       objective-c       0.83      0.16      0.27        61\n",
            "               oop       0.78      0.06      0.11       114\n",
            "      optimization       1.00      0.01      0.02        80\n",
            "            oracle       0.91      0.52      0.66       151\n",
            "       performance       0.62      0.11      0.19       184\n",
            "              perl       0.89      0.41      0.57        99\n",
            "               php       0.94      0.57      0.71       477\n",
            "            python       0.88      0.61      0.72       417\n",
            "             regex       0.89      0.44      0.59       135\n",
            "              ruby       0.85      0.42      0.56       203\n",
            "     ruby-on-rails       0.94      0.45      0.60       191\n",
            "          security       0.71      0.08      0.15       143\n",
            "        sharepoint       1.00      0.54      0.70       113\n",
            "       silverlight       0.95      0.47      0.62        75\n",
            "               sql       0.63      0.27      0.38       449\n",
            "        sql-server       0.76      0.43      0.55       471\n",
            "   sql-server-2005       0.20      0.02      0.03       115\n",
            "            string       0.56      0.16      0.25        94\n",
            "               svn       0.92      0.73      0.81       189\n",
            "           testing       0.25      0.01      0.02        87\n",
            "              tsql       0.00      0.00      0.00        86\n",
            "      unit-testing       0.86      0.45      0.59       151\n",
            "              unix       1.00      0.08      0.15        72\n",
            "    user-interface       0.67      0.08      0.14       128\n",
            "            vb.net       0.84      0.22      0.35       187\n",
            "   version-control       0.69      0.18      0.29       146\n",
            "     visual-studio       0.61      0.27      0.38       295\n",
            "visual-studio-2005       0.00      0.00      0.00        69\n",
            "visual-studio-2008       0.37      0.06      0.11       163\n",
            "               wcf       0.98      0.64      0.78        76\n",
            "  web-applications       0.00      0.00      0.00        63\n",
            "      web-services       0.66      0.35      0.46       137\n",
            "            winapi       0.33      0.01      0.02       124\n",
            "           windows       0.51      0.13      0.20       373\n",
            "          winforms       0.85      0.27      0.40       207\n",
            "               wpf       0.96      0.49      0.65       159\n",
            "               xml       0.83      0.47      0.60       184\n",
            "\n",
            "         micro avg       0.81      0.34      0.48     16620\n",
            "         macro avg       0.70      0.28      0.38     16620\n",
            "      weighted avg       0.75      0.34      0.45     16620\n",
            "       samples avg       0.38      0.31      0.33     16620\n",
            "\n"
          ],
          "name": "stdout"
        },
        {
          "output_type": "stream",
          "text": [
            "/usr/local/lib/python3.6/dist-packages/sklearn/metrics/classification.py:1143: UndefinedMetricWarning: Precision and F-score are ill-defined and being set to 0.0 in labels with no predicted samples.\n",
            "  'precision', 'predicted', average, warn_for)\n",
            "/usr/local/lib/python3.6/dist-packages/sklearn/metrics/classification.py:1143: UndefinedMetricWarning: Precision and F-score are ill-defined and being set to 0.0 in samples with no predicted labels.\n",
            "  'precision', 'predicted', average, warn_for)\n",
            "/usr/local/lib/python3.6/dist-packages/sklearn/metrics/classification.py:1145: UndefinedMetricWarning: Recall and F-score are ill-defined and being set to 0.0 in samples with no true labels.\n",
            "  'recall', 'true', average, warn_for)\n"
          ],
          "name": "stderr"
        }
      ]
    },
    {
      "metadata": {
        "id": "C4Xsokkic-fk",
        "colab_type": "text"
      },
      "cell_type": "markdown",
      "source": [
        "<h3> Trial with SVM -> Linear SVC </h3>\n"
      ]
    },
    {
      "metadata": {
        "id": "o-RpZq51yZOc",
        "colab_type": "code",
        "outputId": "87597041-0a90-491f-b09b-f036b0e83224",
        "colab": {
          "base_uri": "https://localhost:8080/",
          "height": 102
        }
      },
      "cell_type": "code",
      "source": [
        "from sklearn.svm import LinearSVC\n",
        "\n",
        "svc = LinearSVC(C=1)\n",
        "\n",
        "ovr_svc = OneVsRestClassifier(svc, n_jobs=-1)\n",
        "\n",
        "ovr_svc.fit(X_train, y_train)"
      ],
      "execution_count": 25,
      "outputs": [
        {
          "output_type": "execute_result",
          "data": {
            "text/plain": [
              "OneVsRestClassifier(estimator=LinearSVC(C=1, class_weight=None, dual=True, fit_intercept=True,\n",
              "     intercept_scaling=1, loss='squared_hinge', max_iter=1000,\n",
              "     multi_class='ovr', penalty='l2', random_state=None, tol=0.0001,\n",
              "     verbose=0),\n",
              "          n_jobs=-1)"
            ]
          },
          "metadata": {
            "tags": []
          },
          "execution_count": 25
        }
      ]
    },
    {
      "metadata": {
        "id": "l-Z0hixX2fBP",
        "colab_type": "code",
        "outputId": "6e864561-b090-478d-97eb-bdb6fa34ce1c",
        "colab": {
          "base_uri": "https://localhost:8080/",
          "height": 34
        }
      },
      "cell_type": "code",
      "source": [
        "y_pred_svc=ovr_svc.predict(X_test)\n",
        "f1_score(y_test, y_pred_svc, average='micro')"
      ],
      "execution_count": 26,
      "outputs": [
        {
          "output_type": "execute_result",
          "data": {
            "text/plain": [
              "0.5639391525359433"
            ]
          },
          "metadata": {
            "tags": []
          },
          "execution_count": 26
        }
      ]
    },
    {
      "metadata": {
        "id": "0bPm8yxA5GoG",
        "colab_type": "code",
        "outputId": "85cba1fb-e94c-4236-d81a-230d8c3b0ccc",
        "colab": {
          "base_uri": "https://localhost:8080/",
          "height": 1635
        }
      },
      "cell_type": "code",
      "source": [
        "print(classification_report(y_test, y_pred_svc, target_names=mlb.classes_))"
      ],
      "execution_count": 27,
      "outputs": [
        {
          "output_type": "stream",
          "text": [
            "                    precision    recall  f1-score   support\n",
            "\n",
            "              .net       0.66      0.31      0.42      1269\n",
            "          .net-3.5       0.00      0.00      0.00        65\n",
            "    actionscript-3       0.53      0.26      0.35        61\n",
            "              ajax       0.62      0.34      0.44       116\n",
            "         algorithm       0.66      0.35      0.46       135\n",
            "            apache       0.72      0.46      0.56        83\n",
            "            arrays       0.57      0.48      0.52        67\n",
            "           asp.net       0.79      0.51      0.62       759\n",
            "       asp.net-mvc       0.90      0.69      0.78       150\n",
            "                 c       0.53      0.14      0.23       277\n",
            "                c#       0.74      0.46      0.57      1542\n",
            "               c++       0.82      0.58      0.68       673\n",
            "               css       0.84      0.62      0.71       189\n",
            "          database       0.37      0.15      0.21       266\n",
            "   database-design       0.50      0.06      0.11        67\n",
            "         debugging       0.68      0.32      0.44       111\n",
            "            delphi       0.90      0.77      0.83        97\n",
            "        deployment       0.52      0.15      0.23        74\n",
            "   design-patterns       0.58      0.17      0.26        84\n",
            "           eclipse       0.82      0.71      0.76       106\n",
            "             excel       0.87      0.69      0.77       105\n",
            "         exception       0.70      0.40      0.51        77\n",
            "              file       0.50      0.03      0.05        71\n",
            "             flash       0.80      0.64      0.71        86\n",
            "              flex       0.86      0.73      0.79        85\n",
            "          generics       0.77      0.54      0.63        56\n",
            "              html       0.64      0.38      0.48       291\n",
            "              http       0.57      0.17      0.26        77\n",
            "               iis       0.56      0.05      0.09       106\n",
            " internet-explorer       0.79      0.39      0.52        80\n",
            "            iphone       0.95      0.67      0.79       107\n",
            "              java       0.86      0.62      0.72       967\n",
            "        javascript       0.80      0.59      0.68       575\n",
            "            jquery       0.91      0.76      0.83       160\n",
            " language-agnostic       0.25      0.01      0.01       153\n",
            "              linq       0.71      0.47      0.57       110\n",
            "       linq-to-sql       0.69      0.51      0.59        71\n",
            "             linux       0.64      0.39      0.48       162\n",
            "             macos       0.66      0.35      0.46       106\n",
            "         ms-access       0.97      0.51      0.67        71\n",
            "    multithreading       0.80      0.47      0.60       137\n",
            "             mysql       0.85      0.63      0.73       232\n",
            "        networking       0.39      0.16      0.22        76\n",
            "       objective-c       0.71      0.36      0.48        61\n",
            "               oop       0.65      0.19      0.30       114\n",
            "      optimization       0.73      0.10      0.18        80\n",
            "            oracle       0.88      0.72      0.79       151\n",
            "       performance       0.64      0.23      0.34       184\n",
            "              perl       0.81      0.61      0.69        99\n",
            "               php       0.91      0.70      0.79       477\n",
            "            python       0.86      0.76      0.81       417\n",
            "             regex       0.89      0.63      0.74       135\n",
            "              ruby       0.79      0.53      0.63       203\n",
            "     ruby-on-rails       0.90      0.66      0.76       191\n",
            "          security       0.48      0.21      0.29       143\n",
            "        sharepoint       0.98      0.78      0.87       113\n",
            "       silverlight       0.92      0.80      0.86        75\n",
            "               sql       0.61      0.34      0.43       449\n",
            "        sql-server       0.73      0.53      0.61       471\n",
            "   sql-server-2005       0.32      0.06      0.10       115\n",
            "            string       0.49      0.19      0.27        94\n",
            "               svn       0.91      0.83      0.87       189\n",
            "           testing       0.25      0.06      0.09        87\n",
            "              tsql       0.78      0.08      0.15        86\n",
            "      unit-testing       0.84      0.54      0.66       151\n",
            "              unix       0.75      0.17      0.27        72\n",
            "    user-interface       0.56      0.19      0.28       128\n",
            "            vb.net       0.78      0.33      0.47       187\n",
            "   version-control       0.63      0.34      0.44       146\n",
            "     visual-studio       0.56      0.34      0.42       295\n",
            "visual-studio-2005       0.00      0.00      0.00        69\n",
            "visual-studio-2008       0.44      0.10      0.16       163\n",
            "               wcf       0.94      0.88      0.91        76\n",
            "  web-applications       1.00      0.03      0.06        63\n",
            "      web-services       0.66      0.52      0.58       137\n",
            "            winapi       0.76      0.13      0.22       124\n",
            "           windows       0.51      0.17      0.25       373\n",
            "          winforms       0.74      0.42      0.54       207\n",
            "               wpf       0.93      0.72      0.82       159\n",
            "               xml       0.78      0.54      0.64       184\n",
            "\n",
            "         micro avg       0.76      0.45      0.56     16620\n",
            "         macro avg       0.69      0.41      0.49     16620\n",
            "      weighted avg       0.72      0.45      0.54     16620\n",
            "       samples avg       0.48      0.41      0.42     16620\n",
            "\n"
          ],
          "name": "stdout"
        },
        {
          "output_type": "stream",
          "text": [
            "/usr/local/lib/python3.6/dist-packages/sklearn/metrics/classification.py:1143: UndefinedMetricWarning: Precision and F-score are ill-defined and being set to 0.0 in labels with no predicted samples.\n",
            "  'precision', 'predicted', average, warn_for)\n",
            "/usr/local/lib/python3.6/dist-packages/sklearn/metrics/classification.py:1143: UndefinedMetricWarning: Precision and F-score are ill-defined and being set to 0.0 in samples with no predicted labels.\n",
            "  'precision', 'predicted', average, warn_for)\n",
            "/usr/local/lib/python3.6/dist-packages/sklearn/metrics/classification.py:1145: UndefinedMetricWarning: Recall and F-score are ill-defined and being set to 0.0 in samples with no true labels.\n",
            "  'recall', 'true', average, warn_for)\n"
          ],
          "name": "stderr"
        }
      ]
    },
    {
      "metadata": {
        "id": "pB7YuU0gvkn2",
        "colab_type": "text"
      },
      "cell_type": "markdown",
      "source": [
        "<h3> KNN </h3>"
      ]
    },
    {
      "metadata": {
        "id": "7Gpu3uZfpxy7",
        "colab_type": "code",
        "outputId": "3b27525b-eb2f-40ca-c0a1-d79bbb241dc4",
        "colab": {
          "base_uri": "https://localhost:8080/",
          "height": 34
        }
      },
      "cell_type": "code",
      "source": [
        "from skmultilearn.adapt import MLkNN\n",
        "\n",
        "classifier = MLkNN(k=20)\n",
        "\n",
        "# train\n",
        "classifier.fit(X_train, y_train)"
      ],
      "execution_count": 0,
      "outputs": [
        {
          "output_type": "execute_result",
          "data": {
            "text/plain": [
              "MLkNN(ignore_first_neighbours=0, k=20, s=1.0)"
            ]
          },
          "metadata": {
            "tags": []
          },
          "execution_count": 26
        }
      ]
    },
    {
      "metadata": {
        "id": "3kLNw234ueET",
        "colab_type": "code",
        "outputId": "1fe6524b-bdba-4961-e2d7-c1f1de54ac3f",
        "colab": {
          "base_uri": "https://localhost:8080/",
          "height": 34
        }
      },
      "cell_type": "code",
      "source": [
        "y_pred_knn=classifier.predict(X_test)\n",
        "f1_score(y_test, y_pred_knn, average='micro')"
      ],
      "execution_count": 0,
      "outputs": [
        {
          "output_type": "execute_result",
          "data": {
            "text/plain": [
              "0.3843009643239811"
            ]
          },
          "metadata": {
            "tags": []
          },
          "execution_count": 27
        }
      ]
    },
    {
      "metadata": {
        "id": "0EWF79oKvbrH",
        "colab_type": "code",
        "outputId": "5e2a5859-8ea1-4afc-8bac-5c240396c97c",
        "colab": {
          "base_uri": "https://localhost:8080/",
          "height": 1975
        }
      },
      "cell_type": "code",
      "source": [
        "print(classification_report(y_test, y_pred_knn, target_names=mlb.classes_))"
      ],
      "execution_count": 0,
      "outputs": [
        {
          "output_type": "stream",
          "text": [
            "                    precision    recall  f1-score   support\n",
            "\n",
            "              .net       0.44      0.11      0.18      1269\n",
            "          .net-2.0       0.00      0.00      0.00        58\n",
            "          .net-3.5       0.00      0.00      0.00        65\n",
            "    actionscript-3       0.40      0.07      0.11        61\n",
            "              ajax       0.53      0.23      0.32       116\n",
            "         algorithm       0.70      0.12      0.20       135\n",
            "            apache       0.65      0.37      0.47        83\n",
            "      architecture       0.80      0.08      0.15        50\n",
            "            arrays       0.55      0.24      0.33        67\n",
            "           asp.net       0.63      0.45      0.52       759\n",
            "       asp.net-mvc       0.72      0.54      0.62       150\n",
            "           browser       0.18      0.03      0.06        61\n",
            "                 c       0.73      0.03      0.06       277\n",
            "                c#       0.55      0.20      0.29      1542\n",
            "               c++       0.65      0.35      0.45       673\n",
            "             cocoa       0.65      0.21      0.32        52\n",
            "      coding-style       1.00      0.02      0.04        56\n",
            "      command-line       1.00      0.07      0.13        57\n",
            "               css       0.68      0.41      0.51       189\n",
            "          database       0.37      0.08      0.13       266\n",
            "   database-design       0.33      0.04      0.08        67\n",
            "         debugging       0.83      0.14      0.23       111\n",
            "            delphi       0.93      0.41      0.57        97\n",
            "        deployment       1.00      0.05      0.10        74\n",
            "   design-patterns       0.56      0.17      0.26        84\n",
            "            django       0.85      0.54      0.66        54\n",
            "           eclipse       0.77      0.70      0.73       106\n",
            "             email       0.75      0.35      0.48        51\n",
            "            events       0.50      0.05      0.09        63\n",
            "             excel       0.88      0.60      0.71       105\n",
            "         exception       0.75      0.35      0.48        77\n",
            "              file       0.00      0.00      0.00        71\n",
            "           firefox       0.50      0.29      0.37        51\n",
            "             flash       0.72      0.56      0.63        86\n",
            "              flex       0.69      0.60      0.64        85\n",
            "          generics       0.70      0.57      0.63        56\n",
            "              html       0.63      0.21      0.32       291\n",
            "              http       0.50      0.09      0.15        77\n",
            "               ide       0.80      0.07      0.13        55\n",
            "               iis       0.00      0.00      0.00       106\n",
            "             image       0.62      0.16      0.26        49\n",
            " internet-explorer       0.79      0.28      0.41        80\n",
            "            iphone       0.81      0.51      0.63       107\n",
            "              java       0.67      0.37      0.48       967\n",
            "        javascript       0.62      0.33      0.43       575\n",
            "            jquery       0.75      0.37      0.49       160\n",
            " language-agnostic       0.00      0.00      0.00       153\n",
            "              linq       0.60      0.42      0.49       110\n",
            "       linq-to-sql       0.68      0.48      0.56        71\n",
            "             linux       0.71      0.14      0.23       162\n",
            "           logging       0.48      0.34      0.40        58\n",
            "             macos       0.46      0.28      0.35       106\n",
            "               mfc       0.70      0.30      0.42        46\n",
            "         ms-access       0.72      0.39      0.51        71\n",
            "    multithreading       0.78      0.42      0.54       137\n",
            "             mysql       0.71      0.47      0.56       232\n",
            "        networking       0.67      0.08      0.14        76\n",
            "       objective-c       0.49      0.30      0.37        61\n",
            "               oop       0.63      0.11      0.18       114\n",
            "      optimization       0.33      0.03      0.05        80\n",
            "            oracle       0.77      0.48      0.59       151\n",
            "           parsing       0.56      0.07      0.13        70\n",
            "       performance       0.40      0.05      0.10       184\n",
            "              perl       0.68      0.48      0.56        99\n",
            "               php       0.73      0.42      0.53       477\n",
            "            python       0.69      0.42      0.52       417\n",
            "             regex       0.74      0.53      0.62       135\n",
            "              ruby       0.64      0.39      0.48       203\n",
            "     ruby-on-rails       0.72      0.46      0.56       191\n",
            "         scripting       0.00      0.00      0.00        56\n",
            "          security       0.43      0.13      0.19       143\n",
            "        sharepoint       0.94      0.51      0.66       113\n",
            "             shell       0.54      0.18      0.27        38\n",
            "       silverlight       0.96      0.59      0.73        75\n",
            "               sql       0.55      0.18      0.27       449\n",
            "        sql-server       0.63      0.46      0.53       471\n",
            "   sql-server-2005       0.33      0.01      0.02       115\n",
            " stored-procedures       0.51      0.35      0.42        57\n",
            "            string       0.50      0.17      0.25        94\n",
            "               svn       0.77      0.68      0.72       189\n",
            "           testing       0.00      0.00      0.00        87\n",
            "              tsql       0.42      0.09      0.15        86\n",
            "      unit-testing       0.77      0.35      0.48       151\n",
            "              unix       0.75      0.04      0.08        72\n",
            "    user-interface       0.55      0.14      0.22       128\n",
            "        validation       0.55      0.24      0.33        51\n",
            "            vb.net       0.61      0.15      0.24       187\n",
            "   version-control       0.56      0.23      0.32       146\n",
            "     visual-studio       0.46      0.17      0.25       295\n",
            "visual-studio-2005       0.00      0.00      0.00        69\n",
            "visual-studio-2008       0.38      0.05      0.09       163\n",
            "               wcf       0.95      0.71      0.81        76\n",
            "  web-applications       0.00      0.00      0.00        63\n",
            "      web-services       0.65      0.40      0.50       137\n",
            "            winapi       0.00      0.00      0.00       124\n",
            "           windows       0.50      0.04      0.07       373\n",
            "     windows-vista       0.85      0.38      0.52        58\n",
            "          winforms       0.60      0.24      0.34       207\n",
            "               wpf       0.77      0.49      0.60       159\n",
            "               xml       0.69      0.52      0.59       184\n",
            "\n",
            "         micro avg       0.65      0.27      0.38     17711\n",
            "         macro avg       0.58      0.26      0.33     17711\n",
            "      weighted avg       0.59      0.27      0.35     17711\n",
            "       samples avg       0.32      0.26      0.27     17711\n",
            "\n"
          ],
          "name": "stdout"
        },
        {
          "output_type": "stream",
          "text": [
            "/usr/local/lib/python3.6/dist-packages/sklearn/metrics/classification.py:1143: UndefinedMetricWarning: Precision and F-score are ill-defined and being set to 0.0 in labels with no predicted samples.\n",
            "  'precision', 'predicted', average, warn_for)\n",
            "/usr/local/lib/python3.6/dist-packages/sklearn/metrics/classification.py:1143: UndefinedMetricWarning: Precision and F-score are ill-defined and being set to 0.0 in samples with no predicted labels.\n",
            "  'precision', 'predicted', average, warn_for)\n",
            "/usr/local/lib/python3.6/dist-packages/sklearn/metrics/classification.py:1145: UndefinedMetricWarning: Recall and F-score are ill-defined and being set to 0.0 in samples with no true labels.\n",
            "  'recall', 'true', average, warn_for)\n"
          ],
          "name": "stderr"
        }
      ]
    },
    {
      "metadata": {
        "id": "kJzKT-MwHnGt",
        "colab_type": "text"
      },
      "cell_type": "markdown",
      "source": [
        "<h3> Random Forests </h3>"
      ]
    },
    {
      "metadata": {
        "id": "tuVJrff0Hs-C",
        "colab_type": "code",
        "colab": {
          "base_uri": "https://localhost:8080/",
          "height": 136
        },
        "outputId": "f10d4074-bd66-4e88-85c4-2f6d6f449517"
      },
      "cell_type": "code",
      "source": [
        "from sklearn.ensemble import RandomForestClassifier\n",
        "\n",
        "rfc = RandomForestClassifier(n_estimators=100)\n",
        "\n",
        "rfc.fit(X_train, y_train)"
      ],
      "execution_count": 30,
      "outputs": [
        {
          "output_type": "execute_result",
          "data": {
            "text/plain": [
              "RandomForestClassifier(bootstrap=True, class_weight=None, criterion='gini',\n",
              "            max_depth=None, max_features='auto', max_leaf_nodes=None,\n",
              "            min_impurity_decrease=0.0, min_impurity_split=None,\n",
              "            min_samples_leaf=1, min_samples_split=2,\n",
              "            min_weight_fraction_leaf=0.0, n_estimators=100, n_jobs=None,\n",
              "            oob_score=False, random_state=None, verbose=0,\n",
              "            warm_start=False)"
            ]
          },
          "metadata": {
            "tags": []
          },
          "execution_count": 30
        }
      ]
    },
    {
      "metadata": {
        "id": "z1vk_VvyJw5-",
        "colab_type": "code",
        "colab": {}
      },
      "cell_type": "code",
      "source": [
        "pred_rfc = rfc.predict(X_test)"
      ],
      "execution_count": 0,
      "outputs": []
    },
    {
      "metadata": {
        "id": "GugOHCczKBfn",
        "colab_type": "code",
        "colab": {
          "base_uri": "https://localhost:8080/",
          "height": 1635
        },
        "outputId": "4931a10a-60c7-4647-d1c9-9fd2cd3c32ce"
      },
      "cell_type": "code",
      "source": [
        "print(classification_report(y_test, pred_rfc, target_names=mlb.classes_))"
      ],
      "execution_count": 32,
      "outputs": [
        {
          "output_type": "stream",
          "text": [
            "                    precision    recall  f1-score   support\n",
            "\n",
            "              .net       0.76      0.22      0.33      1269\n",
            "          .net-3.5       0.00      0.00      0.00        65\n",
            "    actionscript-3       0.00      0.00      0.00        61\n",
            "              ajax       1.00      0.08      0.14       116\n",
            "         algorithm       0.71      0.18      0.28       135\n",
            "            apache       0.81      0.20      0.33        83\n",
            "            arrays       0.60      0.13      0.22        67\n",
            "           asp.net       0.83      0.48      0.61       759\n",
            "       asp.net-mvc       0.93      0.52      0.67       150\n",
            "                 c       1.00      0.01      0.01       277\n",
            "                c#       0.85      0.38      0.53      1542\n",
            "               c++       0.84      0.47      0.60       673\n",
            "               css       0.83      0.46      0.59       189\n",
            "          database       1.00      0.01      0.01       266\n",
            "   database-design       0.00      0.00      0.00        67\n",
            "         debugging       0.00      0.00      0.00       111\n",
            "            delphi       0.95      0.58      0.72        97\n",
            "        deployment       0.00      0.00      0.00        74\n",
            "   design-patterns       0.50      0.02      0.05        84\n",
            "           eclipse       0.84      0.51      0.64       106\n",
            "             excel       0.86      0.36      0.51       105\n",
            "         exception       1.00      0.06      0.12        77\n",
            "              file       0.00      0.00      0.00        71\n",
            "             flash       0.78      0.24      0.37        86\n",
            "              flex       0.91      0.48      0.63        85\n",
            "          generics       0.83      0.09      0.16        56\n",
            "              html       0.75      0.12      0.21       291\n",
            "              http       1.00      0.01      0.03        77\n",
            "               iis       1.00      0.01      0.02       106\n",
            " internet-explorer       0.00      0.00      0.00        80\n",
            "            iphone       0.88      0.47      0.61       107\n",
            "              java       0.87      0.57      0.69       967\n",
            "        javascript       0.83      0.52      0.64       575\n",
            "            jquery       0.95      0.56      0.70       160\n",
            " language-agnostic       0.00      0.00      0.00       153\n",
            "              linq       0.90      0.16      0.28       110\n",
            "       linq-to-sql       1.00      0.08      0.16        71\n",
            "             linux       0.77      0.23      0.35       162\n",
            "             macos       0.71      0.11      0.20       106\n",
            "         ms-access       0.00      0.00      0.00        71\n",
            "    multithreading       0.79      0.20      0.32       137\n",
            "             mysql       0.92      0.56      0.70       232\n",
            "        networking       0.00      0.00      0.00        76\n",
            "       objective-c       1.00      0.11      0.21        61\n",
            "               oop       0.00      0.00      0.00       114\n",
            "      optimization       0.00      0.00      0.00        80\n",
            "            oracle       0.90      0.40      0.56       151\n",
            "       performance       0.50      0.01      0.01       184\n",
            "              perl       0.84      0.43      0.57        99\n",
            "               php       0.92      0.56      0.70       477\n",
            "            python       0.89      0.66      0.76       417\n",
            "             regex       0.96      0.35      0.51       135\n",
            "              ruby       0.84      0.47      0.61       203\n",
            "     ruby-on-rails       0.95      0.64      0.77       191\n",
            "          security       0.00      0.00      0.00       143\n",
            "        sharepoint       0.97      0.58      0.72       113\n",
            "       silverlight       0.84      0.28      0.42        75\n",
            "               sql       0.78      0.14      0.23       449\n",
            "        sql-server       0.79      0.44      0.57       471\n",
            "   sql-server-2005       0.00      0.00      0.00       115\n",
            "            string       0.00      0.00      0.00        94\n",
            "               svn       0.90      0.69      0.78       189\n",
            "           testing       0.00      0.00      0.00        87\n",
            "              tsql       1.00      0.01      0.02        86\n",
            "      unit-testing       0.90      0.24      0.38       151\n",
            "              unix       1.00      0.10      0.18        72\n",
            "    user-interface       0.00      0.00      0.00       128\n",
            "            vb.net       0.90      0.20      0.33       187\n",
            "   version-control       0.00      0.00      0.00       146\n",
            "     visual-studio       0.65      0.18      0.29       295\n",
            "visual-studio-2005       0.00      0.00      0.00        69\n",
            "visual-studio-2008       0.00      0.00      0.00       163\n",
            "               wcf       1.00      0.54      0.70        76\n",
            "  web-applications       0.00      0.00      0.00        63\n",
            "      web-services       0.75      0.04      0.08       137\n",
            "            winapi       0.00      0.00      0.00       124\n",
            "           windows       0.46      0.02      0.03       373\n",
            "          winforms       0.90      0.13      0.23       207\n",
            "               wpf       0.96      0.56      0.71       159\n",
            "               xml       0.80      0.23      0.36       184\n",
            "\n",
            "         micro avg       0.85      0.30      0.45     16620\n",
            "         macro avg       0.62      0.21      0.29     16620\n",
            "      weighted avg       0.73      0.30      0.40     16620\n",
            "       samples avg       0.38      0.30      0.32     16620\n",
            "\n"
          ],
          "name": "stdout"
        },
        {
          "output_type": "stream",
          "text": [
            "/usr/local/lib/python3.6/dist-packages/sklearn/metrics/classification.py:1143: UndefinedMetricWarning: Precision and F-score are ill-defined and being set to 0.0 in labels with no predicted samples.\n",
            "  'precision', 'predicted', average, warn_for)\n",
            "/usr/local/lib/python3.6/dist-packages/sklearn/metrics/classification.py:1143: UndefinedMetricWarning: Precision and F-score are ill-defined and being set to 0.0 in samples with no predicted labels.\n",
            "  'precision', 'predicted', average, warn_for)\n",
            "/usr/local/lib/python3.6/dist-packages/sklearn/metrics/classification.py:1145: UndefinedMetricWarning: Recall and F-score are ill-defined and being set to 0.0 in samples with no true labels.\n",
            "  'recall', 'true', average, warn_for)\n"
          ],
          "name": "stderr"
        }
      ]
    },
    {
      "metadata": {
        "id": "Bh_VdQ6lNpxa",
        "colab_type": "text"
      },
      "cell_type": "markdown",
      "source": [
        "<h3> Jaccard Metric score </h3>"
      ]
    },
    {
      "metadata": {
        "id": "msQs0BakNuaP",
        "colab_type": "code",
        "colab": {
          "base_uri": "https://localhost:8080/",
          "height": 68
        },
        "outputId": "271d1a0a-68f6-453b-c7d8-64a87f4b33c6"
      },
      "cell_type": "code",
      "source": [
        "from sklearn.metrics import jaccard_similarity_score\n",
        "\n",
        "print(\"Linear SVC Jaccard score: {}\" .format(jaccard_similarity_score(y_test, y_pred_svc)))\n",
        "print(\"Logisitc Regression Jaccard score: {}\" .format(jaccard_similarity_score(y_test, y_pred)))\n",
        "print(\"Random Forest Jaccard score: {}\" .format(jaccard_similarity_score(y_test, pred_rfc)))"
      ],
      "execution_count": 41,
      "outputs": [
        {
          "output_type": "stream",
          "text": [
            "Linear SVC Jaccard score: 0.501822363765039\n",
            "Logisitc Regression Jaccard score: 0.43408323806412974\n",
            "Random Forest Jaccard score: 0.4255593663236975\n"
          ],
          "name": "stdout"
        }
      ]
    },
    {
      "metadata": {
        "id": "_OU5_6mCSWgS",
        "colab_type": "text"
      },
      "cell_type": "markdown",
      "source": [
        "<h3> Hamming Loss score </h3>"
      ]
    },
    {
      "metadata": {
        "id": "L6Nl5UQwSVow",
        "colab_type": "code",
        "colab": {
          "base_uri": "https://localhost:8080/",
          "height": 68
        },
        "outputId": "ad86ea92-19ec-4327-880d-f6f39a420d79"
      },
      "cell_type": "code",
      "source": [
        "from sklearn.metrics import hamming_loss\n",
        "\n",
        "print(\"Linear SVC HL score: {}\" .format(hamming_loss(y_test, y_pred_svc)))\n",
        "print(\"Logisitc HL score: {}\" .format(hamming_loss(y_test, y_pred)))\n",
        "print(\"Random Forest HL score: {}\" .format(hamming_loss(y_test, pred_rfc)))"
      ],
      "execution_count": 42,
      "outputs": [
        {
          "output_type": "stream",
          "text": [
            "Linear SVC HL score: 0.011733423158582394\n",
            "Logisitc HL score: 0.01251531112199902\n",
            "Random Forest HL score: 0.012739874244651315\n"
          ],
          "name": "stdout"
        }
      ]
    },
    {
      "metadata": {
        "id": "FZ1lb5R0Kabn",
        "colab_type": "text"
      },
      "cell_type": "markdown",
      "source": [
        "<h2> Download packages </h2>"
      ]
    },
    {
      "metadata": {
        "id": "ChlTOYXos6Gb",
        "colab_type": "code",
        "outputId": "ac796fb6-e7bb-43c4-b6eb-d81ab48c616d",
        "colab": {
          "base_uri": "https://localhost:8080/",
          "height": 122
        }
      },
      "cell_type": "code",
      "source": [
        "!pip install scikit-multilearn"
      ],
      "execution_count": 0,
      "outputs": [
        {
          "output_type": "stream",
          "text": [
            "Collecting scikit-multilearn\n",
            "\u001b[?25l  Downloading https://files.pythonhosted.org/packages/bb/1f/e6ff649c72a1cdf2c7a1d31eb21705110ce1c5d3e7e26b2cc300e1637272/scikit_multilearn-0.2.0-py3-none-any.whl (89kB)\n",
            "\u001b[K    100% |████████████████████████████████| 92kB 3.4MB/s \n",
            "\u001b[?25hInstalling collected packages: scikit-multilearn\n",
            "Successfully installed scikit-multilearn-0.2.0\n"
          ],
          "name": "stdout"
        }
      ]
    },
    {
      "metadata": {
        "id": "h8NNrDVHtDv8",
        "colab_type": "code",
        "colab": {}
      },
      "cell_type": "code",
      "source": [
        ""
      ],
      "execution_count": 0,
      "outputs": []
    }
  ]
}